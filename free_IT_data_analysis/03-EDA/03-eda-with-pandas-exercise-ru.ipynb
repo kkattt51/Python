{
 "cells": [
  {
   "cell_type": "markdown",
   "metadata": {},
   "source": [
    "# Исследовательский анализ данных (ИАД) с помощью библиотеки Pandas"
   ]
  },
  {
   "cell_type": "markdown",
   "metadata": {},
   "source": [
    "Каждый раз при получении нового набора данных Вам необходимо осуществить исследовательский анализ полученной информации. При этом Вам необходимо выполнить следующие основные задачи:\n",
    "\n",
    "* понять, как выглядят данные\n",
    "* установить, какой у них тип\n",
    "* выяснить возможные проблемы, которые следует устранить\n",
    "* определить, могут ли возникнуть дополнительные проблемы при моделировании данной информации в будущем.\n",
    "\n",
    "В данном уроке у Вас не будет явной задачи по моделированию, что зачастую случается и в реальной жизни. Однако подумайте во время Вашего знакомства с данными, что бы Вы могли сделать с полученной информацией, что бы Вы могли смоделировать с их помощью, и как Ваша модель может помочь владельцу этой информации."
   ]
  },
  {
   "cell_type": "markdown",
   "metadata": {},
   "source": [
    "## Загрузка библиотек"
   ]
  },
  {
   "cell_type": "markdown",
   "metadata": {},
   "source": [
    "Загрузите, пожалуйста, библиотеки необходимые для анализа данных: `numpy`, `pandas`, `matplotlib.pyplot`, и `seaborn`"
   ]
  },
  {
   "cell_type": "code",
   "execution_count": 1,
   "metadata": {},
   "outputs": [],
   "source": [
    "# Импортируйте необходимые библиотеки\n",
    "import numpy as np\n",
    "import pandas as pd\n",
    "import matplotlib.pyplot as plt\n",
    "import seaborn as sns"
   ]
  },
  {
   "cell_type": "markdown",
   "metadata": {},
   "source": [
    "Операция внизу обычно не рекомендуется для использования, но она пожет нам очистить этот блокнот от предупреждающих сообщений, которые могут быть вызваны графиками в библиотеке seaborn. Можете закомментировать эти строки, если хотите увидеть предупреждения на экране."
   ]
  },
  {
   "cell_type": "code",
   "execution_count": 2,
   "metadata": {},
   "outputs": [],
   "source": [
    "import warnings\n",
    "warnings.simplefilter(action='ignore', category=FutureWarning)"
   ]
  },
  {
   "cell_type": "markdown",
   "metadata": {},
   "source": [
    "## Загрузка данных"
   ]
  },
  {
   "cell_type": "markdown",
   "metadata": {},
   "source": [
    "Загрузите файл `retail_data.csv` при помощи подходящего метода из библиотеки pandas. Используйте в качестве индекса созданного датафрэйма (data frame) колонку `\"CustomerID\"`. Выведите на экране первые строки фрэйма, чтобы проверить, что данные импортированы правильно."
   ]
  },
  {
   "cell_type": "code",
   "execution_count": 3,
   "metadata": {},
   "outputs": [],
   "source": [
    "# Загрузите данные\n",
    "customers_wrong = pd.read_csv('data/retail_data.csv')"
   ]
  },
  {
   "cell_type": "code",
   "execution_count": 4,
   "metadata": {
    "scrolled": true
   },
   "outputs": [
    {
     "data": {
      "text/html": [
       "<div>\n",
       "<style scoped>\n",
       "    .dataframe tbody tr th:only-of-type {\n",
       "        vertical-align: middle;\n",
       "    }\n",
       "\n",
       "    .dataframe tbody tr th {\n",
       "        vertical-align: top;\n",
       "    }\n",
       "\n",
       "    .dataframe thead th {\n",
       "        text-align: right;\n",
       "    }\n",
       "</style>\n",
       "<table border=\"1\" class=\"dataframe\">\n",
       "  <thead>\n",
       "    <tr style=\"text-align: right;\">\n",
       "      <th></th>\n",
       "      <th>CustomerID</th>\n",
       "      <th>Country</th>\n",
       "      <th>balance</th>\n",
       "      <th>max_spent</th>\n",
       "      <th>mean_spent</th>\n",
       "      <th>min_spent</th>\n",
       "      <th>n_orders</th>\n",
       "      <th>time_between_orders</th>\n",
       "      <th>total_items</th>\n",
       "      <th>total_items_returned</th>\n",
       "      <th>total_refunded</th>\n",
       "      <th>total_spent</th>\n",
       "    </tr>\n",
       "  </thead>\n",
       "  <tbody>\n",
       "    <tr>\n",
       "      <th>0</th>\n",
       "      <td>12346</td>\n",
       "      <td>United Kingdom</td>\n",
       "      <td>0.00</td>\n",
       "      <td>77183.6</td>\n",
       "      <td>38591.800000</td>\n",
       "      <td>0.0</td>\n",
       "      <td>2.0</td>\n",
       "      <td>NaN</td>\n",
       "      <td>74215.0</td>\n",
       "      <td>-74215.0</td>\n",
       "      <td>-77183.60</td>\n",
       "      <td>77183.60</td>\n",
       "    </tr>\n",
       "    <tr>\n",
       "      <th>1</th>\n",
       "      <td>12348</td>\n",
       "      <td>Finland</td>\n",
       "      <td>3874.60</td>\n",
       "      <td>2248.8</td>\n",
       "      <td>1291.533333</td>\n",
       "      <td>478.8</td>\n",
       "      <td>3.0</td>\n",
       "      <td>54.500000</td>\n",
       "      <td>6876.0</td>\n",
       "      <td>0.0</td>\n",
       "      <td>0.00</td>\n",
       "      <td>3874.60</td>\n",
       "    </tr>\n",
       "    <tr>\n",
       "      <th>2</th>\n",
       "      <td>12350</td>\n",
       "      <td>Norway</td>\n",
       "      <td>294.40</td>\n",
       "      <td>294.4</td>\n",
       "      <td>294.400000</td>\n",
       "      <td>294.4</td>\n",
       "      <td>1.0</td>\n",
       "      <td>NaN</td>\n",
       "      <td>196.0</td>\n",
       "      <td>0.0</td>\n",
       "      <td>0.00</td>\n",
       "      <td>294.40</td>\n",
       "    </tr>\n",
       "    <tr>\n",
       "      <th>3</th>\n",
       "      <td>12352</td>\n",
       "      <td>Norway</td>\n",
       "      <td>1845.13</td>\n",
       "      <td>1054.1</td>\n",
       "      <td>393.092000</td>\n",
       "      <td>0.0</td>\n",
       "      <td>5.0</td>\n",
       "      <td>11.333333</td>\n",
       "      <td>774.0</td>\n",
       "      <td>-63.0</td>\n",
       "      <td>-120.33</td>\n",
       "      <td>1965.46</td>\n",
       "    </tr>\n",
       "    <tr>\n",
       "      <th>4</th>\n",
       "      <td>12354</td>\n",
       "      <td>Spain</td>\n",
       "      <td>1079.40</td>\n",
       "      <td>1079.4</td>\n",
       "      <td>1079.400000</td>\n",
       "      <td>1079.4</td>\n",
       "      <td>1.0</td>\n",
       "      <td>NaN</td>\n",
       "      <td>530.0</td>\n",
       "      <td>0.0</td>\n",
       "      <td>0.00</td>\n",
       "      <td>1079.40</td>\n",
       "    </tr>\n",
       "  </tbody>\n",
       "</table>\n",
       "</div>"
      ],
      "text/plain": [
       "   CustomerID         Country  balance  max_spent    mean_spent  min_spent  \\\n",
       "0       12346  United Kingdom     0.00    77183.6  38591.800000        0.0   \n",
       "1       12348         Finland  3874.60     2248.8   1291.533333      478.8   \n",
       "2       12350          Norway   294.40      294.4    294.400000      294.4   \n",
       "3       12352          Norway  1845.13     1054.1    393.092000        0.0   \n",
       "4       12354           Spain  1079.40     1079.4   1079.400000     1079.4   \n",
       "\n",
       "   n_orders  time_between_orders  total_items  total_items_returned  \\\n",
       "0       2.0                  NaN      74215.0              -74215.0   \n",
       "1       3.0            54.500000       6876.0                   0.0   \n",
       "2       1.0                  NaN        196.0                   0.0   \n",
       "3       5.0            11.333333        774.0                 -63.0   \n",
       "4       1.0                  NaN        530.0                   0.0   \n",
       "\n",
       "   total_refunded  total_spent  \n",
       "0       -77183.60     77183.60  \n",
       "1            0.00      3874.60  \n",
       "2            0.00       294.40  \n",
       "3         -120.33      1965.46  \n",
       "4            0.00      1079.40  "
      ]
     },
     "execution_count": 4,
     "metadata": {},
     "output_type": "execute_result"
    }
   ],
   "source": [
    "# Выведите на экран несколько строк фрэйма\n",
    "customers_wrong.head()"
   ]
  },
  {
   "cell_type": "code",
   "execution_count": 5,
   "metadata": {},
   "outputs": [],
   "source": [
    "customers = pd.read_csv('data/retail_data.csv', index_col=\"CustomerID\")"
   ]
  },
  {
   "cell_type": "code",
   "execution_count": 6,
   "metadata": {
    "scrolled": true
   },
   "outputs": [
    {
     "data": {
      "text/html": [
       "<div>\n",
       "<style scoped>\n",
       "    .dataframe tbody tr th:only-of-type {\n",
       "        vertical-align: middle;\n",
       "    }\n",
       "\n",
       "    .dataframe tbody tr th {\n",
       "        vertical-align: top;\n",
       "    }\n",
       "\n",
       "    .dataframe thead th {\n",
       "        text-align: right;\n",
       "    }\n",
       "</style>\n",
       "<table border=\"1\" class=\"dataframe\">\n",
       "  <thead>\n",
       "    <tr style=\"text-align: right;\">\n",
       "      <th></th>\n",
       "      <th>Country</th>\n",
       "      <th>balance</th>\n",
       "      <th>max_spent</th>\n",
       "      <th>mean_spent</th>\n",
       "      <th>min_spent</th>\n",
       "      <th>n_orders</th>\n",
       "      <th>time_between_orders</th>\n",
       "      <th>total_items</th>\n",
       "      <th>total_items_returned</th>\n",
       "      <th>total_refunded</th>\n",
       "      <th>total_spent</th>\n",
       "    </tr>\n",
       "    <tr>\n",
       "      <th>CustomerID</th>\n",
       "      <th></th>\n",
       "      <th></th>\n",
       "      <th></th>\n",
       "      <th></th>\n",
       "      <th></th>\n",
       "      <th></th>\n",
       "      <th></th>\n",
       "      <th></th>\n",
       "      <th></th>\n",
       "      <th></th>\n",
       "      <th></th>\n",
       "    </tr>\n",
       "  </thead>\n",
       "  <tbody>\n",
       "    <tr>\n",
       "      <th>12346</th>\n",
       "      <td>United Kingdom</td>\n",
       "      <td>0.00</td>\n",
       "      <td>77183.6</td>\n",
       "      <td>38591.800000</td>\n",
       "      <td>0.0</td>\n",
       "      <td>2.0</td>\n",
       "      <td>NaN</td>\n",
       "      <td>74215.0</td>\n",
       "      <td>-74215.0</td>\n",
       "      <td>-77183.60</td>\n",
       "      <td>77183.60</td>\n",
       "    </tr>\n",
       "    <tr>\n",
       "      <th>12348</th>\n",
       "      <td>Finland</td>\n",
       "      <td>3874.60</td>\n",
       "      <td>2248.8</td>\n",
       "      <td>1291.533333</td>\n",
       "      <td>478.8</td>\n",
       "      <td>3.0</td>\n",
       "      <td>54.500000</td>\n",
       "      <td>6876.0</td>\n",
       "      <td>0.0</td>\n",
       "      <td>0.00</td>\n",
       "      <td>3874.60</td>\n",
       "    </tr>\n",
       "    <tr>\n",
       "      <th>12350</th>\n",
       "      <td>Norway</td>\n",
       "      <td>294.40</td>\n",
       "      <td>294.4</td>\n",
       "      <td>294.400000</td>\n",
       "      <td>294.4</td>\n",
       "      <td>1.0</td>\n",
       "      <td>NaN</td>\n",
       "      <td>196.0</td>\n",
       "      <td>0.0</td>\n",
       "      <td>0.00</td>\n",
       "      <td>294.40</td>\n",
       "    </tr>\n",
       "    <tr>\n",
       "      <th>12352</th>\n",
       "      <td>Norway</td>\n",
       "      <td>1845.13</td>\n",
       "      <td>1054.1</td>\n",
       "      <td>393.092000</td>\n",
       "      <td>0.0</td>\n",
       "      <td>5.0</td>\n",
       "      <td>11.333333</td>\n",
       "      <td>774.0</td>\n",
       "      <td>-63.0</td>\n",
       "      <td>-120.33</td>\n",
       "      <td>1965.46</td>\n",
       "    </tr>\n",
       "    <tr>\n",
       "      <th>12354</th>\n",
       "      <td>Spain</td>\n",
       "      <td>1079.40</td>\n",
       "      <td>1079.4</td>\n",
       "      <td>1079.400000</td>\n",
       "      <td>1079.4</td>\n",
       "      <td>1.0</td>\n",
       "      <td>NaN</td>\n",
       "      <td>530.0</td>\n",
       "      <td>0.0</td>\n",
       "      <td>0.00</td>\n",
       "      <td>1079.40</td>\n",
       "    </tr>\n",
       "  </tbody>\n",
       "</table>\n",
       "</div>"
      ],
      "text/plain": [
       "                   Country  balance  max_spent    mean_spent  min_spent  \\\n",
       "CustomerID                                                                \n",
       "12346       United Kingdom     0.00    77183.6  38591.800000        0.0   \n",
       "12348              Finland  3874.60     2248.8   1291.533333      478.8   \n",
       "12350               Norway   294.40      294.4    294.400000      294.4   \n",
       "12352               Norway  1845.13     1054.1    393.092000        0.0   \n",
       "12354                Spain  1079.40     1079.4   1079.400000     1079.4   \n",
       "\n",
       "            n_orders  time_between_orders  total_items  total_items_returned  \\\n",
       "CustomerID                                                                     \n",
       "12346            2.0                  NaN      74215.0              -74215.0   \n",
       "12348            3.0            54.500000       6876.0                   0.0   \n",
       "12350            1.0                  NaN        196.0                   0.0   \n",
       "12352            5.0            11.333333        774.0                 -63.0   \n",
       "12354            1.0                  NaN        530.0                   0.0   \n",
       "\n",
       "            total_refunded  total_spent  \n",
       "CustomerID                               \n",
       "12346            -77183.60     77183.60  \n",
       "12348                 0.00      3874.60  \n",
       "12350                 0.00       294.40  \n",
       "12352              -120.33      1965.46  \n",
       "12354                 0.00      1079.40  "
      ]
     },
     "execution_count": 6,
     "metadata": {},
     "output_type": "execute_result"
    }
   ],
   "source": [
    "customers.head()"
   ]
  },
  {
   "cell_type": "code",
   "execution_count": 7,
   "metadata": {},
   "outputs": [
    {
     "data": {
      "text/plain": [
       "Country                 United Kingdom\n",
       "balance                              0\n",
       "max_spent                      77183.6\n",
       "mean_spent                     38591.8\n",
       "min_spent                            0\n",
       "n_orders                             2\n",
       "time_between_orders                NaN\n",
       "total_items                      74215\n",
       "total_items_returned            -74215\n",
       "total_refunded                -77183.6\n",
       "total_spent                    77183.6\n",
       "Name: 12346, dtype: object"
      ]
     },
     "execution_count": 7,
     "metadata": {},
     "output_type": "execute_result"
    }
   ],
   "source": [
    "customers.iloc[0]"
   ]
  },
  {
   "cell_type": "code",
   "execution_count": 8,
   "metadata": {},
   "outputs": [
    {
     "data": {
      "text/html": [
       "<div>\n",
       "<style scoped>\n",
       "    .dataframe tbody tr th:only-of-type {\n",
       "        vertical-align: middle;\n",
       "    }\n",
       "\n",
       "    .dataframe tbody tr th {\n",
       "        vertical-align: top;\n",
       "    }\n",
       "\n",
       "    .dataframe thead th {\n",
       "        text-align: right;\n",
       "    }\n",
       "</style>\n",
       "<table border=\"1\" class=\"dataframe\">\n",
       "  <thead>\n",
       "    <tr style=\"text-align: right;\">\n",
       "      <th></th>\n",
       "      <th>Country</th>\n",
       "      <th>balance</th>\n",
       "      <th>max_spent</th>\n",
       "      <th>mean_spent</th>\n",
       "      <th>min_spent</th>\n",
       "      <th>n_orders</th>\n",
       "      <th>time_between_orders</th>\n",
       "      <th>total_items</th>\n",
       "      <th>total_items_returned</th>\n",
       "      <th>total_refunded</th>\n",
       "      <th>total_spent</th>\n",
       "    </tr>\n",
       "    <tr>\n",
       "      <th>CustomerID</th>\n",
       "      <th></th>\n",
       "      <th></th>\n",
       "      <th></th>\n",
       "      <th></th>\n",
       "      <th></th>\n",
       "      <th></th>\n",
       "      <th></th>\n",
       "      <th></th>\n",
       "      <th></th>\n",
       "      <th></th>\n",
       "      <th></th>\n",
       "    </tr>\n",
       "  </thead>\n",
       "  <tbody>\n",
       "    <tr>\n",
       "      <th>12346</th>\n",
       "      <td>United Kingdom</td>\n",
       "      <td>0.00</td>\n",
       "      <td>77183.60</td>\n",
       "      <td>38591.800000</td>\n",
       "      <td>0.00</td>\n",
       "      <td>2.0</td>\n",
       "      <td>NaN</td>\n",
       "      <td>74215.0</td>\n",
       "      <td>-74215.0</td>\n",
       "      <td>-77183.60</td>\n",
       "      <td>77183.60</td>\n",
       "    </tr>\n",
       "    <tr>\n",
       "      <th>12348</th>\n",
       "      <td>Finland</td>\n",
       "      <td>3874.60</td>\n",
       "      <td>2248.80</td>\n",
       "      <td>1291.533333</td>\n",
       "      <td>478.80</td>\n",
       "      <td>3.0</td>\n",
       "      <td>54.500000</td>\n",
       "      <td>6876.0</td>\n",
       "      <td>0.0</td>\n",
       "      <td>0.00</td>\n",
       "      <td>3874.60</td>\n",
       "    </tr>\n",
       "    <tr>\n",
       "      <th>12350</th>\n",
       "      <td>Norway</td>\n",
       "      <td>294.40</td>\n",
       "      <td>294.40</td>\n",
       "      <td>294.400000</td>\n",
       "      <td>294.40</td>\n",
       "      <td>1.0</td>\n",
       "      <td>NaN</td>\n",
       "      <td>196.0</td>\n",
       "      <td>0.0</td>\n",
       "      <td>0.00</td>\n",
       "      <td>294.40</td>\n",
       "    </tr>\n",
       "    <tr>\n",
       "      <th>12352</th>\n",
       "      <td>Norway</td>\n",
       "      <td>1845.13</td>\n",
       "      <td>1054.10</td>\n",
       "      <td>393.092000</td>\n",
       "      <td>0.00</td>\n",
       "      <td>5.0</td>\n",
       "      <td>11.333333</td>\n",
       "      <td>774.0</td>\n",
       "      <td>-63.0</td>\n",
       "      <td>-120.33</td>\n",
       "      <td>1965.46</td>\n",
       "    </tr>\n",
       "    <tr>\n",
       "      <th>12354</th>\n",
       "      <td>Spain</td>\n",
       "      <td>1079.40</td>\n",
       "      <td>1079.40</td>\n",
       "      <td>1079.400000</td>\n",
       "      <td>1079.40</td>\n",
       "      <td>1.0</td>\n",
       "      <td>NaN</td>\n",
       "      <td>530.0</td>\n",
       "      <td>0.0</td>\n",
       "      <td>0.00</td>\n",
       "      <td>1079.40</td>\n",
       "    </tr>\n",
       "    <tr>\n",
       "      <th>12356</th>\n",
       "      <td>Portugal</td>\n",
       "      <td>6621.63</td>\n",
       "      <td>5011.34</td>\n",
       "      <td>3310.815000</td>\n",
       "      <td>1610.29</td>\n",
       "      <td>2.0</td>\n",
       "      <td>80.000000</td>\n",
       "      <td>4455.0</td>\n",
       "      <td>0.0</td>\n",
       "      <td>0.00</td>\n",
       "      <td>6621.63</td>\n",
       "    </tr>\n",
       "    <tr>\n",
       "      <th>12358</th>\n",
       "      <td>Austria</td>\n",
       "      <td>404.86</td>\n",
       "      <td>404.86</td>\n",
       "      <td>404.860000</td>\n",
       "      <td>404.86</td>\n",
       "      <td>1.0</td>\n",
       "      <td>NaN</td>\n",
       "      <td>98.0</td>\n",
       "      <td>0.0</td>\n",
       "      <td>0.00</td>\n",
       "      <td>404.86</td>\n",
       "    </tr>\n",
       "    <tr>\n",
       "      <th>12360</th>\n",
       "      <td>Austria</td>\n",
       "      <td>4359.34</td>\n",
       "      <td>2984.60</td>\n",
       "      <td>2179.670000</td>\n",
       "      <td>1374.74</td>\n",
       "      <td>2.0</td>\n",
       "      <td>88.000000</td>\n",
       "      <td>2116.0</td>\n",
       "      <td>0.0</td>\n",
       "      <td>0.00</td>\n",
       "      <td>4359.34</td>\n",
       "    </tr>\n",
       "    <tr>\n",
       "      <th>12361</th>\n",
       "      <td>Belgium</td>\n",
       "      <td>174.90</td>\n",
       "      <td>174.90</td>\n",
       "      <td>174.900000</td>\n",
       "      <td>174.90</td>\n",
       "      <td>1.0</td>\n",
       "      <td>NaN</td>\n",
       "      <td>90.0</td>\n",
       "      <td>0.0</td>\n",
       "      <td>0.00</td>\n",
       "      <td>174.90</td>\n",
       "    </tr>\n",
       "    <tr>\n",
       "      <th>12362</th>\n",
       "      <td>Belgium</td>\n",
       "      <td>4700.73</td>\n",
       "      <td>1437.00</td>\n",
       "      <td>787.255000</td>\n",
       "      <td>0.00</td>\n",
       "      <td>6.0</td>\n",
       "      <td>58.000000</td>\n",
       "      <td>2929.0</td>\n",
       "      <td>-10.0</td>\n",
       "      <td>-22.80</td>\n",
       "      <td>4723.53</td>\n",
       "    </tr>\n",
       "  </tbody>\n",
       "</table>\n",
       "</div>"
      ],
      "text/plain": [
       "                   Country  balance  max_spent    mean_spent  min_spent  \\\n",
       "CustomerID                                                                \n",
       "12346       United Kingdom     0.00   77183.60  38591.800000       0.00   \n",
       "12348              Finland  3874.60    2248.80   1291.533333     478.80   \n",
       "12350               Norway   294.40     294.40    294.400000     294.40   \n",
       "12352               Norway  1845.13    1054.10    393.092000       0.00   \n",
       "12354                Spain  1079.40    1079.40   1079.400000    1079.40   \n",
       "12356             Portugal  6621.63    5011.34   3310.815000    1610.29   \n",
       "12358              Austria   404.86     404.86    404.860000     404.86   \n",
       "12360              Austria  4359.34    2984.60   2179.670000    1374.74   \n",
       "12361              Belgium   174.90     174.90    174.900000     174.90   \n",
       "12362              Belgium  4700.73    1437.00    787.255000       0.00   \n",
       "\n",
       "            n_orders  time_between_orders  total_items  total_items_returned  \\\n",
       "CustomerID                                                                     \n",
       "12346            2.0                  NaN      74215.0              -74215.0   \n",
       "12348            3.0            54.500000       6876.0                   0.0   \n",
       "12350            1.0                  NaN        196.0                   0.0   \n",
       "12352            5.0            11.333333        774.0                 -63.0   \n",
       "12354            1.0                  NaN        530.0                   0.0   \n",
       "12356            2.0            80.000000       4455.0                   0.0   \n",
       "12358            1.0                  NaN         98.0                   0.0   \n",
       "12360            2.0            88.000000       2116.0                   0.0   \n",
       "12361            1.0                  NaN         90.0                   0.0   \n",
       "12362            6.0            58.000000       2929.0                 -10.0   \n",
       "\n",
       "            total_refunded  total_spent  \n",
       "CustomerID                               \n",
       "12346            -77183.60     77183.60  \n",
       "12348                 0.00      3874.60  \n",
       "12350                 0.00       294.40  \n",
       "12352              -120.33      1965.46  \n",
       "12354                 0.00      1079.40  \n",
       "12356                 0.00      6621.63  \n",
       "12358                 0.00       404.86  \n",
       "12360                 0.00      4359.34  \n",
       "12361                 0.00       174.90  \n",
       "12362               -22.80      4723.53  "
      ]
     },
     "execution_count": 8,
     "metadata": {},
     "output_type": "execute_result"
    }
   ],
   "source": [
    "# Print a few rows of the DataFrame\n",
    "customers.head(10)"
   ]
  },
  {
   "cell_type": "markdown",
   "metadata": {},
   "source": [
    "## Понимание данных"
   ]
  },
  {
   "cell_type": "markdown",
   "metadata": {},
   "source": [
    "Первым делом после того, как Вы убедились, что данные были импортированы верно, Вам следует сделать обзор полученной информации.  Для этого Вам необходимо:\n",
    "1. Определить форму загруженных данных\n",
    "1. Вывести на экран базовую статистику касательно распределения каждого аттрибута, например, среднее значение, стандартное отклонение, количество уникальных значений и т.д. (подсказка: для этого существуют уже готовые методы в классе DataFrame)\n",
    "1. Определить типы всех данных. Понять, выглядят ли они правильно? (ответ: они не совсем верны, подумайте почему. Однако Вам необязательно исправлять их типы для следующих задач)\n",
    "1. Проверить недостающие значения — можно и стоит ли их отфильтровать? Как это может повлиять в дальнейшем на процесс моделирования?"
   ]
  },
  {
   "cell_type": "code",
   "execution_count": 9,
   "metadata": {},
   "outputs": [],
   "source": [
    "customers = customers.reset_index()"
   ]
  },
  {
   "cell_type": "code",
   "execution_count": 10,
   "metadata": {},
   "outputs": [
    {
     "data": {
      "text/html": [
       "<div>\n",
       "<style scoped>\n",
       "    .dataframe tbody tr th:only-of-type {\n",
       "        vertical-align: middle;\n",
       "    }\n",
       "\n",
       "    .dataframe tbody tr th {\n",
       "        vertical-align: top;\n",
       "    }\n",
       "\n",
       "    .dataframe thead th {\n",
       "        text-align: right;\n",
       "    }\n",
       "</style>\n",
       "<table border=\"1\" class=\"dataframe\">\n",
       "  <thead>\n",
       "    <tr style=\"text-align: right;\">\n",
       "      <th></th>\n",
       "      <th>CustomerID</th>\n",
       "      <th>Country</th>\n",
       "      <th>balance</th>\n",
       "      <th>max_spent</th>\n",
       "      <th>mean_spent</th>\n",
       "      <th>min_spent</th>\n",
       "      <th>n_orders</th>\n",
       "      <th>time_between_orders</th>\n",
       "      <th>total_items</th>\n",
       "      <th>total_items_returned</th>\n",
       "      <th>total_refunded</th>\n",
       "      <th>total_spent</th>\n",
       "    </tr>\n",
       "  </thead>\n",
       "  <tbody>\n",
       "    <tr>\n",
       "      <th>0</th>\n",
       "      <td>12346</td>\n",
       "      <td>United Kingdom</td>\n",
       "      <td>0.00</td>\n",
       "      <td>77183.6</td>\n",
       "      <td>38591.800000</td>\n",
       "      <td>0.0</td>\n",
       "      <td>2.0</td>\n",
       "      <td>NaN</td>\n",
       "      <td>74215.0</td>\n",
       "      <td>-74215.0</td>\n",
       "      <td>-77183.60</td>\n",
       "      <td>77183.60</td>\n",
       "    </tr>\n",
       "    <tr>\n",
       "      <th>1</th>\n",
       "      <td>12348</td>\n",
       "      <td>Finland</td>\n",
       "      <td>3874.60</td>\n",
       "      <td>2248.8</td>\n",
       "      <td>1291.533333</td>\n",
       "      <td>478.8</td>\n",
       "      <td>3.0</td>\n",
       "      <td>54.500000</td>\n",
       "      <td>6876.0</td>\n",
       "      <td>0.0</td>\n",
       "      <td>0.00</td>\n",
       "      <td>3874.60</td>\n",
       "    </tr>\n",
       "    <tr>\n",
       "      <th>2</th>\n",
       "      <td>12350</td>\n",
       "      <td>Norway</td>\n",
       "      <td>294.40</td>\n",
       "      <td>294.4</td>\n",
       "      <td>294.400000</td>\n",
       "      <td>294.4</td>\n",
       "      <td>1.0</td>\n",
       "      <td>NaN</td>\n",
       "      <td>196.0</td>\n",
       "      <td>0.0</td>\n",
       "      <td>0.00</td>\n",
       "      <td>294.40</td>\n",
       "    </tr>\n",
       "    <tr>\n",
       "      <th>3</th>\n",
       "      <td>12352</td>\n",
       "      <td>Norway</td>\n",
       "      <td>1845.13</td>\n",
       "      <td>1054.1</td>\n",
       "      <td>393.092000</td>\n",
       "      <td>0.0</td>\n",
       "      <td>5.0</td>\n",
       "      <td>11.333333</td>\n",
       "      <td>774.0</td>\n",
       "      <td>-63.0</td>\n",
       "      <td>-120.33</td>\n",
       "      <td>1965.46</td>\n",
       "    </tr>\n",
       "    <tr>\n",
       "      <th>4</th>\n",
       "      <td>12354</td>\n",
       "      <td>Spain</td>\n",
       "      <td>1079.40</td>\n",
       "      <td>1079.4</td>\n",
       "      <td>1079.400000</td>\n",
       "      <td>1079.4</td>\n",
       "      <td>1.0</td>\n",
       "      <td>NaN</td>\n",
       "      <td>530.0</td>\n",
       "      <td>0.0</td>\n",
       "      <td>0.00</td>\n",
       "      <td>1079.40</td>\n",
       "    </tr>\n",
       "  </tbody>\n",
       "</table>\n",
       "</div>"
      ],
      "text/plain": [
       "   CustomerID         Country  balance  max_spent    mean_spent  min_spent  \\\n",
       "0       12346  United Kingdom     0.00    77183.6  38591.800000        0.0   \n",
       "1       12348         Finland  3874.60     2248.8   1291.533333      478.8   \n",
       "2       12350          Norway   294.40      294.4    294.400000      294.4   \n",
       "3       12352          Norway  1845.13     1054.1    393.092000        0.0   \n",
       "4       12354           Spain  1079.40     1079.4   1079.400000     1079.4   \n",
       "\n",
       "   n_orders  time_between_orders  total_items  total_items_returned  \\\n",
       "0       2.0                  NaN      74215.0              -74215.0   \n",
       "1       3.0            54.500000       6876.0                   0.0   \n",
       "2       1.0                  NaN        196.0                   0.0   \n",
       "3       5.0            11.333333        774.0                 -63.0   \n",
       "4       1.0                  NaN        530.0                   0.0   \n",
       "\n",
       "   total_refunded  total_spent  \n",
       "0       -77183.60     77183.60  \n",
       "1            0.00      3874.60  \n",
       "2            0.00       294.40  \n",
       "3         -120.33      1965.46  \n",
       "4            0.00      1079.40  "
      ]
     },
     "execution_count": 10,
     "metadata": {},
     "output_type": "execute_result"
    }
   ],
   "source": [
    "customers.head()"
   ]
  },
  {
   "cell_type": "code",
   "execution_count": 11,
   "metadata": {},
   "outputs": [
    {
     "data": {
      "text/plain": [
       "(3254, 12)"
      ]
     },
     "execution_count": 11,
     "metadata": {},
     "output_type": "execute_result"
    }
   ],
   "source": [
    "# форма\n",
    "customers.shape"
   ]
  },
  {
   "cell_type": "code",
   "execution_count": 12,
   "metadata": {},
   "outputs": [],
   "source": [
    "?customers.describe"
   ]
  },
  {
   "cell_type": "code",
   "execution_count": 13,
   "metadata": {},
   "outputs": [
    {
     "data": {
      "text/html": [
       "<div>\n",
       "<style scoped>\n",
       "    .dataframe tbody tr th:only-of-type {\n",
       "        vertical-align: middle;\n",
       "    }\n",
       "\n",
       "    .dataframe tbody tr th {\n",
       "        vertical-align: top;\n",
       "    }\n",
       "\n",
       "    .dataframe thead th {\n",
       "        text-align: right;\n",
       "    }\n",
       "</style>\n",
       "<table border=\"1\" class=\"dataframe\">\n",
       "  <thead>\n",
       "    <tr style=\"text-align: right;\">\n",
       "      <th></th>\n",
       "      <th>CustomerID</th>\n",
       "      <th>balance</th>\n",
       "      <th>max_spent</th>\n",
       "      <th>mean_spent</th>\n",
       "      <th>min_spent</th>\n",
       "      <th>n_orders</th>\n",
       "      <th>time_between_orders</th>\n",
       "      <th>total_items</th>\n",
       "      <th>total_items_returned</th>\n",
       "      <th>total_refunded</th>\n",
       "      <th>total_spent</th>\n",
       "    </tr>\n",
       "  </thead>\n",
       "  <tbody>\n",
       "    <tr>\n",
       "      <th>count</th>\n",
       "      <td>3254.000000</td>\n",
       "      <td>3254.000000</td>\n",
       "      <td>3254.000000</td>\n",
       "      <td>3254.000000</td>\n",
       "      <td>3254.000000</td>\n",
       "      <td>3254.000000</td>\n",
       "      <td>1886.000000</td>\n",
       "      <td>3254.000000</td>\n",
       "      <td>3254.000000</td>\n",
       "      <td>3254.000000</td>\n",
       "      <td>3254.000000</td>\n",
       "    </tr>\n",
       "    <tr>\n",
       "      <th>mean</th>\n",
       "      <td>15331.364167</td>\n",
       "      <td>3595.679152</td>\n",
       "      <td>1241.132434</td>\n",
       "      <td>697.714203</td>\n",
       "      <td>336.855298</td>\n",
       "      <td>4.025814</td>\n",
       "      <td>57.565366</td>\n",
       "      <td>2163.921942</td>\n",
       "      <td>-41.103872</td>\n",
       "      <td>-59.520221</td>\n",
       "      <td>3655.199373</td>\n",
       "    </tr>\n",
       "    <tr>\n",
       "      <th>std</th>\n",
       "      <td>1705.821179</td>\n",
       "      <td>12287.159793</td>\n",
       "      <td>2765.253795</td>\n",
       "      <td>1105.379255</td>\n",
       "      <td>592.529725</td>\n",
       "      <td>6.330090</td>\n",
       "      <td>45.195702</td>\n",
       "      <td>6964.880540</td>\n",
       "      <td>1323.201566</td>\n",
       "      <td>1418.811921</td>\n",
       "      <td>12427.666932</td>\n",
       "    </tr>\n",
       "    <tr>\n",
       "      <th>min</th>\n",
       "      <td>12346.000000</td>\n",
       "      <td>-1192.200000</td>\n",
       "      <td>0.000000</td>\n",
       "      <td>0.000000</td>\n",
       "      <td>0.000000</td>\n",
       "      <td>1.000000</td>\n",
       "      <td>0.000000</td>\n",
       "      <td>0.000000</td>\n",
       "      <td>-74215.000000</td>\n",
       "      <td>-77183.600000</td>\n",
       "      <td>0.000000</td>\n",
       "    </tr>\n",
       "    <tr>\n",
       "      <th>25%</th>\n",
       "      <td>13867.500000</td>\n",
       "      <td>330.807500</td>\n",
       "      <td>298.307500</td>\n",
       "      <td>215.720000</td>\n",
       "      <td>0.000000</td>\n",
       "      <td>1.000000</td>\n",
       "      <td>27.000000</td>\n",
       "      <td>175.000000</td>\n",
       "      <td>-3.000000</td>\n",
       "      <td>-12.400000</td>\n",
       "      <td>336.337500</td>\n",
       "    </tr>\n",
       "    <tr>\n",
       "      <th>50%</th>\n",
       "      <td>15302.000000</td>\n",
       "      <td>948.595000</td>\n",
       "      <td>658.430000</td>\n",
       "      <td>463.260000</td>\n",
       "      <td>150.000000</td>\n",
       "      <td>2.000000</td>\n",
       "      <td>45.250000</td>\n",
       "      <td>533.000000</td>\n",
       "      <td>0.000000</td>\n",
       "      <td>0.000000</td>\n",
       "      <td>961.725000</td>\n",
       "    </tr>\n",
       "    <tr>\n",
       "      <th>75%</th>\n",
       "      <td>16804.750000</td>\n",
       "      <td>3198.430000</td>\n",
       "      <td>1358.170000</td>\n",
       "      <td>852.338786</td>\n",
       "      <td>418.197500</td>\n",
       "      <td>4.000000</td>\n",
       "      <td>76.666667</td>\n",
       "      <td>1885.500000</td>\n",
       "      <td>0.000000</td>\n",
       "      <td>0.000000</td>\n",
       "      <td>3217.837500</td>\n",
       "    </tr>\n",
       "    <tr>\n",
       "      <th>max</th>\n",
       "      <td>18287.000000</td>\n",
       "      <td>394689.180000</td>\n",
       "      <td>77183.600000</td>\n",
       "      <td>38591.800000</td>\n",
       "      <td>9885.320000</td>\n",
       "      <td>134.000000</td>\n",
       "      <td>253.000000</td>\n",
       "      <td>148977.000000</td>\n",
       "      <td>0.000000</td>\n",
       "      <td>0.000000</td>\n",
       "      <td>394689.180000</td>\n",
       "    </tr>\n",
       "  </tbody>\n",
       "</table>\n",
       "</div>"
      ],
      "text/plain": [
       "         CustomerID        balance     max_spent    mean_spent    min_spent  \\\n",
       "count   3254.000000    3254.000000   3254.000000   3254.000000  3254.000000   \n",
       "mean   15331.364167    3595.679152   1241.132434    697.714203   336.855298   \n",
       "std     1705.821179   12287.159793   2765.253795   1105.379255   592.529725   \n",
       "min    12346.000000   -1192.200000      0.000000      0.000000     0.000000   \n",
       "25%    13867.500000     330.807500    298.307500    215.720000     0.000000   \n",
       "50%    15302.000000     948.595000    658.430000    463.260000   150.000000   \n",
       "75%    16804.750000    3198.430000   1358.170000    852.338786   418.197500   \n",
       "max    18287.000000  394689.180000  77183.600000  38591.800000  9885.320000   \n",
       "\n",
       "          n_orders  time_between_orders    total_items  total_items_returned  \\\n",
       "count  3254.000000          1886.000000    3254.000000           3254.000000   \n",
       "mean      4.025814            57.565366    2163.921942            -41.103872   \n",
       "std       6.330090            45.195702    6964.880540           1323.201566   \n",
       "min       1.000000             0.000000       0.000000         -74215.000000   \n",
       "25%       1.000000            27.000000     175.000000             -3.000000   \n",
       "50%       2.000000            45.250000     533.000000              0.000000   \n",
       "75%       4.000000            76.666667    1885.500000              0.000000   \n",
       "max     134.000000           253.000000  148977.000000              0.000000   \n",
       "\n",
       "       total_refunded    total_spent  \n",
       "count     3254.000000    3254.000000  \n",
       "mean       -59.520221    3655.199373  \n",
       "std       1418.811921   12427.666932  \n",
       "min     -77183.600000       0.000000  \n",
       "25%        -12.400000     336.337500  \n",
       "50%          0.000000     961.725000  \n",
       "75%          0.000000    3217.837500  \n",
       "max          0.000000  394689.180000  "
      ]
     },
     "execution_count": 13,
     "metadata": {},
     "output_type": "execute_result"
    }
   ],
   "source": [
    "customers.describe()"
   ]
  },
  {
   "cell_type": "code",
   "execution_count": 14,
   "metadata": {},
   "outputs": [
    {
     "data": {
      "text/html": [
       "<div>\n",
       "<style scoped>\n",
       "    .dataframe tbody tr th:only-of-type {\n",
       "        vertical-align: middle;\n",
       "    }\n",
       "\n",
       "    .dataframe tbody tr th {\n",
       "        vertical-align: top;\n",
       "    }\n",
       "\n",
       "    .dataframe thead th {\n",
       "        text-align: right;\n",
       "    }\n",
       "</style>\n",
       "<table border=\"1\" class=\"dataframe\">\n",
       "  <thead>\n",
       "    <tr style=\"text-align: right;\">\n",
       "      <th></th>\n",
       "      <th>CustomerID</th>\n",
       "      <th>Country</th>\n",
       "      <th>balance</th>\n",
       "      <th>max_spent</th>\n",
       "      <th>mean_spent</th>\n",
       "      <th>min_spent</th>\n",
       "      <th>n_orders</th>\n",
       "      <th>time_between_orders</th>\n",
       "      <th>total_items</th>\n",
       "      <th>total_items_returned</th>\n",
       "      <th>total_refunded</th>\n",
       "      <th>total_spent</th>\n",
       "    </tr>\n",
       "  </thead>\n",
       "  <tbody>\n",
       "    <tr>\n",
       "      <th>count</th>\n",
       "      <td>3254.000000</td>\n",
       "      <td>3254</td>\n",
       "      <td>3254.000000</td>\n",
       "      <td>3254.000000</td>\n",
       "      <td>3254.000000</td>\n",
       "      <td>3254.000000</td>\n",
       "      <td>3254.000000</td>\n",
       "      <td>1886.000000</td>\n",
       "      <td>3254.000000</td>\n",
       "      <td>3254.000000</td>\n",
       "      <td>3254.000000</td>\n",
       "      <td>3254.000000</td>\n",
       "    </tr>\n",
       "    <tr>\n",
       "      <th>unique</th>\n",
       "      <td>NaN</td>\n",
       "      <td>11</td>\n",
       "      <td>NaN</td>\n",
       "      <td>NaN</td>\n",
       "      <td>NaN</td>\n",
       "      <td>NaN</td>\n",
       "      <td>NaN</td>\n",
       "      <td>NaN</td>\n",
       "      <td>NaN</td>\n",
       "      <td>NaN</td>\n",
       "      <td>NaN</td>\n",
       "      <td>NaN</td>\n",
       "    </tr>\n",
       "    <tr>\n",
       "      <th>top</th>\n",
       "      <td>NaN</td>\n",
       "      <td>United Kingdom</td>\n",
       "      <td>NaN</td>\n",
       "      <td>NaN</td>\n",
       "      <td>NaN</td>\n",
       "      <td>NaN</td>\n",
       "      <td>NaN</td>\n",
       "      <td>NaN</td>\n",
       "      <td>NaN</td>\n",
       "      <td>NaN</td>\n",
       "      <td>NaN</td>\n",
       "      <td>NaN</td>\n",
       "    </tr>\n",
       "    <tr>\n",
       "      <th>freq</th>\n",
       "      <td>NaN</td>\n",
       "      <td>3013</td>\n",
       "      <td>NaN</td>\n",
       "      <td>NaN</td>\n",
       "      <td>NaN</td>\n",
       "      <td>NaN</td>\n",
       "      <td>NaN</td>\n",
       "      <td>NaN</td>\n",
       "      <td>NaN</td>\n",
       "      <td>NaN</td>\n",
       "      <td>NaN</td>\n",
       "      <td>NaN</td>\n",
       "    </tr>\n",
       "    <tr>\n",
       "      <th>mean</th>\n",
       "      <td>15331.364167</td>\n",
       "      <td>NaN</td>\n",
       "      <td>3595.679152</td>\n",
       "      <td>1241.132434</td>\n",
       "      <td>697.714203</td>\n",
       "      <td>336.855298</td>\n",
       "      <td>4.025814</td>\n",
       "      <td>57.565366</td>\n",
       "      <td>2163.921942</td>\n",
       "      <td>-41.103872</td>\n",
       "      <td>-59.520221</td>\n",
       "      <td>3655.199373</td>\n",
       "    </tr>\n",
       "    <tr>\n",
       "      <th>std</th>\n",
       "      <td>1705.821179</td>\n",
       "      <td>NaN</td>\n",
       "      <td>12287.159793</td>\n",
       "      <td>2765.253795</td>\n",
       "      <td>1105.379255</td>\n",
       "      <td>592.529725</td>\n",
       "      <td>6.330090</td>\n",
       "      <td>45.195702</td>\n",
       "      <td>6964.880540</td>\n",
       "      <td>1323.201566</td>\n",
       "      <td>1418.811921</td>\n",
       "      <td>12427.666932</td>\n",
       "    </tr>\n",
       "    <tr>\n",
       "      <th>min</th>\n",
       "      <td>12346.000000</td>\n",
       "      <td>NaN</td>\n",
       "      <td>-1192.200000</td>\n",
       "      <td>0.000000</td>\n",
       "      <td>0.000000</td>\n",
       "      <td>0.000000</td>\n",
       "      <td>1.000000</td>\n",
       "      <td>0.000000</td>\n",
       "      <td>0.000000</td>\n",
       "      <td>-74215.000000</td>\n",
       "      <td>-77183.600000</td>\n",
       "      <td>0.000000</td>\n",
       "    </tr>\n",
       "    <tr>\n",
       "      <th>25%</th>\n",
       "      <td>13867.500000</td>\n",
       "      <td>NaN</td>\n",
       "      <td>330.807500</td>\n",
       "      <td>298.307500</td>\n",
       "      <td>215.720000</td>\n",
       "      <td>0.000000</td>\n",
       "      <td>1.000000</td>\n",
       "      <td>27.000000</td>\n",
       "      <td>175.000000</td>\n",
       "      <td>-3.000000</td>\n",
       "      <td>-12.400000</td>\n",
       "      <td>336.337500</td>\n",
       "    </tr>\n",
       "    <tr>\n",
       "      <th>50%</th>\n",
       "      <td>15302.000000</td>\n",
       "      <td>NaN</td>\n",
       "      <td>948.595000</td>\n",
       "      <td>658.430000</td>\n",
       "      <td>463.260000</td>\n",
       "      <td>150.000000</td>\n",
       "      <td>2.000000</td>\n",
       "      <td>45.250000</td>\n",
       "      <td>533.000000</td>\n",
       "      <td>0.000000</td>\n",
       "      <td>0.000000</td>\n",
       "      <td>961.725000</td>\n",
       "    </tr>\n",
       "    <tr>\n",
       "      <th>75%</th>\n",
       "      <td>16804.750000</td>\n",
       "      <td>NaN</td>\n",
       "      <td>3198.430000</td>\n",
       "      <td>1358.170000</td>\n",
       "      <td>852.338786</td>\n",
       "      <td>418.197500</td>\n",
       "      <td>4.000000</td>\n",
       "      <td>76.666667</td>\n",
       "      <td>1885.500000</td>\n",
       "      <td>0.000000</td>\n",
       "      <td>0.000000</td>\n",
       "      <td>3217.837500</td>\n",
       "    </tr>\n",
       "    <tr>\n",
       "      <th>max</th>\n",
       "      <td>18287.000000</td>\n",
       "      <td>NaN</td>\n",
       "      <td>394689.180000</td>\n",
       "      <td>77183.600000</td>\n",
       "      <td>38591.800000</td>\n",
       "      <td>9885.320000</td>\n",
       "      <td>134.000000</td>\n",
       "      <td>253.000000</td>\n",
       "      <td>148977.000000</td>\n",
       "      <td>0.000000</td>\n",
       "      <td>0.000000</td>\n",
       "      <td>394689.180000</td>\n",
       "    </tr>\n",
       "  </tbody>\n",
       "</table>\n",
       "</div>"
      ],
      "text/plain": [
       "          CustomerID         Country        balance     max_spent  \\\n",
       "count    3254.000000            3254    3254.000000   3254.000000   \n",
       "unique           NaN              11            NaN           NaN   \n",
       "top              NaN  United Kingdom            NaN           NaN   \n",
       "freq             NaN            3013            NaN           NaN   \n",
       "mean    15331.364167             NaN    3595.679152   1241.132434   \n",
       "std      1705.821179             NaN   12287.159793   2765.253795   \n",
       "min     12346.000000             NaN   -1192.200000      0.000000   \n",
       "25%     13867.500000             NaN     330.807500    298.307500   \n",
       "50%     15302.000000             NaN     948.595000    658.430000   \n",
       "75%     16804.750000             NaN    3198.430000   1358.170000   \n",
       "max     18287.000000             NaN  394689.180000  77183.600000   \n",
       "\n",
       "          mean_spent    min_spent     n_orders  time_between_orders  \\\n",
       "count    3254.000000  3254.000000  3254.000000          1886.000000   \n",
       "unique           NaN          NaN          NaN                  NaN   \n",
       "top              NaN          NaN          NaN                  NaN   \n",
       "freq             NaN          NaN          NaN                  NaN   \n",
       "mean      697.714203   336.855298     4.025814            57.565366   \n",
       "std      1105.379255   592.529725     6.330090            45.195702   \n",
       "min         0.000000     0.000000     1.000000             0.000000   \n",
       "25%       215.720000     0.000000     1.000000            27.000000   \n",
       "50%       463.260000   150.000000     2.000000            45.250000   \n",
       "75%       852.338786   418.197500     4.000000            76.666667   \n",
       "max     38591.800000  9885.320000   134.000000           253.000000   \n",
       "\n",
       "          total_items  total_items_returned  total_refunded    total_spent  \n",
       "count     3254.000000           3254.000000     3254.000000    3254.000000  \n",
       "unique            NaN                   NaN             NaN            NaN  \n",
       "top               NaN                   NaN             NaN            NaN  \n",
       "freq              NaN                   NaN             NaN            NaN  \n",
       "mean      2163.921942            -41.103872      -59.520221    3655.199373  \n",
       "std       6964.880540           1323.201566     1418.811921   12427.666932  \n",
       "min          0.000000         -74215.000000   -77183.600000       0.000000  \n",
       "25%        175.000000             -3.000000      -12.400000     336.337500  \n",
       "50%        533.000000              0.000000        0.000000     961.725000  \n",
       "75%       1885.500000              0.000000        0.000000    3217.837500  \n",
       "max     148977.000000              0.000000        0.000000  394689.180000  "
      ]
     },
     "execution_count": 14,
     "metadata": {},
     "output_type": "execute_result"
    }
   ],
   "source": [
    "# статистика\n",
    "customers.describe(include='all')"
   ]
  },
  {
   "cell_type": "code",
   "execution_count": 15,
   "metadata": {},
   "outputs": [
    {
     "data": {
      "text/plain": [
       "CustomerID                int64\n",
       "Country                  object\n",
       "balance                 float64\n",
       "max_spent               float64\n",
       "mean_spent              float64\n",
       "min_spent               float64\n",
       "n_orders                float64\n",
       "time_between_orders     float64\n",
       "total_items             float64\n",
       "total_items_returned    float64\n",
       "total_refunded          float64\n",
       "total_spent             float64\n",
       "dtype: object"
      ]
     },
     "execution_count": 15,
     "metadata": {},
     "output_type": "execute_result"
    }
   ],
   "source": [
    "# тип загруженных данных\n",
    "customers.dtypes"
   ]
  },
  {
   "cell_type": "markdown",
   "metadata": {},
   "source": [
    "Есть ли строки с отсутствующими данными? Выведите их на экран, если такие есть (подсказка: используйте методы `isnull()` и `any()`, чтобы найти все строки с одним или несколькими недостающими значениями)."
   ]
  },
  {
   "cell_type": "code",
   "execution_count": 16,
   "metadata": {},
   "outputs": [
    {
     "data": {
      "text/html": [
       "<div>\n",
       "<style scoped>\n",
       "    .dataframe tbody tr th:only-of-type {\n",
       "        vertical-align: middle;\n",
       "    }\n",
       "\n",
       "    .dataframe tbody tr th {\n",
       "        vertical-align: top;\n",
       "    }\n",
       "\n",
       "    .dataframe thead th {\n",
       "        text-align: right;\n",
       "    }\n",
       "</style>\n",
       "<table border=\"1\" class=\"dataframe\">\n",
       "  <thead>\n",
       "    <tr style=\"text-align: right;\">\n",
       "      <th></th>\n",
       "      <th>CustomerID</th>\n",
       "      <th>Country</th>\n",
       "      <th>balance</th>\n",
       "      <th>max_spent</th>\n",
       "      <th>mean_spent</th>\n",
       "      <th>min_spent</th>\n",
       "      <th>n_orders</th>\n",
       "      <th>time_between_orders</th>\n",
       "      <th>total_items</th>\n",
       "      <th>total_items_returned</th>\n",
       "      <th>total_refunded</th>\n",
       "      <th>total_spent</th>\n",
       "    </tr>\n",
       "  </thead>\n",
       "  <tbody>\n",
       "    <tr>\n",
       "      <th>0</th>\n",
       "      <td>False</td>\n",
       "      <td>False</td>\n",
       "      <td>False</td>\n",
       "      <td>False</td>\n",
       "      <td>False</td>\n",
       "      <td>False</td>\n",
       "      <td>False</td>\n",
       "      <td>True</td>\n",
       "      <td>False</td>\n",
       "      <td>False</td>\n",
       "      <td>False</td>\n",
       "      <td>False</td>\n",
       "    </tr>\n",
       "    <tr>\n",
       "      <th>1</th>\n",
       "      <td>False</td>\n",
       "      <td>False</td>\n",
       "      <td>False</td>\n",
       "      <td>False</td>\n",
       "      <td>False</td>\n",
       "      <td>False</td>\n",
       "      <td>False</td>\n",
       "      <td>False</td>\n",
       "      <td>False</td>\n",
       "      <td>False</td>\n",
       "      <td>False</td>\n",
       "      <td>False</td>\n",
       "    </tr>\n",
       "    <tr>\n",
       "      <th>2</th>\n",
       "      <td>False</td>\n",
       "      <td>False</td>\n",
       "      <td>False</td>\n",
       "      <td>False</td>\n",
       "      <td>False</td>\n",
       "      <td>False</td>\n",
       "      <td>False</td>\n",
       "      <td>True</td>\n",
       "      <td>False</td>\n",
       "      <td>False</td>\n",
       "      <td>False</td>\n",
       "      <td>False</td>\n",
       "    </tr>\n",
       "    <tr>\n",
       "      <th>3</th>\n",
       "      <td>False</td>\n",
       "      <td>False</td>\n",
       "      <td>False</td>\n",
       "      <td>False</td>\n",
       "      <td>False</td>\n",
       "      <td>False</td>\n",
       "      <td>False</td>\n",
       "      <td>False</td>\n",
       "      <td>False</td>\n",
       "      <td>False</td>\n",
       "      <td>False</td>\n",
       "      <td>False</td>\n",
       "    </tr>\n",
       "    <tr>\n",
       "      <th>4</th>\n",
       "      <td>False</td>\n",
       "      <td>False</td>\n",
       "      <td>False</td>\n",
       "      <td>False</td>\n",
       "      <td>False</td>\n",
       "      <td>False</td>\n",
       "      <td>False</td>\n",
       "      <td>True</td>\n",
       "      <td>False</td>\n",
       "      <td>False</td>\n",
       "      <td>False</td>\n",
       "      <td>False</td>\n",
       "    </tr>\n",
       "    <tr>\n",
       "      <th>...</th>\n",
       "      <td>...</td>\n",
       "      <td>...</td>\n",
       "      <td>...</td>\n",
       "      <td>...</td>\n",
       "      <td>...</td>\n",
       "      <td>...</td>\n",
       "      <td>...</td>\n",
       "      <td>...</td>\n",
       "      <td>...</td>\n",
       "      <td>...</td>\n",
       "      <td>...</td>\n",
       "      <td>...</td>\n",
       "    </tr>\n",
       "    <tr>\n",
       "      <th>3249</th>\n",
       "      <td>False</td>\n",
       "      <td>False</td>\n",
       "      <td>False</td>\n",
       "      <td>False</td>\n",
       "      <td>False</td>\n",
       "      <td>False</td>\n",
       "      <td>False</td>\n",
       "      <td>True</td>\n",
       "      <td>False</td>\n",
       "      <td>False</td>\n",
       "      <td>False</td>\n",
       "      <td>False</td>\n",
       "    </tr>\n",
       "    <tr>\n",
       "      <th>3250</th>\n",
       "      <td>False</td>\n",
       "      <td>False</td>\n",
       "      <td>False</td>\n",
       "      <td>False</td>\n",
       "      <td>False</td>\n",
       "      <td>False</td>\n",
       "      <td>False</td>\n",
       "      <td>True</td>\n",
       "      <td>False</td>\n",
       "      <td>False</td>\n",
       "      <td>False</td>\n",
       "      <td>False</td>\n",
       "    </tr>\n",
       "    <tr>\n",
       "      <th>3251</th>\n",
       "      <td>False</td>\n",
       "      <td>False</td>\n",
       "      <td>False</td>\n",
       "      <td>False</td>\n",
       "      <td>False</td>\n",
       "      <td>False</td>\n",
       "      <td>False</td>\n",
       "      <td>True</td>\n",
       "      <td>False</td>\n",
       "      <td>False</td>\n",
       "      <td>False</td>\n",
       "      <td>False</td>\n",
       "    </tr>\n",
       "    <tr>\n",
       "      <th>3252</th>\n",
       "      <td>False</td>\n",
       "      <td>False</td>\n",
       "      <td>False</td>\n",
       "      <td>False</td>\n",
       "      <td>False</td>\n",
       "      <td>False</td>\n",
       "      <td>False</td>\n",
       "      <td>False</td>\n",
       "      <td>False</td>\n",
       "      <td>False</td>\n",
       "      <td>False</td>\n",
       "      <td>False</td>\n",
       "    </tr>\n",
       "    <tr>\n",
       "      <th>3253</th>\n",
       "      <td>False</td>\n",
       "      <td>False</td>\n",
       "      <td>False</td>\n",
       "      <td>False</td>\n",
       "      <td>False</td>\n",
       "      <td>False</td>\n",
       "      <td>False</td>\n",
       "      <td>True</td>\n",
       "      <td>False</td>\n",
       "      <td>False</td>\n",
       "      <td>False</td>\n",
       "      <td>False</td>\n",
       "    </tr>\n",
       "  </tbody>\n",
       "</table>\n",
       "<p>3254 rows × 12 columns</p>\n",
       "</div>"
      ],
      "text/plain": [
       "      CustomerID  Country  balance  max_spent  mean_spent  min_spent  \\\n",
       "0          False    False    False      False       False      False   \n",
       "1          False    False    False      False       False      False   \n",
       "2          False    False    False      False       False      False   \n",
       "3          False    False    False      False       False      False   \n",
       "4          False    False    False      False       False      False   \n",
       "...          ...      ...      ...        ...         ...        ...   \n",
       "3249       False    False    False      False       False      False   \n",
       "3250       False    False    False      False       False      False   \n",
       "3251       False    False    False      False       False      False   \n",
       "3252       False    False    False      False       False      False   \n",
       "3253       False    False    False      False       False      False   \n",
       "\n",
       "      n_orders  time_between_orders  total_items  total_items_returned  \\\n",
       "0        False                 True        False                 False   \n",
       "1        False                False        False                 False   \n",
       "2        False                 True        False                 False   \n",
       "3        False                False        False                 False   \n",
       "4        False                 True        False                 False   \n",
       "...        ...                  ...          ...                   ...   \n",
       "3249     False                 True        False                 False   \n",
       "3250     False                 True        False                 False   \n",
       "3251     False                 True        False                 False   \n",
       "3252     False                False        False                 False   \n",
       "3253     False                 True        False                 False   \n",
       "\n",
       "      total_refunded  total_spent  \n",
       "0              False        False  \n",
       "1              False        False  \n",
       "2              False        False  \n",
       "3              False        False  \n",
       "4              False        False  \n",
       "...              ...          ...  \n",
       "3249           False        False  \n",
       "3250           False        False  \n",
       "3251           False        False  \n",
       "3252           False        False  \n",
       "3253           False        False  \n",
       "\n",
       "[3254 rows x 12 columns]"
      ]
     },
     "execution_count": 16,
     "metadata": {},
     "output_type": "execute_result"
    }
   ],
   "source": [
    "customers.isnull()"
   ]
  },
  {
   "cell_type": "code",
   "execution_count": 17,
   "metadata": {},
   "outputs": [
    {
     "data": {
      "text/plain": [
       "CustomerID              True\n",
       "Country                 True\n",
       "balance                 True\n",
       "max_spent               True\n",
       "mean_spent              True\n",
       "min_spent               True\n",
       "n_orders                True\n",
       "time_between_orders     True\n",
       "total_items             True\n",
       "total_items_returned    True\n",
       "total_refunded          True\n",
       "total_spent             True\n",
       "dtype: bool"
      ]
     },
     "execution_count": 17,
     "metadata": {},
     "output_type": "execute_result"
    }
   ],
   "source": [
    "customers.any()"
   ]
  },
  {
   "cell_type": "code",
   "execution_count": 18,
   "metadata": {},
   "outputs": [
    {
     "data": {
      "text/plain": [
       "0     True\n",
       "1    False\n",
       "2     True\n",
       "3    False\n",
       "4     True\n",
       "5    False\n",
       "6     True\n",
       "7    False\n",
       "8     True\n",
       "9    False\n",
       "dtype: bool"
      ]
     },
     "execution_count": 18,
     "metadata": {},
     "output_type": "execute_result"
    }
   ],
   "source": [
    "customers.isnull().any(axis=1).head(10)"
   ]
  },
  {
   "cell_type": "code",
   "execution_count": 19,
   "metadata": {},
   "outputs": [
    {
     "data": {
      "text/html": [
       "<div>\n",
       "<style scoped>\n",
       "    .dataframe tbody tr th:only-of-type {\n",
       "        vertical-align: middle;\n",
       "    }\n",
       "\n",
       "    .dataframe tbody tr th {\n",
       "        vertical-align: top;\n",
       "    }\n",
       "\n",
       "    .dataframe thead th {\n",
       "        text-align: right;\n",
       "    }\n",
       "</style>\n",
       "<table border=\"1\" class=\"dataframe\">\n",
       "  <thead>\n",
       "    <tr style=\"text-align: right;\">\n",
       "      <th></th>\n",
       "      <th>CustomerID</th>\n",
       "      <th>Country</th>\n",
       "      <th>balance</th>\n",
       "      <th>max_spent</th>\n",
       "      <th>mean_spent</th>\n",
       "      <th>min_spent</th>\n",
       "      <th>n_orders</th>\n",
       "      <th>time_between_orders</th>\n",
       "      <th>total_items</th>\n",
       "      <th>total_items_returned</th>\n",
       "      <th>total_refunded</th>\n",
       "      <th>total_spent</th>\n",
       "    </tr>\n",
       "  </thead>\n",
       "  <tbody>\n",
       "    <tr>\n",
       "      <th>0</th>\n",
       "      <td>12346</td>\n",
       "      <td>United Kingdom</td>\n",
       "      <td>0.00</td>\n",
       "      <td>77183.60</td>\n",
       "      <td>38591.80</td>\n",
       "      <td>0.00</td>\n",
       "      <td>2.0</td>\n",
       "      <td>NaN</td>\n",
       "      <td>74215.0</td>\n",
       "      <td>-74215.0</td>\n",
       "      <td>-77183.60</td>\n",
       "      <td>77183.60</td>\n",
       "    </tr>\n",
       "    <tr>\n",
       "      <th>2</th>\n",
       "      <td>12350</td>\n",
       "      <td>Norway</td>\n",
       "      <td>294.40</td>\n",
       "      <td>294.40</td>\n",
       "      <td>294.40</td>\n",
       "      <td>294.40</td>\n",
       "      <td>1.0</td>\n",
       "      <td>NaN</td>\n",
       "      <td>196.0</td>\n",
       "      <td>0.0</td>\n",
       "      <td>0.00</td>\n",
       "      <td>294.40</td>\n",
       "    </tr>\n",
       "    <tr>\n",
       "      <th>4</th>\n",
       "      <td>12354</td>\n",
       "      <td>Spain</td>\n",
       "      <td>1079.40</td>\n",
       "      <td>1079.40</td>\n",
       "      <td>1079.40</td>\n",
       "      <td>1079.40</td>\n",
       "      <td>1.0</td>\n",
       "      <td>NaN</td>\n",
       "      <td>530.0</td>\n",
       "      <td>0.0</td>\n",
       "      <td>0.00</td>\n",
       "      <td>1079.40</td>\n",
       "    </tr>\n",
       "    <tr>\n",
       "      <th>6</th>\n",
       "      <td>12358</td>\n",
       "      <td>Austria</td>\n",
       "      <td>404.86</td>\n",
       "      <td>404.86</td>\n",
       "      <td>404.86</td>\n",
       "      <td>404.86</td>\n",
       "      <td>1.0</td>\n",
       "      <td>NaN</td>\n",
       "      <td>98.0</td>\n",
       "      <td>0.0</td>\n",
       "      <td>0.00</td>\n",
       "      <td>404.86</td>\n",
       "    </tr>\n",
       "    <tr>\n",
       "      <th>8</th>\n",
       "      <td>12361</td>\n",
       "      <td>Belgium</td>\n",
       "      <td>174.90</td>\n",
       "      <td>174.90</td>\n",
       "      <td>174.90</td>\n",
       "      <td>174.90</td>\n",
       "      <td>1.0</td>\n",
       "      <td>NaN</td>\n",
       "      <td>90.0</td>\n",
       "      <td>0.0</td>\n",
       "      <td>0.00</td>\n",
       "      <td>174.90</td>\n",
       "    </tr>\n",
       "    <tr>\n",
       "      <th>10</th>\n",
       "      <td>12364</td>\n",
       "      <td>Belgium</td>\n",
       "      <td>1840.52</td>\n",
       "      <td>1840.52</td>\n",
       "      <td>1840.52</td>\n",
       "      <td>1840.52</td>\n",
       "      <td>1.0</td>\n",
       "      <td>NaN</td>\n",
       "      <td>1656.0</td>\n",
       "      <td>0.0</td>\n",
       "      <td>0.00</td>\n",
       "      <td>1840.52</td>\n",
       "    </tr>\n",
       "    <tr>\n",
       "      <th>11</th>\n",
       "      <td>12373</td>\n",
       "      <td>Austria</td>\n",
       "      <td>324.60</td>\n",
       "      <td>324.60</td>\n",
       "      <td>324.60</td>\n",
       "      <td>324.60</td>\n",
       "      <td>1.0</td>\n",
       "      <td>NaN</td>\n",
       "      <td>196.0</td>\n",
       "      <td>0.0</td>\n",
       "      <td>0.00</td>\n",
       "      <td>324.60</td>\n",
       "    </tr>\n",
       "    <tr>\n",
       "      <th>13</th>\n",
       "      <td>12378</td>\n",
       "      <td>Switzerland</td>\n",
       "      <td>4008.62</td>\n",
       "      <td>4008.62</td>\n",
       "      <td>4008.62</td>\n",
       "      <td>4008.62</td>\n",
       "      <td>1.0</td>\n",
       "      <td>NaN</td>\n",
       "      <td>2529.0</td>\n",
       "      <td>0.0</td>\n",
       "      <td>0.00</td>\n",
       "      <td>4008.62</td>\n",
       "    </tr>\n",
       "    <tr>\n",
       "      <th>14</th>\n",
       "      <td>12379</td>\n",
       "      <td>Belgium</td>\n",
       "      <td>1117.63</td>\n",
       "      <td>1119.58</td>\n",
       "      <td>559.79</td>\n",
       "      <td>0.00</td>\n",
       "      <td>2.0</td>\n",
       "      <td>NaN</td>\n",
       "      <td>610.0</td>\n",
       "      <td>-1.0</td>\n",
       "      <td>-1.95</td>\n",
       "      <td>1119.58</td>\n",
       "    </tr>\n",
       "    <tr>\n",
       "      <th>15</th>\n",
       "      <td>12380</td>\n",
       "      <td>Belgium</td>\n",
       "      <td>1632.25</td>\n",
       "      <td>1632.25</td>\n",
       "      <td>1632.25</td>\n",
       "      <td>1632.25</td>\n",
       "      <td>1.0</td>\n",
       "      <td>NaN</td>\n",
       "      <td>798.0</td>\n",
       "      <td>0.0</td>\n",
       "      <td>0.00</td>\n",
       "      <td>1632.25</td>\n",
       "    </tr>\n",
       "  </tbody>\n",
       "</table>\n",
       "</div>"
      ],
      "text/plain": [
       "    CustomerID         Country  balance  max_spent  mean_spent  min_spent  \\\n",
       "0        12346  United Kingdom     0.00   77183.60    38591.80       0.00   \n",
       "2        12350          Norway   294.40     294.40      294.40     294.40   \n",
       "4        12354           Spain  1079.40    1079.40     1079.40    1079.40   \n",
       "6        12358         Austria   404.86     404.86      404.86     404.86   \n",
       "8        12361         Belgium   174.90     174.90      174.90     174.90   \n",
       "10       12364         Belgium  1840.52    1840.52     1840.52    1840.52   \n",
       "11       12373         Austria   324.60     324.60      324.60     324.60   \n",
       "13       12378     Switzerland  4008.62    4008.62     4008.62    4008.62   \n",
       "14       12379         Belgium  1117.63    1119.58      559.79       0.00   \n",
       "15       12380         Belgium  1632.25    1632.25     1632.25    1632.25   \n",
       "\n",
       "    n_orders  time_between_orders  total_items  total_items_returned  \\\n",
       "0        2.0                  NaN      74215.0              -74215.0   \n",
       "2        1.0                  NaN        196.0                   0.0   \n",
       "4        1.0                  NaN        530.0                   0.0   \n",
       "6        1.0                  NaN         98.0                   0.0   \n",
       "8        1.0                  NaN         90.0                   0.0   \n",
       "10       1.0                  NaN       1656.0                   0.0   \n",
       "11       1.0                  NaN        196.0                   0.0   \n",
       "13       1.0                  NaN       2529.0                   0.0   \n",
       "14       2.0                  NaN        610.0                  -1.0   \n",
       "15       1.0                  NaN        798.0                   0.0   \n",
       "\n",
       "    total_refunded  total_spent  \n",
       "0        -77183.60     77183.60  \n",
       "2             0.00       294.40  \n",
       "4             0.00      1079.40  \n",
       "6             0.00       404.86  \n",
       "8             0.00       174.90  \n",
       "10            0.00      1840.52  \n",
       "11            0.00       324.60  \n",
       "13            0.00      4008.62  \n",
       "14           -1.95      1119.58  \n",
       "15            0.00      1632.25  "
      ]
     },
     "execution_count": 19,
     "metadata": {},
     "output_type": "execute_result"
    }
   ],
   "source": [
    "# Выведите строки с недостающими данными\n",
    "customers[customers.isnull().any(axis=1)].head(10)"
   ]
  },
  {
   "cell_type": "markdown",
   "metadata": {},
   "source": [
    "Таких, на самом деле, довольно много... но Вы увидете, что в данном случае это имеет смысл. Есть ли строки с недостающими значениями в других менее очевидных колонках? Перепишите предыдущую клетку и добавьте проверку (подсказка: используйте метод `.drop`)."
   ]
  },
  {
   "cell_type": "code",
   "execution_count": 20,
   "metadata": {},
   "outputs": [
    {
     "data": {
      "text/html": [
       "<div>\n",
       "<style scoped>\n",
       "    .dataframe tbody tr th:only-of-type {\n",
       "        vertical-align: middle;\n",
       "    }\n",
       "\n",
       "    .dataframe tbody tr th {\n",
       "        vertical-align: top;\n",
       "    }\n",
       "\n",
       "    .dataframe thead th {\n",
       "        text-align: right;\n",
       "    }\n",
       "</style>\n",
       "<table border=\"1\" class=\"dataframe\">\n",
       "  <thead>\n",
       "    <tr style=\"text-align: right;\">\n",
       "      <th></th>\n",
       "      <th>CustomerID</th>\n",
       "      <th>Country</th>\n",
       "      <th>balance</th>\n",
       "      <th>max_spent</th>\n",
       "      <th>mean_spent</th>\n",
       "      <th>min_spent</th>\n",
       "      <th>n_orders</th>\n",
       "      <th>time_between_orders</th>\n",
       "      <th>total_items</th>\n",
       "      <th>total_items_returned</th>\n",
       "      <th>total_refunded</th>\n",
       "      <th>total_spent</th>\n",
       "    </tr>\n",
       "  </thead>\n",
       "  <tbody>\n",
       "    <tr>\n",
       "      <th>0</th>\n",
       "      <td>12346</td>\n",
       "      <td>United Kingdom</td>\n",
       "      <td>0.00</td>\n",
       "      <td>77183.6</td>\n",
       "      <td>38591.800000</td>\n",
       "      <td>0.0</td>\n",
       "      <td>2.0</td>\n",
       "      <td>NaN</td>\n",
       "      <td>74215.0</td>\n",
       "      <td>-74215.0</td>\n",
       "      <td>-77183.60</td>\n",
       "      <td>77183.60</td>\n",
       "    </tr>\n",
       "    <tr>\n",
       "      <th>1</th>\n",
       "      <td>12348</td>\n",
       "      <td>Finland</td>\n",
       "      <td>3874.60</td>\n",
       "      <td>2248.8</td>\n",
       "      <td>1291.533333</td>\n",
       "      <td>478.8</td>\n",
       "      <td>3.0</td>\n",
       "      <td>54.500000</td>\n",
       "      <td>6876.0</td>\n",
       "      <td>0.0</td>\n",
       "      <td>0.00</td>\n",
       "      <td>3874.60</td>\n",
       "    </tr>\n",
       "    <tr>\n",
       "      <th>2</th>\n",
       "      <td>12350</td>\n",
       "      <td>Norway</td>\n",
       "      <td>294.40</td>\n",
       "      <td>294.4</td>\n",
       "      <td>294.400000</td>\n",
       "      <td>294.4</td>\n",
       "      <td>1.0</td>\n",
       "      <td>NaN</td>\n",
       "      <td>196.0</td>\n",
       "      <td>0.0</td>\n",
       "      <td>0.00</td>\n",
       "      <td>294.40</td>\n",
       "    </tr>\n",
       "    <tr>\n",
       "      <th>3</th>\n",
       "      <td>12352</td>\n",
       "      <td>Norway</td>\n",
       "      <td>1845.13</td>\n",
       "      <td>1054.1</td>\n",
       "      <td>393.092000</td>\n",
       "      <td>0.0</td>\n",
       "      <td>5.0</td>\n",
       "      <td>11.333333</td>\n",
       "      <td>774.0</td>\n",
       "      <td>-63.0</td>\n",
       "      <td>-120.33</td>\n",
       "      <td>1965.46</td>\n",
       "    </tr>\n",
       "    <tr>\n",
       "      <th>4</th>\n",
       "      <td>12354</td>\n",
       "      <td>Spain</td>\n",
       "      <td>1079.40</td>\n",
       "      <td>1079.4</td>\n",
       "      <td>1079.400000</td>\n",
       "      <td>1079.4</td>\n",
       "      <td>1.0</td>\n",
       "      <td>NaN</td>\n",
       "      <td>530.0</td>\n",
       "      <td>0.0</td>\n",
       "      <td>0.00</td>\n",
       "      <td>1079.40</td>\n",
       "    </tr>\n",
       "  </tbody>\n",
       "</table>\n",
       "</div>"
      ],
      "text/plain": [
       "   CustomerID         Country  balance  max_spent    mean_spent  min_spent  \\\n",
       "0       12346  United Kingdom     0.00    77183.6  38591.800000        0.0   \n",
       "1       12348         Finland  3874.60     2248.8   1291.533333      478.8   \n",
       "2       12350          Norway   294.40      294.4    294.400000      294.4   \n",
       "3       12352          Norway  1845.13     1054.1    393.092000        0.0   \n",
       "4       12354           Spain  1079.40     1079.4   1079.400000     1079.4   \n",
       "\n",
       "   n_orders  time_between_orders  total_items  total_items_returned  \\\n",
       "0       2.0                  NaN      74215.0              -74215.0   \n",
       "1       3.0            54.500000       6876.0                   0.0   \n",
       "2       1.0                  NaN        196.0                   0.0   \n",
       "3       5.0            11.333333        774.0                 -63.0   \n",
       "4       1.0                  NaN        530.0                   0.0   \n",
       "\n",
       "   total_refunded  total_spent  \n",
       "0       -77183.60     77183.60  \n",
       "1            0.00      3874.60  \n",
       "2            0.00       294.40  \n",
       "3         -120.33      1965.46  \n",
       "4            0.00      1079.40  "
      ]
     },
     "execution_count": 20,
     "metadata": {},
     "output_type": "execute_result"
    }
   ],
   "source": [
    "customers.head()"
   ]
  },
  {
   "cell_type": "code",
   "execution_count": 21,
   "metadata": {},
   "outputs": [
    {
     "data": {
      "text/html": [
       "<div>\n",
       "<style scoped>\n",
       "    .dataframe tbody tr th:only-of-type {\n",
       "        vertical-align: middle;\n",
       "    }\n",
       "\n",
       "    .dataframe tbody tr th {\n",
       "        vertical-align: top;\n",
       "    }\n",
       "\n",
       "    .dataframe thead th {\n",
       "        text-align: right;\n",
       "    }\n",
       "</style>\n",
       "<table border=\"1\" class=\"dataframe\">\n",
       "  <thead>\n",
       "    <tr style=\"text-align: right;\">\n",
       "      <th></th>\n",
       "      <th>CustomerID</th>\n",
       "      <th>Country</th>\n",
       "      <th>balance</th>\n",
       "      <th>max_spent</th>\n",
       "      <th>mean_spent</th>\n",
       "      <th>min_spent</th>\n",
       "      <th>n_orders</th>\n",
       "      <th>total_items</th>\n",
       "      <th>total_items_returned</th>\n",
       "      <th>total_refunded</th>\n",
       "      <th>total_spent</th>\n",
       "    </tr>\n",
       "  </thead>\n",
       "  <tbody>\n",
       "    <tr>\n",
       "      <th>0</th>\n",
       "      <td>12346</td>\n",
       "      <td>United Kingdom</td>\n",
       "      <td>0.00</td>\n",
       "      <td>77183.6</td>\n",
       "      <td>38591.800000</td>\n",
       "      <td>0.0</td>\n",
       "      <td>2.0</td>\n",
       "      <td>74215.0</td>\n",
       "      <td>-74215.0</td>\n",
       "      <td>-77183.60</td>\n",
       "      <td>77183.60</td>\n",
       "    </tr>\n",
       "    <tr>\n",
       "      <th>1</th>\n",
       "      <td>12348</td>\n",
       "      <td>Finland</td>\n",
       "      <td>3874.60</td>\n",
       "      <td>2248.8</td>\n",
       "      <td>1291.533333</td>\n",
       "      <td>478.8</td>\n",
       "      <td>3.0</td>\n",
       "      <td>6876.0</td>\n",
       "      <td>0.0</td>\n",
       "      <td>0.00</td>\n",
       "      <td>3874.60</td>\n",
       "    </tr>\n",
       "    <tr>\n",
       "      <th>2</th>\n",
       "      <td>12350</td>\n",
       "      <td>Norway</td>\n",
       "      <td>294.40</td>\n",
       "      <td>294.4</td>\n",
       "      <td>294.400000</td>\n",
       "      <td>294.4</td>\n",
       "      <td>1.0</td>\n",
       "      <td>196.0</td>\n",
       "      <td>0.0</td>\n",
       "      <td>0.00</td>\n",
       "      <td>294.40</td>\n",
       "    </tr>\n",
       "    <tr>\n",
       "      <th>3</th>\n",
       "      <td>12352</td>\n",
       "      <td>Norway</td>\n",
       "      <td>1845.13</td>\n",
       "      <td>1054.1</td>\n",
       "      <td>393.092000</td>\n",
       "      <td>0.0</td>\n",
       "      <td>5.0</td>\n",
       "      <td>774.0</td>\n",
       "      <td>-63.0</td>\n",
       "      <td>-120.33</td>\n",
       "      <td>1965.46</td>\n",
       "    </tr>\n",
       "    <tr>\n",
       "      <th>4</th>\n",
       "      <td>12354</td>\n",
       "      <td>Spain</td>\n",
       "      <td>1079.40</td>\n",
       "      <td>1079.4</td>\n",
       "      <td>1079.400000</td>\n",
       "      <td>1079.4</td>\n",
       "      <td>1.0</td>\n",
       "      <td>530.0</td>\n",
       "      <td>0.0</td>\n",
       "      <td>0.00</td>\n",
       "      <td>1079.40</td>\n",
       "    </tr>\n",
       "  </tbody>\n",
       "</table>\n",
       "</div>"
      ],
      "text/plain": [
       "   CustomerID         Country  balance  max_spent    mean_spent  min_spent  \\\n",
       "0       12346  United Kingdom     0.00    77183.6  38591.800000        0.0   \n",
       "1       12348         Finland  3874.60     2248.8   1291.533333      478.8   \n",
       "2       12350          Norway   294.40      294.4    294.400000      294.4   \n",
       "3       12352          Norway  1845.13     1054.1    393.092000        0.0   \n",
       "4       12354           Spain  1079.40     1079.4   1079.400000     1079.4   \n",
       "\n",
       "   n_orders  total_items  total_items_returned  total_refunded  total_spent  \n",
       "0       2.0      74215.0              -74215.0       -77183.60     77183.60  \n",
       "1       3.0       6876.0                   0.0            0.00      3874.60  \n",
       "2       1.0        196.0                   0.0            0.00       294.40  \n",
       "3       5.0        774.0                 -63.0         -120.33      1965.46  \n",
       "4       1.0        530.0                   0.0            0.00      1079.40  "
      ]
     },
     "execution_count": 21,
     "metadata": {},
     "output_type": "execute_result"
    }
   ],
   "source": [
    "customers.drop('time_between_orders', axis=1).head()"
   ]
  },
  {
   "cell_type": "code",
   "execution_count": 22,
   "metadata": {},
   "outputs": [],
   "source": [
    "assert customers.drop('time_between_orders', axis=1).isnull().any(axis=0).sum() == 0"
   ]
  },
  {
   "cell_type": "code",
   "execution_count": 23,
   "metadata": {},
   "outputs": [
    {
     "data": {
      "text/html": [
       "<div>\n",
       "<style scoped>\n",
       "    .dataframe tbody tr th:only-of-type {\n",
       "        vertical-align: middle;\n",
       "    }\n",
       "\n",
       "    .dataframe tbody tr th {\n",
       "        vertical-align: top;\n",
       "    }\n",
       "\n",
       "    .dataframe thead th {\n",
       "        text-align: right;\n",
       "    }\n",
       "</style>\n",
       "<table border=\"1\" class=\"dataframe\">\n",
       "  <thead>\n",
       "    <tr style=\"text-align: right;\">\n",
       "      <th></th>\n",
       "      <th>CustomerID</th>\n",
       "      <th>Country</th>\n",
       "      <th>balance</th>\n",
       "      <th>max_spent</th>\n",
       "      <th>mean_spent</th>\n",
       "      <th>min_spent</th>\n",
       "      <th>n_orders</th>\n",
       "      <th>time_between_orders</th>\n",
       "      <th>total_items</th>\n",
       "      <th>total_items_returned</th>\n",
       "      <th>total_refunded</th>\n",
       "      <th>total_spent</th>\n",
       "    </tr>\n",
       "  </thead>\n",
       "  <tbody>\n",
       "  </tbody>\n",
       "</table>\n",
       "</div>"
      ],
      "text/plain": [
       "Empty DataFrame\n",
       "Columns: [CustomerID, Country, balance, max_spent, mean_spent, min_spent, n_orders, time_between_orders, total_items, total_items_returned, total_refunded, total_spent]\n",
       "Index: []"
      ]
     },
     "execution_count": 23,
     "metadata": {},
     "output_type": "execute_result"
    }
   ],
   "source": [
    "# Другие колонки с недостающими данными?\n",
    "customers[customers.drop('time_between_orders', axis=1).isnull().any(axis=1)]"
   ]
  },
  {
   "cell_type": "markdown",
   "metadata": {},
   "source": [
    "В качестве бонуса напишите тест, проверяющий являются ли значения в колонке целыми или дробными числами. Пропустите это задание, если не сможете справиться с ним  быстро (оно необязательно для последующих задач)."
   ]
  },
  {
   "cell_type": "code",
   "execution_count": 24,
   "metadata": {},
   "outputs": [
    {
     "data": {
      "text/plain": [
       "CustomerID                int64\n",
       "Country                  object\n",
       "balance                 float64\n",
       "max_spent               float64\n",
       "mean_spent              float64\n",
       "min_spent               float64\n",
       "n_orders                float64\n",
       "time_between_orders     float64\n",
       "total_items             float64\n",
       "total_items_returned    float64\n",
       "total_refunded          float64\n",
       "total_spent             float64\n",
       "dtype: object"
      ]
     },
     "execution_count": 24,
     "metadata": {},
     "output_type": "execute_result"
    }
   ],
   "source": [
    "customers.dtypes"
   ]
  },
  {
   "cell_type": "code",
   "execution_count": 25,
   "metadata": {},
   "outputs": [],
   "source": [
    "col_series = customers['max_spent']"
   ]
  },
  {
   "cell_type": "code",
   "execution_count": 26,
   "metadata": {},
   "outputs": [
    {
     "data": {
      "text/plain": [
       "186"
      ]
     },
     "execution_count": 26,
     "metadata": {},
     "output_type": "execute_result"
    }
   ],
   "source": [
    "(col_series.astype('int') == col_series).sum()"
   ]
  },
  {
   "cell_type": "code",
   "execution_count": 27,
   "metadata": {},
   "outputs": [
    {
     "name": "stdout",
     "output_type": "stream",
     "text": [
      "CustomerID\n",
      "Country\n",
      "balance\n",
      "max_spent\n",
      "mean_spent\n",
      "min_spent\n",
      "n_orders\n",
      "time_between_orders\n",
      "total_items\n",
      "total_items_returned\n",
      "total_refunded\n",
      "total_spent\n"
     ]
    }
   ],
   "source": [
    "for col in customers.columns:\n",
    "    print(col)"
   ]
  },
  {
   "cell_type": "code",
   "execution_count": 28,
   "metadata": {
    "scrolled": true
   },
   "outputs": [
    {
     "name": "stdout",
     "output_type": "stream",
     "text": [
      "n_orders looks like an integer\n",
      "Converting it to an integer\n",
      "total_items looks like an integer\n",
      "Converting it to an integer\n",
      "total_items_returned looks like an integer\n",
      "Converting it to an integer\n"
     ]
    },
    {
     "data": {
      "text/plain": [
       "CustomerID                int64\n",
       "Country                  object\n",
       "balance                 float64\n",
       "max_spent               float64\n",
       "mean_spent              float64\n",
       "min_spent               float64\n",
       "n_orders                  int32\n",
       "time_between_orders     float64\n",
       "total_items               int32\n",
       "total_items_returned      int32\n",
       "total_refunded          float64\n",
       "total_spent             float64\n",
       "dtype: object"
      ]
     },
     "execution_count": 28,
     "metadata": {},
     "output_type": "execute_result"
    }
   ],
   "source": [
    "# БОНУС: пропустите это задание, если оно вызывает у Вас трудности. Найдите колонки с целочисленными значениями\n",
    "for col in customers.columns:\n",
    "    col_series = customers[col]\n",
    "    dtype = col_series.dtype\n",
    "    has_missing = col_series.isnull().any()\n",
    "    if dtype == np.dtype('float64') and not has_missing:\n",
    "        if (col_series.astype('int') == col_series).sum() == col_series.shape[0]:\n",
    "            print('{} looks like an integer'.format(col))\n",
    "            print('Converting it to an integer')\n",
    "            customers[col] = customers[col].astype('int')\n",
    "customers.dtypes"
   ]
  },
  {
   "cell_type": "markdown",
   "metadata": {},
   "source": [
    "### ========================== ВОПРОСЫ =========================="
   ]
  },
  {
   "cell_type": "markdown",
   "metadata": {},
   "source": [
    "Чтобы хорошо вполнять ИАД, Вы должны уметь быстро отвечать на простые вопросы касающиеся данных.  Со временем, когда Вы познакомитесь с библиотекой pandas поближе и изучите методы `.groupby`, `.apply`, и др., Вы сможете быстро и легко находить многие нужные Вам ответы. По [этой ссылке](https://pandas.pydata.org/pandas-docs/stable/groupby.html) Вы найдёте много полезной информации о методах pandas, которые могут пригодиться Вам в будущем.\n",
    "\n",
    "А пока попытайтесь дать ответы на приведённые ниже вопросы касательно уже знакомых Вам данных. Эти вопросы расположены в порядке возрастающей сложности, и есть много способов найти на них ответы и, соответственно, отобразить их на экране. В моих решениях я, как правило, стараюсь представить ответы графически, если это подходит и можно легко сделать. Но Вы при желании можете также использовать таблицы или циклы for!\n",
    "\n",
    "Если Вам понравится это задание, то попытайтесь задать себе свои собственные вопросы и ответить на них \n",
    "\n",
    "Используйте Ваше возможность получше почувствовать и узнать этот набор данных."
   ]
  },
  {
   "cell_type": "markdown",
   "metadata": {},
   "source": [
    "#### 1) Сколько существует уникальных клиентов? И какое среднее количество строк на клиента?"
   ]
  },
  {
   "cell_type": "code",
   "execution_count": 29,
   "metadata": {},
   "outputs": [
    {
     "data": {
      "text/plain": [
       "3254"
      ]
     },
     "execution_count": 29,
     "metadata": {},
     "output_type": "execute_result"
    }
   ],
   "source": [
    "# Количество уникальных клиентов\n",
    "nr_customers = customers['CustomerID'].nunique()\n",
    "nr_customers"
   ]
  },
  {
   "cell_type": "code",
   "execution_count": 30,
   "metadata": {},
   "outputs": [
    {
     "data": {
      "text/plain": [
       "3254"
      ]
     },
     "execution_count": 30,
     "metadata": {},
     "output_type": "execute_result"
    }
   ],
   "source": [
    "nr_customers = customers.CustomerID.nunique()\n",
    "nr_customers"
   ]
  },
  {
   "cell_type": "code",
   "execution_count": 31,
   "metadata": {},
   "outputs": [
    {
     "data": {
      "text/plain": [
       "1.0"
      ]
     },
     "execution_count": 31,
     "metadata": {},
     "output_type": "execute_result"
    }
   ],
   "source": [
    "# Количество строк для каждого клиента\n",
    "customers.shape[0] / nr_customers"
   ]
  },
  {
   "cell_type": "markdown",
   "metadata": {},
   "source": [
    "#### 2) Сколько денег в целом потратили все клиенты? (отразите данную сумму в подходящем формате)"
   ]
  },
  {
   "cell_type": "code",
   "execution_count": 32,
   "metadata": {},
   "outputs": [
    {
     "name": "stdout",
     "output_type": "stream",
     "text": [
      "11894018.760000002\n",
      "11894018.8\n"
     ]
    }
   ],
   "source": [
    "# общая потраченная сумма\n",
    "sum_of_money = customers.total_spent.sum()\n",
    "print(sum_of_money)\n",
    "print(round(sum_of_money, 1))"
   ]
  },
  {
   "cell_type": "markdown",
   "metadata": {},
   "source": [
    "#### 3) Сколько всего денег вернули клиентам?"
   ]
  },
  {
   "cell_type": "code",
   "execution_count": 33,
   "metadata": {},
   "outputs": [
    {
     "data": {
      "text/html": [
       "<div>\n",
       "<style scoped>\n",
       "    .dataframe tbody tr th:only-of-type {\n",
       "        vertical-align: middle;\n",
       "    }\n",
       "\n",
       "    .dataframe tbody tr th {\n",
       "        vertical-align: top;\n",
       "    }\n",
       "\n",
       "    .dataframe thead th {\n",
       "        text-align: right;\n",
       "    }\n",
       "</style>\n",
       "<table border=\"1\" class=\"dataframe\">\n",
       "  <thead>\n",
       "    <tr style=\"text-align: right;\">\n",
       "      <th></th>\n",
       "      <th>CustomerID</th>\n",
       "      <th>Country</th>\n",
       "      <th>balance</th>\n",
       "      <th>max_spent</th>\n",
       "      <th>mean_spent</th>\n",
       "      <th>min_spent</th>\n",
       "      <th>n_orders</th>\n",
       "      <th>time_between_orders</th>\n",
       "      <th>total_items</th>\n",
       "      <th>total_items_returned</th>\n",
       "      <th>total_refunded</th>\n",
       "      <th>total_spent</th>\n",
       "    </tr>\n",
       "  </thead>\n",
       "  <tbody>\n",
       "    <tr>\n",
       "      <th>0</th>\n",
       "      <td>12346</td>\n",
       "      <td>United Kingdom</td>\n",
       "      <td>0.00</td>\n",
       "      <td>77183.6</td>\n",
       "      <td>38591.800000</td>\n",
       "      <td>0.0</td>\n",
       "      <td>2</td>\n",
       "      <td>NaN</td>\n",
       "      <td>74215</td>\n",
       "      <td>-74215</td>\n",
       "      <td>-77183.60</td>\n",
       "      <td>77183.60</td>\n",
       "    </tr>\n",
       "    <tr>\n",
       "      <th>1</th>\n",
       "      <td>12348</td>\n",
       "      <td>Finland</td>\n",
       "      <td>3874.60</td>\n",
       "      <td>2248.8</td>\n",
       "      <td>1291.533333</td>\n",
       "      <td>478.8</td>\n",
       "      <td>3</td>\n",
       "      <td>54.500000</td>\n",
       "      <td>6876</td>\n",
       "      <td>0</td>\n",
       "      <td>0.00</td>\n",
       "      <td>3874.60</td>\n",
       "    </tr>\n",
       "    <tr>\n",
       "      <th>2</th>\n",
       "      <td>12350</td>\n",
       "      <td>Norway</td>\n",
       "      <td>294.40</td>\n",
       "      <td>294.4</td>\n",
       "      <td>294.400000</td>\n",
       "      <td>294.4</td>\n",
       "      <td>1</td>\n",
       "      <td>NaN</td>\n",
       "      <td>196</td>\n",
       "      <td>0</td>\n",
       "      <td>0.00</td>\n",
       "      <td>294.40</td>\n",
       "    </tr>\n",
       "    <tr>\n",
       "      <th>3</th>\n",
       "      <td>12352</td>\n",
       "      <td>Norway</td>\n",
       "      <td>1845.13</td>\n",
       "      <td>1054.1</td>\n",
       "      <td>393.092000</td>\n",
       "      <td>0.0</td>\n",
       "      <td>5</td>\n",
       "      <td>11.333333</td>\n",
       "      <td>774</td>\n",
       "      <td>-63</td>\n",
       "      <td>-120.33</td>\n",
       "      <td>1965.46</td>\n",
       "    </tr>\n",
       "    <tr>\n",
       "      <th>4</th>\n",
       "      <td>12354</td>\n",
       "      <td>Spain</td>\n",
       "      <td>1079.40</td>\n",
       "      <td>1079.4</td>\n",
       "      <td>1079.400000</td>\n",
       "      <td>1079.4</td>\n",
       "      <td>1</td>\n",
       "      <td>NaN</td>\n",
       "      <td>530</td>\n",
       "      <td>0</td>\n",
       "      <td>0.00</td>\n",
       "      <td>1079.40</td>\n",
       "    </tr>\n",
       "  </tbody>\n",
       "</table>\n",
       "</div>"
      ],
      "text/plain": [
       "   CustomerID         Country  balance  max_spent    mean_spent  min_spent  \\\n",
       "0       12346  United Kingdom     0.00    77183.6  38591.800000        0.0   \n",
       "1       12348         Finland  3874.60     2248.8   1291.533333      478.8   \n",
       "2       12350          Norway   294.40      294.4    294.400000      294.4   \n",
       "3       12352          Norway  1845.13     1054.1    393.092000        0.0   \n",
       "4       12354           Spain  1079.40     1079.4   1079.400000     1079.4   \n",
       "\n",
       "   n_orders  time_between_orders  total_items  total_items_returned  \\\n",
       "0         2                  NaN        74215                -74215   \n",
       "1         3            54.500000         6876                     0   \n",
       "2         1                  NaN          196                     0   \n",
       "3         5            11.333333          774                   -63   \n",
       "4         1                  NaN          530                     0   \n",
       "\n",
       "   total_refunded  total_spent  \n",
       "0       -77183.60     77183.60  \n",
       "1            0.00      3874.60  \n",
       "2            0.00       294.40  \n",
       "3         -120.33      1965.46  \n",
       "4            0.00      1079.40  "
      ]
     },
     "execution_count": 33,
     "metadata": {},
     "output_type": "execute_result"
    }
   ],
   "source": [
    "customers.head()"
   ]
  },
  {
   "cell_type": "code",
   "execution_count": 34,
   "metadata": {},
   "outputs": [
    {
     "name": "stdout",
     "output_type": "stream",
     "text": [
      "193678.8\n"
     ]
    }
   ],
   "source": [
    "# общая возвращённая сумма\n",
    "tot_am_ref = -customers.total_refunded.sum()\n",
    "print(tot_am_ref)"
   ]
  },
  {
   "cell_type": "markdown",
   "metadata": {},
   "source": [
    "#### 4) Предполагая, что баланс компании в начале был равен нулю, каким бы был этот баланс сейчас?"
   ]
  },
  {
   "cell_type": "code",
   "execution_count": 35,
   "metadata": {},
   "outputs": [
    {
     "data": {
      "text/plain": [
       "11700339.96"
      ]
     },
     "execution_count": 35,
     "metadata": {},
     "output_type": "execute_result"
    }
   ],
   "source": [
    "# нынешний баланс компании\n",
    "sum_of_money - tot_am_ref"
   ]
  },
  {
   "cell_type": "markdown",
   "metadata": {},
   "source": [
    "#### 5) Посчитайте количество покупателей из каждой страны а также число покупателей из всех стран за исключением UK."
   ]
  },
  {
   "cell_type": "code",
   "execution_count": 36,
   "metadata": {},
   "outputs": [
    {
     "data": {
      "image/png": "[encoded data removed]",
      "text/plain": [
       "<Figure size 432x288 with 1 Axes>"
      ]
     },
     "metadata": {
      "needs_background": "light"
     },
     "output_type": "display_data"
    }
   ],
   "source": [
    "# Количество покупателей из каждой страны - используйте seaborn!\n",
    "am = sns.countplot(customers[customers.Country!='United Kingdom'].Country)\n",
    "for s in am.patches:\n",
    "    x=s.get_bbox().get_points()[:,0]\n",
    "    y=s.get_bbox().get_points()[1,1]\n",
    "    am.annotate('{:.1f}'.format(y), (x.mean(), y), \n",
    "            ha='center', va='bottom') # set the alignment of the text\n",
    "plt.xticks(rotation=45)\n",
    "plt.show()"
   ]
  },
  {
   "cell_type": "code",
   "execution_count": 37,
   "metadata": {},
   "outputs": [
    {
     "data": {
      "image/png": "[encoded data removed]",
      "text/plain": [
       "<Figure size 432x288 with 1 Axes>"
      ]
     },
     "metadata": {
      "needs_background": "light"
     },
     "output_type": "display_data"
    }
   ],
   "source": [
    "# ...за исключением UK\n",
    "sns.countplot(customers.Country[customers.Country != 'United Kingdom'])\n",
    "plt.xticks(rotation=90)\n",
    "plt.show()"
   ]
  },
  {
   "cell_type": "markdown",
   "metadata": {},
   "source": [
    "#### 6) Каково распределение числа заказов от покупателей? Если это распределение сложно понять или представить, то попытайтесь разбить его на интервалы."
   ]
  },
  {
   "cell_type": "code",
   "execution_count": 38,
   "metadata": {},
   "outputs": [
    {
     "data": {
      "text/plain": [
       "0.9769514443761524"
      ]
     },
     "execution_count": 38,
     "metadata": {},
     "output_type": "execute_result"
    }
   ],
   "source": [
    "np.mean(customers.n_orders<20)"
   ]
  },
  {
   "cell_type": "code",
   "execution_count": 39,
   "metadata": {},
   "outputs": [
    {
     "data": {
      "image/png": "[encoded data removed]",
      "text/plain": [
       "<Figure size 432x288 with 1 Axes>"
      ]
     },
     "metadata": {
      "needs_background": "light"
     },
     "output_type": "display_data"
    }
   ],
   "source": [
    "# Распределение числа заказов от покупателей\n",
    "sns.distplot(customers.n_orders, bins=50)\n",
    "#sns.distplot(customers['n_orders'], bins=50)\n",
    "plt.show()"
   ]
  },
  {
   "cell_type": "code",
   "execution_count": 40,
   "metadata": {},
   "outputs": [
    {
     "data": {
      "text/plain": [
       "Index(['CustomerID', 'Country', 'balance', 'max_spent', 'mean_spent',\n",
       "       'min_spent', 'n_orders', 'time_between_orders', 'total_items',\n",
       "       'total_items_returned', 'total_refunded', 'total_spent'],\n",
       "      dtype='object')"
      ]
     },
     "execution_count": 40,
     "metadata": {},
     "output_type": "execute_result"
    }
   ],
   "source": [
    "customers.columns"
   ]
  },
  {
   "cell_type": "code",
   "execution_count": 41,
   "metadata": {},
   "outputs": [
    {
     "data": {
      "text/plain": [
       "948.5949999999998"
      ]
     },
     "execution_count": 41,
     "metadata": {},
     "output_type": "execute_result"
    }
   ],
   "source": [
    "np.percentile(customers.balance, 50)"
   ]
  },
  {
   "cell_type": "code",
   "execution_count": 42,
   "metadata": {},
   "outputs": [
    {
     "data": {
      "text/plain": [
       "Text(0.5, 1.0, 'my great title')"
      ]
     },
     "execution_count": 42,
     "metadata": {},
     "output_type": "execute_result"
    },
    {
     "data": {
      "image/png": "[encoded data removed]",
      "text/plain": [
       "<Figure size 432x288 with 1 Axes>"
      ]
     },
     "metadata": {
      "needs_background": "light"
     },
     "output_type": "display_data"
    }
   ],
   "source": [
    "# Распределение большинства заказов\n",
    "x = 'balance'\n",
    "query = 'balance <= 2000'\n",
    "df = customers.query(query)\n",
    "sns.distplot(df[x], bins=26, rug=False)\n",
    "plt.title('my great title')"
   ]
  },
  {
   "cell_type": "code",
   "execution_count": 43,
   "metadata": {},
   "outputs": [
    {
     "data": {
      "text/plain": [
       "Text(0.5, 1.0, 'my great title')"
      ]
     },
     "execution_count": 43,
     "metadata": {},
     "output_type": "execute_result"
    },
    {
     "data": {
      "image/png": "[encoded data removed]",
      "text/plain": [
       "<Figure size 432x288 with 1 Axes>"
      ]
     },
     "metadata": {
      "needs_background": "light"
     },
     "output_type": "display_data"
    }
   ],
   "source": [
    "# Распределение большинства заказов\n",
    "x = 'n_orders'\n",
    "query = 'n_orders <= 25'\n",
    "df = customers.query(query)\n",
    "sns.countplot(df[x])\n",
    "plt.title('my great title')"
   ]
  },
  {
   "cell_type": "code",
   "execution_count": 44,
   "metadata": {},
   "outputs": [
    {
     "data": {
      "image/png": "[encoded data removed]",
      "text/plain": [
       "<Figure size 432x288 with 1 Axes>"
      ]
     },
     "metadata": {
      "needs_background": "light"
     },
     "output_type": "display_data"
    }
   ],
   "source": [
    "# Распределение статистических выбросов (outliers)\n",
    "x = 'n_orders'\n",
    "query = 'n_orders >25'\n",
    "df = customers.query(query)\n",
    "sns.distplot(df[x], rug=False, bins=np.arange(25, df[x].max().round()+1))\n",
    "# sns.countplot(df[x].astype(int))\n",
    "plt.title('{} observations {}'.format(df.shape[0], query))\n",
    "plt.show()"
   ]
  },
  {
   "cell_type": "markdown",
   "metadata": {},
   "source": [
    "#### 7) Каково распределение сумм, потраченных покупателями? Опять таки, если это распределение сложно представить,  то попытайтесь разбить его на интервалы. Обратите внимание на то, сколько наблюдений Вам необходимо для каждого графика."
   ]
  },
  {
   "cell_type": "code",
   "execution_count": 45,
   "metadata": {},
   "outputs": [
    {
     "data": {
      "text/plain": [
       "<AxesSubplot:xlabel='total_spent', ylabel='Density'>"
      ]
     },
     "execution_count": 45,
     "metadata": {},
     "output_type": "execute_result"
    },
    {
     "data": {
      "image/png": "[encoded data removed]",
      "text/plain": [
       "<Figure size 432x288 with 1 Axes>"
      ]
     },
     "metadata": {
      "needs_background": "light"
     },
     "output_type": "display_data"
    }
   ],
   "source": [
    "sns.distplot(( customers['total_spent']) )"
   ]
  },
  {
   "cell_type": "code",
   "execution_count": 46,
   "metadata": {},
   "outputs": [
    {
     "data": {
      "text/plain": [
       "<AxesSubplot:xlabel='total_spent', ylabel='Density'>"
      ]
     },
     "execution_count": 46,
     "metadata": {},
     "output_type": "execute_result"
    },
    {
     "data": {
      "image/png": "[encoded data removed]",
      "text/plain": [
       "<Figure size 432x288 with 1 Axes>"
      ]
     },
     "metadata": {
      "needs_background": "light"
     },
     "output_type": "display_data"
    }
   ],
   "source": [
    "# Распределение общих потраченных сумм\n",
    "sns.distplot(np.log(1 + customers['total_spent']))"
   ]
  },
  {
   "cell_type": "code",
   "execution_count": 47,
   "metadata": {},
   "outputs": [
    {
     "data": {
      "text/plain": [
       "Text(0.5, 1.0, '3231 observations <50k')"
      ]
     },
     "execution_count": 47,
     "metadata": {},
     "output_type": "execute_result"
    },
    {
     "data": {
      "image/png": "[encoded data removed]",
      "text/plain": [
       "<Figure size 432x288 with 1 Axes>"
      ]
     },
     "metadata": {
      "needs_background": "light"
     },
     "output_type": "display_data"
    }
   ],
   "source": [
    "# ...распределение для большинства компаний\n",
    "df = customers.query('total_spent < 50000')\n",
    "sns.distplot( np.log(1+df['total_spent']), rug=False)\n",
    "plt.title('{} observations <50k'.format(df.shape[0]))"
   ]
  },
  {
   "cell_type": "code",
   "execution_count": 48,
   "metadata": {},
   "outputs": [
    {
     "data": {
      "text/plain": [
       "Text(0.5, 1.0, '23 observations >=50k')"
      ]
     },
     "execution_count": 48,
     "metadata": {},
     "output_type": "execute_result"
    },
    {
     "data": {
      "image/png": "[encoded data removed]",
      "text/plain": [
       "<Figure size 432x288 with 1 Axes>"
      ]
     },
     "metadata": {
      "needs_background": "light"
     },
     "output_type": "display_data"
    }
   ],
   "source": [
    "# ...распределение выбросов\n",
    "df = customers.query('total_spent >= 50000')\n",
    "sns.distplot(df['total_spent'], rug=True)\n",
    "plt.title('{} observations >=50k'.format(df.shape[0]))"
   ]
  },
  {
   "cell_type": "markdown",
   "metadata": {},
   "source": [
    "#### 8) А что с распределением возвращённых денег? И снова постарайтесь использовать интервалы, если Вам сложно  представить распределение графически."
   ]
  },
  {
   "cell_type": "code",
   "execution_count": 49,
   "metadata": {},
   "outputs": [
    {
     "data": {
      "text/plain": [
       "<AxesSubplot:xlabel='total_refunded', ylabel='Density'>"
      ]
     },
     "execution_count": 49,
     "metadata": {},
     "output_type": "execute_result"
    },
    {
     "data": {
      "image/png": "[encoded data removed]",
      "text/plain": [
       "<Figure size 432x288 with 1 Axes>"
      ]
     },
     "metadata": {
      "needs_background": "light"
     },
     "output_type": "display_data"
    }
   ],
   "source": [
    "# Распределение возвратов\n",
    "sns.distplot(customers['total_refunded'])"
   ]
  },
  {
   "cell_type": "code",
   "execution_count": 50,
   "metadata": {},
   "outputs": [
    {
     "name": "stdout",
     "output_type": "stream",
     "text": [
      "0.66 of customers have never had a refund\n",
      "Range of the orders with a refund: (-77183.6, -0.42)\n"
     ]
    },
    {
     "data": {
      "image/png": "[encoded data removed]",
      "text/plain": [
       "<Figure size 432x288 with 1 Axes>"
      ]
     },
     "metadata": {
      "needs_background": "light"
     },
     "output_type": "display_data"
    }
   ],
   "source": [
    "# ...распределение большинства\n",
    "prop_refunded = sum(customers.total_refunded == 0) / customers.shape[0]\n",
    "print('{:.2f} of customers have never had a refund'.format(prop_refunded))\n",
    "df = customers.query('total_refunded < 0')\n",
    "print('Range of the orders with a refund: ({}, {})'.format(\n",
    "    df['total_refunded'].min(), df['total_refunded'].max()))\n",
    "query = 'total_refunded < 0 and total_refunded > -1000'\n",
    "df = customers.query(query)\n",
    "sns.distplot(df['total_refunded'], rug=False)\n",
    "plt.title('{} observations {}'.format(df.shape[0], query))\n",
    "plt.show()"
   ]
  },
  {
   "cell_type": "code",
   "execution_count": 51,
   "metadata": {},
   "outputs": [
    {
     "data": {
      "text/plain": [
       "Text(0.5, 1.0, '16 observations total_refunded <= -1000')"
      ]
     },
     "execution_count": 51,
     "metadata": {},
     "output_type": "execute_result"
    },
    {
     "data": {
      "image/png": "[encoded data removed]",
      "text/plain": [
       "<Figure size 432x288 with 1 Axes>"
      ]
     },
     "metadata": {
      "needs_background": "light"
     },
     "output_type": "display_data"
    }
   ],
   "source": [
    "# ...распределение выбросов\n",
    "query = 'total_refunded <= -1000'\n",
    "df = customers.query(query)\n",
    "sns.distplot(df['total_refunded'], rug=False)\n",
    "plt.title('{} observations {}'.format(df.shape[0], query))"
   ]
  },
  {
   "cell_type": "markdown",
   "metadata": {},
   "source": [
    "#### 9) Отобразите распределение общих потраченных сумм для каждой страны при помощи графиков [violinplot](https://seaborn.pydata.org/generated/seaborn.violinplot.html?highlight=violin#seaborn.violinplot) и/или [boxplot](https://seaborn.pydata.org/generated/seaborn.boxplot.html). "
   ]
  },
  {
   "cell_type": "code",
   "execution_count": 52,
   "metadata": {},
   "outputs": [
    {
     "data": {
      "image/png": "[encoded data removed]",
      "text/plain": [
       "<Figure size 432x288 with 1 Axes>"
      ]
     },
     "metadata": {
      "needs_background": "light"
     },
     "output_type": "display_data"
    },
    {
     "data": {
      "image/png": "[encoded data removed]",
      "text/plain": [
       "<Figure size 432x288 with 1 Axes>"
      ]
     },
     "metadata": {
      "needs_background": "light"
     },
     "output_type": "display_data"
    }
   ],
   "source": [
    "# Графики violin plot и box plot для общей потраченной суммы для каждой страны\n",
    "plt.figure()\n",
    "sns.violinplot(x=\"Country\", y=\"total_spent\",\n",
    "               inner=\"quart\",\n",
    "               data=customers)\n",
    "plt.xticks(rotation=90)\n",
    "# there are large outliers which make the plot unhelpful\n",
    "# I note this, and alter the scale of the y axis to get a better look\n",
    "y_max = 20000\n",
    "plt.ylim([-10000, y_max])\n",
    "plt.show()\n",
    "plt.figure()\n",
    "sns.boxplot(x=\"Country\", y=\"total_spent\",\n",
    "               data=customers)\n",
    "plt.xticks(rotation=90)\n",
    "plt.ylim([-10000, y_max])\n",
    "plt.show()"
   ]
  },
  {
   "cell_type": "markdown",
   "metadata": {},
   "source": [
    "#### 10a) Какова общая потраченая сумма для каждой страны? Одной из возможностью для подсчёта здесь является использование метода `groupby`, чтобы создать `DataFrame` с нужной информацией, и `sns.barplot`, чтобы представить полученные данные графически."
   ]
  },
  {
   "cell_type": "code",
   "execution_count": 53,
   "metadata": {},
   "outputs": [
    {
     "data": {
      "text/html": [
       "<div>\n",
       "<style scoped>\n",
       "    .dataframe tbody tr th:only-of-type {\n",
       "        vertical-align: middle;\n",
       "    }\n",
       "\n",
       "    .dataframe tbody tr th {\n",
       "        vertical-align: top;\n",
       "    }\n",
       "\n",
       "    .dataframe thead th {\n",
       "        text-align: right;\n",
       "    }\n",
       "</style>\n",
       "<table border=\"1\" class=\"dataframe\">\n",
       "  <thead>\n",
       "    <tr style=\"text-align: right;\">\n",
       "      <th></th>\n",
       "      <th>Country</th>\n",
       "      <th>total_spent</th>\n",
       "    </tr>\n",
       "  </thead>\n",
       "  <tbody>\n",
       "    <tr>\n",
       "      <th>0</th>\n",
       "      <td>Austria</td>\n",
       "      <td>10619.20</td>\n",
       "    </tr>\n",
       "    <tr>\n",
       "      <th>1</th>\n",
       "      <td>Belgium</td>\n",
       "      <td>46252.29</td>\n",
       "    </tr>\n",
       "    <tr>\n",
       "      <th>2</th>\n",
       "      <td>Finland</td>\n",
       "      <td>31091.07</td>\n",
       "    </tr>\n",
       "    <tr>\n",
       "      <th>3</th>\n",
       "      <td>France</td>\n",
       "      <td>272068.47</td>\n",
       "    </tr>\n",
       "    <tr>\n",
       "      <th>4</th>\n",
       "      <td>Germany</td>\n",
       "      <td>325883.91</td>\n",
       "    </tr>\n",
       "    <tr>\n",
       "      <th>5</th>\n",
       "      <td>Italy</td>\n",
       "      <td>20046.71</td>\n",
       "    </tr>\n",
       "    <tr>\n",
       "      <th>6</th>\n",
       "      <td>Norway</td>\n",
       "      <td>34714.18</td>\n",
       "    </tr>\n",
       "    <tr>\n",
       "      <th>7</th>\n",
       "      <td>Portugal</td>\n",
       "      <td>33414.90</td>\n",
       "    </tr>\n",
       "    <tr>\n",
       "      <th>8</th>\n",
       "      <td>Spain</td>\n",
       "      <td>95774.83</td>\n",
       "    </tr>\n",
       "    <tr>\n",
       "      <th>9</th>\n",
       "      <td>Switzerland</td>\n",
       "      <td>67361.13</td>\n",
       "    </tr>\n",
       "    <tr>\n",
       "      <th>10</th>\n",
       "      <td>United Kingdom</td>\n",
       "      <td>10956792.07</td>\n",
       "    </tr>\n",
       "  </tbody>\n",
       "</table>\n",
       "</div>"
      ],
      "text/plain": [
       "           Country  total_spent\n",
       "0          Austria     10619.20\n",
       "1          Belgium     46252.29\n",
       "2          Finland     31091.07\n",
       "3           France    272068.47\n",
       "4          Germany    325883.91\n",
       "5            Italy     20046.71\n",
       "6           Norway     34714.18\n",
       "7         Portugal     33414.90\n",
       "8            Spain     95774.83\n",
       "9      Switzerland     67361.13\n",
       "10  United Kingdom  10956792.07"
      ]
     },
     "execution_count": 53,
     "metadata": {},
     "output_type": "execute_result"
    }
   ],
   "source": [
    "df_sum_tot_spent = customers['total_spent'].groupby(customers['Country']).sum().reset_index()\n",
    "#df_sum_tot_spent.columns = ['Country', 'sum of total spent']\n",
    "df_sum_tot_spent"
   ]
  },
  {
   "cell_type": "code",
   "execution_count": 54,
   "metadata": {},
   "outputs": [
    {
     "data": {
      "text/html": [
       "<div>\n",
       "<style scoped>\n",
       "    .dataframe tbody tr th:only-of-type {\n",
       "        vertical-align: middle;\n",
       "    }\n",
       "\n",
       "    .dataframe tbody tr th {\n",
       "        vertical-align: top;\n",
       "    }\n",
       "\n",
       "    .dataframe thead th {\n",
       "        text-align: right;\n",
       "    }\n",
       "</style>\n",
       "<table border=\"1\" class=\"dataframe\">\n",
       "  <thead>\n",
       "    <tr style=\"text-align: right;\">\n",
       "      <th></th>\n",
       "      <th>Country</th>\n",
       "      <th>sum of total spent</th>\n",
       "    </tr>\n",
       "  </thead>\n",
       "  <tbody>\n",
       "    <tr>\n",
       "      <th>0</th>\n",
       "      <td>Austria</td>\n",
       "      <td>10619.20</td>\n",
       "    </tr>\n",
       "    <tr>\n",
       "      <th>1</th>\n",
       "      <td>Belgium</td>\n",
       "      <td>46252.29</td>\n",
       "    </tr>\n",
       "    <tr>\n",
       "      <th>2</th>\n",
       "      <td>Finland</td>\n",
       "      <td>31091.07</td>\n",
       "    </tr>\n",
       "    <tr>\n",
       "      <th>3</th>\n",
       "      <td>France</td>\n",
       "      <td>272068.47</td>\n",
       "    </tr>\n",
       "    <tr>\n",
       "      <th>4</th>\n",
       "      <td>Germany</td>\n",
       "      <td>325883.91</td>\n",
       "    </tr>\n",
       "    <tr>\n",
       "      <th>5</th>\n",
       "      <td>Italy</td>\n",
       "      <td>20046.71</td>\n",
       "    </tr>\n",
       "    <tr>\n",
       "      <th>6</th>\n",
       "      <td>Norway</td>\n",
       "      <td>34714.18</td>\n",
       "    </tr>\n",
       "    <tr>\n",
       "      <th>7</th>\n",
       "      <td>Portugal</td>\n",
       "      <td>33414.90</td>\n",
       "    </tr>\n",
       "    <tr>\n",
       "      <th>8</th>\n",
       "      <td>Spain</td>\n",
       "      <td>95774.83</td>\n",
       "    </tr>\n",
       "    <tr>\n",
       "      <th>9</th>\n",
       "      <td>Switzerland</td>\n",
       "      <td>67361.13</td>\n",
       "    </tr>\n",
       "    <tr>\n",
       "      <th>10</th>\n",
       "      <td>United Kingdom</td>\n",
       "      <td>10956792.07</td>\n",
       "    </tr>\n",
       "  </tbody>\n",
       "</table>\n",
       "</div>"
      ],
      "text/plain": [
       "           Country  sum of total spent\n",
       "0          Austria            10619.20\n",
       "1          Belgium            46252.29\n",
       "2          Finland            31091.07\n",
       "3           France           272068.47\n",
       "4          Germany           325883.91\n",
       "5            Italy            20046.71\n",
       "6           Norway            34714.18\n",
       "7         Portugal            33414.90\n",
       "8            Spain            95774.83\n",
       "9      Switzerland            67361.13\n",
       "10  United Kingdom         10956792.07"
      ]
     },
     "execution_count": 54,
     "metadata": {},
     "output_type": "execute_result"
    }
   ],
   "source": [
    "# Общая потраченная сумма для каждой страны\n",
    "# Sum of total spent broken down by country\n",
    "sum_tot_spent_by_country = (customers['total_spent'] \n",
    "         .groupby(customers['Country']) \n",
    "         .sum()\n",
    "         .rename('sum of total spent') \n",
    "         .reset_index()  # required to make 'Country' a column for the plot\n",
    "                           ) # I use these brackets here to allow the methods to chain over newlines - readability\n",
    "sum_tot_spent_by_country"
   ]
  },
  {
   "cell_type": "code",
   "execution_count": 55,
   "metadata": {},
   "outputs": [
    {
     "data": {
      "text/html": [
       "<div>\n",
       "<style scoped>\n",
       "    .dataframe tbody tr th:only-of-type {\n",
       "        vertical-align: middle;\n",
       "    }\n",
       "\n",
       "    .dataframe tbody tr th {\n",
       "        vertical-align: top;\n",
       "    }\n",
       "\n",
       "    .dataframe thead th {\n",
       "        text-align: right;\n",
       "    }\n",
       "</style>\n",
       "<table border=\"1\" class=\"dataframe\">\n",
       "  <thead>\n",
       "    <tr style=\"text-align: right;\">\n",
       "      <th></th>\n",
       "      <th>Country</th>\n",
       "      <th>sum of total spent</th>\n",
       "    </tr>\n",
       "  </thead>\n",
       "  <tbody>\n",
       "    <tr>\n",
       "      <th>0</th>\n",
       "      <td>Austria</td>\n",
       "      <td>10619.20</td>\n",
       "    </tr>\n",
       "    <tr>\n",
       "      <th>1</th>\n",
       "      <td>Belgium</td>\n",
       "      <td>46252.29</td>\n",
       "    </tr>\n",
       "    <tr>\n",
       "      <th>2</th>\n",
       "      <td>Finland</td>\n",
       "      <td>31091.07</td>\n",
       "    </tr>\n",
       "    <tr>\n",
       "      <th>3</th>\n",
       "      <td>France</td>\n",
       "      <td>272068.47</td>\n",
       "    </tr>\n",
       "    <tr>\n",
       "      <th>4</th>\n",
       "      <td>Germany</td>\n",
       "      <td>325883.91</td>\n",
       "    </tr>\n",
       "    <tr>\n",
       "      <th>5</th>\n",
       "      <td>Italy</td>\n",
       "      <td>20046.71</td>\n",
       "    </tr>\n",
       "    <tr>\n",
       "      <th>6</th>\n",
       "      <td>Norway</td>\n",
       "      <td>34714.18</td>\n",
       "    </tr>\n",
       "    <tr>\n",
       "      <th>7</th>\n",
       "      <td>Portugal</td>\n",
       "      <td>33414.90</td>\n",
       "    </tr>\n",
       "    <tr>\n",
       "      <th>8</th>\n",
       "      <td>Spain</td>\n",
       "      <td>95774.83</td>\n",
       "    </tr>\n",
       "    <tr>\n",
       "      <th>9</th>\n",
       "      <td>Switzerland</td>\n",
       "      <td>67361.13</td>\n",
       "    </tr>\n",
       "    <tr>\n",
       "      <th>10</th>\n",
       "      <td>United Kingdom</td>\n",
       "      <td>10956792.07</td>\n",
       "    </tr>\n",
       "  </tbody>\n",
       "</table>\n",
       "</div>"
      ],
      "text/plain": [
       "           Country  sum of total spent\n",
       "0          Austria            10619.20\n",
       "1          Belgium            46252.29\n",
       "2          Finland            31091.07\n",
       "3           France           272068.47\n",
       "4          Germany           325883.91\n",
       "5            Italy            20046.71\n",
       "6           Norway            34714.18\n",
       "7         Portugal            33414.90\n",
       "8            Spain            95774.83\n",
       "9      Switzerland            67361.13\n",
       "10  United Kingdom         10956792.07"
      ]
     },
     "execution_count": 55,
     "metadata": {},
     "output_type": "execute_result"
    }
   ],
   "source": [
    "# Sum of total spent broken down by country\n",
    "sum_tot_spent_by_country = customers['total_spent'] \\\n",
    "         .groupby(customers['Country']) \\\n",
    "         .sum() \\\n",
    "         .rename('sum of total spent') \\\n",
    "         .reset_index()  # required to make 'Country' a column for the plot\n",
    " # I use these brackets here to allow the methods to chain over newlines - readability\n",
    "sum_tot_spent_by_country"
   ]
  },
  {
   "cell_type": "code",
   "execution_count": 56,
   "metadata": {},
   "outputs": [],
   "source": [
    "#?sns.barplot"
   ]
  },
  {
   "cell_type": "code",
   "execution_count": 57,
   "metadata": {},
   "outputs": [
    {
     "ename": "IndexError",
     "evalue": "cannot do a non-empty take from an empty axes.",
     "output_type": "error",
     "traceback": [
      "\u001b[1;31m---------------------------------------------------------------------------\u001b[0m",
      "\u001b[1;31mIndexError\u001b[0m                                Traceback (most recent call last)",
      "\u001b[1;32m<ipython-input-57-be76538ef137>\u001b[0m in \u001b[0;36m<module>\u001b[1;34m\u001b[0m\n\u001b[1;32m----> 1\u001b[1;33m \u001b[0msns\u001b[0m\u001b[1;33m.\u001b[0m\u001b[0mbarplot\u001b[0m\u001b[1;33m(\u001b[0m\u001b[0mx\u001b[0m\u001b[1;33m=\u001b[0m\u001b[1;34m'Country'\u001b[0m\u001b[1;33m,\u001b[0m \u001b[0my\u001b[0m\u001b[1;33m=\u001b[0m\u001b[1;34m'total_spent'\u001b[0m\u001b[1;33m,\u001b[0m \u001b[0mdata\u001b[0m\u001b[1;33m=\u001b[0m\u001b[0mcustomers\u001b[0m\u001b[1;33m,\u001b[0m \u001b[0mestimator\u001b[0m\u001b[1;33m=\u001b[0m\u001b[0mnp\u001b[0m\u001b[1;33m.\u001b[0m\u001b[0msum\u001b[0m \u001b[1;33m,\u001b[0m \u001b[0mn_boot\u001b[0m\u001b[1;33m=\u001b[0m\u001b[1;36m0\u001b[0m\u001b[1;33m)\u001b[0m\u001b[1;33m\u001b[0m\u001b[1;33m\u001b[0m\u001b[0m\n\u001b[0m\u001b[0;32m      2\u001b[0m \u001b[0mplt\u001b[0m\u001b[1;33m.\u001b[0m\u001b[0mxticks\u001b[0m\u001b[1;33m(\u001b[0m\u001b[0mrotation\u001b[0m\u001b[1;33m=\u001b[0m\u001b[1;36m90\u001b[0m\u001b[1;33m)\u001b[0m\u001b[1;33m\u001b[0m\u001b[1;33m\u001b[0m\u001b[0m\n\u001b[0;32m      3\u001b[0m \u001b[0mplt\u001b[0m\u001b[1;33m.\u001b[0m\u001b[0mshow\u001b[0m\u001b[1;33m(\u001b[0m\u001b[1;33m)\u001b[0m\u001b[1;33m\u001b[0m\u001b[1;33m\u001b[0m\u001b[0m\n",
      "\u001b[1;32mc:\\users\\hp\\freeit\\lib\\site-packages\\seaborn\\_decorators.py\u001b[0m in \u001b[0;36minner_f\u001b[1;34m(*args, **kwargs)\u001b[0m\n\u001b[0;32m     44\u001b[0m             )\n\u001b[0;32m     45\u001b[0m         \u001b[0mkwargs\u001b[0m\u001b[1;33m.\u001b[0m\u001b[0mupdate\u001b[0m\u001b[1;33m(\u001b[0m\u001b[1;33m{\u001b[0m\u001b[0mk\u001b[0m\u001b[1;33m:\u001b[0m \u001b[0marg\u001b[0m \u001b[1;32mfor\u001b[0m \u001b[0mk\u001b[0m\u001b[1;33m,\u001b[0m \u001b[0marg\u001b[0m \u001b[1;32min\u001b[0m \u001b[0mzip\u001b[0m\u001b[1;33m(\u001b[0m\u001b[0msig\u001b[0m\u001b[1;33m.\u001b[0m\u001b[0mparameters\u001b[0m\u001b[1;33m,\u001b[0m \u001b[0margs\u001b[0m\u001b[1;33m)\u001b[0m\u001b[1;33m}\u001b[0m\u001b[1;33m)\u001b[0m\u001b[1;33m\u001b[0m\u001b[1;33m\u001b[0m\u001b[0m\n\u001b[1;32m---> 46\u001b[1;33m         \u001b[1;32mreturn\u001b[0m \u001b[0mf\u001b[0m\u001b[1;33m(\u001b[0m\u001b[1;33m**\u001b[0m\u001b[0mkwargs\u001b[0m\u001b[1;33m)\u001b[0m\u001b[1;33m\u001b[0m\u001b[1;33m\u001b[0m\u001b[0m\n\u001b[0m\u001b[0;32m     47\u001b[0m     \u001b[1;32mreturn\u001b[0m \u001b[0minner_f\u001b[0m\u001b[1;33m\u001b[0m\u001b[1;33m\u001b[0m\u001b[0m\n\u001b[0;32m     48\u001b[0m \u001b[1;33m\u001b[0m\u001b[0m\n",
      "\u001b[1;32mc:\\users\\hp\\freeit\\lib\\site-packages\\seaborn\\categorical.py\u001b[0m in \u001b[0;36mbarplot\u001b[1;34m(x, y, hue, data, order, hue_order, estimator, ci, n_boot, units, seed, orient, color, palette, saturation, errcolor, errwidth, capsize, dodge, ax, **kwargs)\u001b[0m\n\u001b[0;32m   3167\u001b[0m ):\n\u001b[0;32m   3168\u001b[0m \u001b[1;33m\u001b[0m\u001b[0m\n\u001b[1;32m-> 3169\u001b[1;33m     plotter = _BarPlotter(x, y, hue, data, order, hue_order,\n\u001b[0m\u001b[0;32m   3170\u001b[0m                           \u001b[0mestimator\u001b[0m\u001b[1;33m,\u001b[0m \u001b[0mci\u001b[0m\u001b[1;33m,\u001b[0m \u001b[0mn_boot\u001b[0m\u001b[1;33m,\u001b[0m \u001b[0munits\u001b[0m\u001b[1;33m,\u001b[0m \u001b[0mseed\u001b[0m\u001b[1;33m,\u001b[0m\u001b[1;33m\u001b[0m\u001b[1;33m\u001b[0m\u001b[0m\n\u001b[0;32m   3171\u001b[0m                           \u001b[0morient\u001b[0m\u001b[1;33m,\u001b[0m \u001b[0mcolor\u001b[0m\u001b[1;33m,\u001b[0m \u001b[0mpalette\u001b[0m\u001b[1;33m,\u001b[0m \u001b[0msaturation\u001b[0m\u001b[1;33m,\u001b[0m\u001b[1;33m\u001b[0m\u001b[1;33m\u001b[0m\u001b[0m\n",
      "\u001b[1;32mc:\\users\\hp\\freeit\\lib\\site-packages\\seaborn\\categorical.py\u001b[0m in \u001b[0;36m__init__\u001b[1;34m(self, x, y, hue, data, order, hue_order, estimator, ci, n_boot, units, seed, orient, color, palette, saturation, errcolor, errwidth, capsize, dodge)\u001b[0m\n\u001b[0;32m   1585\u001b[0m                                  order, hue_order, units)\n\u001b[0;32m   1586\u001b[0m         \u001b[0mself\u001b[0m\u001b[1;33m.\u001b[0m\u001b[0mestablish_colors\u001b[0m\u001b[1;33m(\u001b[0m\u001b[0mcolor\u001b[0m\u001b[1;33m,\u001b[0m \u001b[0mpalette\u001b[0m\u001b[1;33m,\u001b[0m \u001b[0msaturation\u001b[0m\u001b[1;33m)\u001b[0m\u001b[1;33m\u001b[0m\u001b[1;33m\u001b[0m\u001b[0m\n\u001b[1;32m-> 1587\u001b[1;33m         \u001b[0mself\u001b[0m\u001b[1;33m.\u001b[0m\u001b[0mestimate_statistic\u001b[0m\u001b[1;33m(\u001b[0m\u001b[0mestimator\u001b[0m\u001b[1;33m,\u001b[0m \u001b[0mci\u001b[0m\u001b[1;33m,\u001b[0m \u001b[0mn_boot\u001b[0m\u001b[1;33m,\u001b[0m \u001b[0mseed\u001b[0m\u001b[1;33m)\u001b[0m\u001b[1;33m\u001b[0m\u001b[1;33m\u001b[0m\u001b[0m\n\u001b[0m\u001b[0;32m   1588\u001b[0m \u001b[1;33m\u001b[0m\u001b[0m\n\u001b[0;32m   1589\u001b[0m         \u001b[0mself\u001b[0m\u001b[1;33m.\u001b[0m\u001b[0mdodge\u001b[0m \u001b[1;33m=\u001b[0m \u001b[0mdodge\u001b[0m\u001b[1;33m\u001b[0m\u001b[1;33m\u001b[0m\u001b[0m\n",
      "\u001b[1;32mc:\\users\\hp\\freeit\\lib\\site-packages\\seaborn\\categorical.py\u001b[0m in \u001b[0;36mestimate_statistic\u001b[1;34m(self, estimator, ci, n_boot, seed)\u001b[0m\n\u001b[0;32m   1488\u001b[0m                                           \u001b[0munits\u001b[0m\u001b[1;33m=\u001b[0m\u001b[0munit_data\u001b[0m\u001b[1;33m,\u001b[0m\u001b[1;33m\u001b[0m\u001b[1;33m\u001b[0m\u001b[0m\n\u001b[0;32m   1489\u001b[0m                                           seed=seed)\n\u001b[1;32m-> 1490\u001b[1;33m                         \u001b[0mconfint\u001b[0m\u001b[1;33m.\u001b[0m\u001b[0mappend\u001b[0m\u001b[1;33m(\u001b[0m\u001b[0mutils\u001b[0m\u001b[1;33m.\u001b[0m\u001b[0mci\u001b[0m\u001b[1;33m(\u001b[0m\u001b[0mboots\u001b[0m\u001b[1;33m,\u001b[0m \u001b[0mci\u001b[0m\u001b[1;33m)\u001b[0m\u001b[1;33m)\u001b[0m\u001b[1;33m\u001b[0m\u001b[1;33m\u001b[0m\u001b[0m\n\u001b[0m\u001b[0;32m   1491\u001b[0m \u001b[1;33m\u001b[0m\u001b[0m\n\u001b[0;32m   1492\u001b[0m             \u001b[1;31m# Option 2: we are grouping by a hue layer\u001b[0m\u001b[1;33m\u001b[0m\u001b[1;33m\u001b[0m\u001b[1;33m\u001b[0m\u001b[0m\n",
      "\u001b[1;32mc:\\users\\hp\\freeit\\lib\\site-packages\\seaborn\\utils.py\u001b[0m in \u001b[0;36mci\u001b[1;34m(a, which, axis)\u001b[0m\n\u001b[0;32m    372\u001b[0m     \u001b[1;34m\"\"\"Return a percentile range from an array of values.\"\"\"\u001b[0m\u001b[1;33m\u001b[0m\u001b[1;33m\u001b[0m\u001b[0m\n\u001b[0;32m    373\u001b[0m     \u001b[0mp\u001b[0m \u001b[1;33m=\u001b[0m \u001b[1;36m50\u001b[0m \u001b[1;33m-\u001b[0m \u001b[0mwhich\u001b[0m \u001b[1;33m/\u001b[0m \u001b[1;36m2\u001b[0m\u001b[1;33m,\u001b[0m \u001b[1;36m50\u001b[0m \u001b[1;33m+\u001b[0m \u001b[0mwhich\u001b[0m \u001b[1;33m/\u001b[0m \u001b[1;36m2\u001b[0m\u001b[1;33m\u001b[0m\u001b[1;33m\u001b[0m\u001b[0m\n\u001b[1;32m--> 374\u001b[1;33m     \u001b[1;32mreturn\u001b[0m \u001b[0mnp\u001b[0m\u001b[1;33m.\u001b[0m\u001b[0mpercentile\u001b[0m\u001b[1;33m(\u001b[0m\u001b[0ma\u001b[0m\u001b[1;33m,\u001b[0m \u001b[0mp\u001b[0m\u001b[1;33m,\u001b[0m \u001b[0maxis\u001b[0m\u001b[1;33m)\u001b[0m\u001b[1;33m\u001b[0m\u001b[1;33m\u001b[0m\u001b[0m\n\u001b[0m\u001b[0;32m    375\u001b[0m \u001b[1;33m\u001b[0m\u001b[0m\n\u001b[0;32m    376\u001b[0m \u001b[1;33m\u001b[0m\u001b[0m\n",
      "\u001b[1;32m<__array_function__ internals>\u001b[0m in \u001b[0;36mpercentile\u001b[1;34m(*args, **kwargs)\u001b[0m\n",
      "\u001b[1;32mc:\\users\\hp\\freeit\\lib\\site-packages\\numpy\\lib\\function_base.py\u001b[0m in \u001b[0;36mpercentile\u001b[1;34m(a, q, axis, out, overwrite_input, interpolation, keepdims)\u001b[0m\n\u001b[0;32m   3730\u001b[0m     \u001b[1;32mif\u001b[0m \u001b[1;32mnot\u001b[0m \u001b[0m_quantile_is_valid\u001b[0m\u001b[1;33m(\u001b[0m\u001b[0mq\u001b[0m\u001b[1;33m)\u001b[0m\u001b[1;33m:\u001b[0m\u001b[1;33m\u001b[0m\u001b[1;33m\u001b[0m\u001b[0m\n\u001b[0;32m   3731\u001b[0m         \u001b[1;32mraise\u001b[0m \u001b[0mValueError\u001b[0m\u001b[1;33m(\u001b[0m\u001b[1;34m\"Percentiles must be in the range [0, 100]\"\u001b[0m\u001b[1;33m)\u001b[0m\u001b[1;33m\u001b[0m\u001b[1;33m\u001b[0m\u001b[0m\n\u001b[1;32m-> 3732\u001b[1;33m     return _quantile_unchecked(\n\u001b[0m\u001b[0;32m   3733\u001b[0m         a, q, axis, out, overwrite_input, interpolation, keepdims)\n\u001b[0;32m   3734\u001b[0m \u001b[1;33m\u001b[0m\u001b[0m\n",
      "\u001b[1;32mc:\\users\\hp\\freeit\\lib\\site-packages\\numpy\\lib\\function_base.py\u001b[0m in \u001b[0;36m_quantile_unchecked\u001b[1;34m(a, q, axis, out, overwrite_input, interpolation, keepdims)\u001b[0m\n\u001b[0;32m   3849\u001b[0m                         interpolation='linear', keepdims=False):\n\u001b[0;32m   3850\u001b[0m     \u001b[1;34m\"\"\"Assumes that q is in [0, 1], and is an ndarray\"\"\"\u001b[0m\u001b[1;33m\u001b[0m\u001b[1;33m\u001b[0m\u001b[0m\n\u001b[1;32m-> 3851\u001b[1;33m     r, k = _ureduce(a, func=_quantile_ureduce_func, q=q, axis=axis, out=out,\n\u001b[0m\u001b[0;32m   3852\u001b[0m                     \u001b[0moverwrite_input\u001b[0m\u001b[1;33m=\u001b[0m\u001b[0moverwrite_input\u001b[0m\u001b[1;33m,\u001b[0m\u001b[1;33m\u001b[0m\u001b[1;33m\u001b[0m\u001b[0m\n\u001b[0;32m   3853\u001b[0m                     interpolation=interpolation)\n",
      "\u001b[1;32mc:\\users\\hp\\freeit\\lib\\site-packages\\numpy\\lib\\function_base.py\u001b[0m in \u001b[0;36m_ureduce\u001b[1;34m(a, func, **kwargs)\u001b[0m\n\u001b[0;32m   3427\u001b[0m         \u001b[0mkeepdim\u001b[0m \u001b[1;33m=\u001b[0m \u001b[1;33m(\u001b[0m\u001b[1;36m1\u001b[0m\u001b[1;33m,\u001b[0m\u001b[1;33m)\u001b[0m \u001b[1;33m*\u001b[0m \u001b[0ma\u001b[0m\u001b[1;33m.\u001b[0m\u001b[0mndim\u001b[0m\u001b[1;33m\u001b[0m\u001b[1;33m\u001b[0m\u001b[0m\n\u001b[0;32m   3428\u001b[0m \u001b[1;33m\u001b[0m\u001b[0m\n\u001b[1;32m-> 3429\u001b[1;33m     \u001b[0mr\u001b[0m \u001b[1;33m=\u001b[0m \u001b[0mfunc\u001b[0m\u001b[1;33m(\u001b[0m\u001b[0ma\u001b[0m\u001b[1;33m,\u001b[0m \u001b[1;33m**\u001b[0m\u001b[0mkwargs\u001b[0m\u001b[1;33m)\u001b[0m\u001b[1;33m\u001b[0m\u001b[1;33m\u001b[0m\u001b[0m\n\u001b[0m\u001b[0;32m   3430\u001b[0m     \u001b[1;32mreturn\u001b[0m \u001b[0mr\u001b[0m\u001b[1;33m,\u001b[0m \u001b[0mkeepdim\u001b[0m\u001b[1;33m\u001b[0m\u001b[1;33m\u001b[0m\u001b[0m\n\u001b[0;32m   3431\u001b[0m \u001b[1;33m\u001b[0m\u001b[0m\n",
      "\u001b[1;32mc:\\users\\hp\\freeit\\lib\\site-packages\\numpy\\lib\\function_base.py\u001b[0m in \u001b[0;36m_quantile_ureduce_func\u001b[1;34m(a, q, axis, out, overwrite_input, interpolation, keepdims)\u001b[0m\n\u001b[0;32m   3965\u001b[0m             \u001b[0mn\u001b[0m \u001b[1;33m=\u001b[0m \u001b[0mnp\u001b[0m\u001b[1;33m.\u001b[0m\u001b[0misnan\u001b[0m\u001b[1;33m(\u001b[0m\u001b[0map\u001b[0m\u001b[1;33m[\u001b[0m\u001b[1;33m-\u001b[0m\u001b[1;36m1\u001b[0m\u001b[1;33m:\u001b[0m\u001b[1;33m,\u001b[0m \u001b[1;33m...\u001b[0m\u001b[1;33m]\u001b[0m\u001b[1;33m)\u001b[0m\u001b[1;33m\u001b[0m\u001b[1;33m\u001b[0m\u001b[0m\n\u001b[0;32m   3966\u001b[0m \u001b[1;33m\u001b[0m\u001b[0m\n\u001b[1;32m-> 3967\u001b[1;33m         \u001b[0mx1\u001b[0m \u001b[1;33m=\u001b[0m \u001b[0mtake\u001b[0m\u001b[1;33m(\u001b[0m\u001b[0map\u001b[0m\u001b[1;33m,\u001b[0m \u001b[0mindices_below\u001b[0m\u001b[1;33m,\u001b[0m \u001b[0maxis\u001b[0m\u001b[1;33m=\u001b[0m\u001b[0maxis\u001b[0m\u001b[1;33m)\u001b[0m \u001b[1;33m*\u001b[0m \u001b[0mweights_below\u001b[0m\u001b[1;33m\u001b[0m\u001b[1;33m\u001b[0m\u001b[0m\n\u001b[0m\u001b[0;32m   3968\u001b[0m         \u001b[0mx2\u001b[0m \u001b[1;33m=\u001b[0m \u001b[0mtake\u001b[0m\u001b[1;33m(\u001b[0m\u001b[0map\u001b[0m\u001b[1;33m,\u001b[0m \u001b[0mindices_above\u001b[0m\u001b[1;33m,\u001b[0m \u001b[0maxis\u001b[0m\u001b[1;33m=\u001b[0m\u001b[0maxis\u001b[0m\u001b[1;33m)\u001b[0m \u001b[1;33m*\u001b[0m \u001b[0mweights_above\u001b[0m\u001b[1;33m\u001b[0m\u001b[1;33m\u001b[0m\u001b[0m\n\u001b[0;32m   3969\u001b[0m \u001b[1;33m\u001b[0m\u001b[0m\n",
      "\u001b[1;32m<__array_function__ internals>\u001b[0m in \u001b[0;36mtake\u001b[1;34m(*args, **kwargs)\u001b[0m\n",
      "\u001b[1;32mc:\\users\\hp\\freeit\\lib\\site-packages\\numpy\\core\\fromnumeric.py\u001b[0m in \u001b[0;36mtake\u001b[1;34m(a, indices, axis, out, mode)\u001b[0m\n\u001b[0;32m    189\u001b[0m            [5, 7]])\n\u001b[0;32m    190\u001b[0m     \"\"\"\n\u001b[1;32m--> 191\u001b[1;33m     \u001b[1;32mreturn\u001b[0m \u001b[0m_wrapfunc\u001b[0m\u001b[1;33m(\u001b[0m\u001b[0ma\u001b[0m\u001b[1;33m,\u001b[0m \u001b[1;34m'take'\u001b[0m\u001b[1;33m,\u001b[0m \u001b[0mindices\u001b[0m\u001b[1;33m,\u001b[0m \u001b[0maxis\u001b[0m\u001b[1;33m=\u001b[0m\u001b[0maxis\u001b[0m\u001b[1;33m,\u001b[0m \u001b[0mout\u001b[0m\u001b[1;33m=\u001b[0m\u001b[0mout\u001b[0m\u001b[1;33m,\u001b[0m \u001b[0mmode\u001b[0m\u001b[1;33m=\u001b[0m\u001b[0mmode\u001b[0m\u001b[1;33m)\u001b[0m\u001b[1;33m\u001b[0m\u001b[1;33m\u001b[0m\u001b[0m\n\u001b[0m\u001b[0;32m    192\u001b[0m \u001b[1;33m\u001b[0m\u001b[0m\n\u001b[0;32m    193\u001b[0m \u001b[1;33m\u001b[0m\u001b[0m\n",
      "\u001b[1;32mc:\\users\\hp\\freeit\\lib\\site-packages\\numpy\\core\\fromnumeric.py\u001b[0m in \u001b[0;36m_wrapfunc\u001b[1;34m(obj, method, *args, **kwds)\u001b[0m\n\u001b[0;32m     56\u001b[0m \u001b[1;33m\u001b[0m\u001b[0m\n\u001b[0;32m     57\u001b[0m     \u001b[1;32mtry\u001b[0m\u001b[1;33m:\u001b[0m\u001b[1;33m\u001b[0m\u001b[1;33m\u001b[0m\u001b[0m\n\u001b[1;32m---> 58\u001b[1;33m         \u001b[1;32mreturn\u001b[0m \u001b[0mbound\u001b[0m\u001b[1;33m(\u001b[0m\u001b[1;33m*\u001b[0m\u001b[0margs\u001b[0m\u001b[1;33m,\u001b[0m \u001b[1;33m**\u001b[0m\u001b[0mkwds\u001b[0m\u001b[1;33m)\u001b[0m\u001b[1;33m\u001b[0m\u001b[1;33m\u001b[0m\u001b[0m\n\u001b[0m\u001b[0;32m     59\u001b[0m     \u001b[1;32mexcept\u001b[0m \u001b[0mTypeError\u001b[0m\u001b[1;33m:\u001b[0m\u001b[1;33m\u001b[0m\u001b[1;33m\u001b[0m\u001b[0m\n\u001b[0;32m     60\u001b[0m         \u001b[1;31m# A TypeError occurs if the object does have such a method in its\u001b[0m\u001b[1;33m\u001b[0m\u001b[1;33m\u001b[0m\u001b[1;33m\u001b[0m\u001b[0m\n",
      "\u001b[1;31mIndexError\u001b[0m: cannot do a non-empty take from an empty axes."
     ]
    }
   ],
   "source": [
    "sns.barplot(x='Country', y='total_spent', data=customers, estimator=np.sum , n_boot=0)\n",
    "plt.xticks(rotation=90)\n",
    "plt.show()"
   ]
  },
  {
   "cell_type": "code",
   "execution_count": 58,
   "metadata": {},
   "outputs": [
    {
     "data": {
      "image/png": "[encoded data removed]",
      "text/plain": [
       "<Figure size 432x288 with 1 Axes>"
      ]
     },
     "metadata": {
      "needs_background": "light"
     },
     "output_type": "display_data"
    }
   ],
   "source": [
    "# Отобразите данные графически\n",
    "sns.barplot(x='Country', y='sum of total spent', data=sum_tot_spent_by_country)\n",
    "plt.xticks(rotation=90)\n",
    "plt.show()"
   ]
  },
  {
   "cell_type": "markdown",
   "metadata": {},
   "source": [
    "#### 10b) Как и ожидалось, здесь снова преобладает одна страна. Попробуйте снова представить данные графически, но исключите преобладающую страну. Запишите в названии графика, какая часть общей потраченной суммы представлена на картинке."
   ]
  },
  {
   "cell_type": "code",
   "execution_count": 117,
   "metadata": {},
   "outputs": [
    {
     "ename": "NameError",
     "evalue": "name 'sum_tot_spent' is not defined",
     "output_type": "error",
     "traceback": [
      "\u001b[1;31m---------------------------------------------------------------------------\u001b[0m",
      "\u001b[1;31mNameError\u001b[0m                                 Traceback (most recent call last)",
      "\u001b[1;32m<ipython-input-117-e3a91297f591>\u001b[0m in \u001b[0;36m<module>\u001b[1;34m\u001b[0m\n\u001b[0;32m      2\u001b[0m \u001b[0mdf\u001b[0m \u001b[1;33m=\u001b[0m \u001b[0msum_tot_spent_by_country\u001b[0m\u001b[1;33m.\u001b[0m\u001b[0mquery\u001b[0m\u001b[1;33m(\u001b[0m\u001b[1;34m'Country != \"United Kingdom\"'\u001b[0m\u001b[1;33m)\u001b[0m\u001b[1;33m\u001b[0m\u001b[1;33m\u001b[0m\u001b[0m\n\u001b[0;32m      3\u001b[0m \u001b[0msns\u001b[0m\u001b[1;33m.\u001b[0m\u001b[0mbarplot\u001b[0m\u001b[1;33m(\u001b[0m\u001b[0mx\u001b[0m\u001b[1;33m=\u001b[0m\u001b[1;34m'Country'\u001b[0m\u001b[1;33m,\u001b[0m \u001b[0my\u001b[0m\u001b[1;33m=\u001b[0m\u001b[1;34m'sum of total spent'\u001b[0m\u001b[1;33m,\u001b[0m \u001b[0mdata\u001b[0m\u001b[1;33m=\u001b[0m\u001b[0mdf\u001b[0m\u001b[1;33m)\u001b[0m\u001b[1;33m\u001b[0m\u001b[1;33m\u001b[0m\u001b[0m\n\u001b[1;32m----> 4\u001b[1;33m \u001b[0mprop_uk_spending\u001b[0m \u001b[1;33m=\u001b[0m \u001b[0mcustomers\u001b[0m\u001b[1;33m.\u001b[0m\u001b[0mquery\u001b[0m\u001b[1;33m(\u001b[0m\u001b[1;34m'Country == \"United Kingdom\"'\u001b[0m\u001b[1;33m)\u001b[0m\u001b[1;33m[\u001b[0m\u001b[1;34m'total_spent'\u001b[0m\u001b[1;33m]\u001b[0m\u001b[1;33m.\u001b[0m\u001b[0msum\u001b[0m\u001b[1;33m(\u001b[0m\u001b[1;33m)\u001b[0m \u001b[1;33m/\u001b[0m \u001b[0msum_tot_spent\u001b[0m\u001b[1;33m\u001b[0m\u001b[1;33m\u001b[0m\u001b[0m\n\u001b[0m\u001b[0;32m      5\u001b[0m \u001b[0mplt\u001b[0m\u001b[1;33m.\u001b[0m\u001b[0mtitle\u001b[0m\u001b[1;33m(\u001b[0m\u001b[1;34m'{:.3f} of total spent is not from UK'\u001b[0m\u001b[1;33m.\u001b[0m\u001b[0mformat\u001b[0m\u001b[1;33m(\u001b[0m\u001b[1;36m1\u001b[0m \u001b[1;33m-\u001b[0m \u001b[0mprop_uk_spending\u001b[0m\u001b[1;33m)\u001b[0m\u001b[1;33m)\u001b[0m\u001b[1;33m\u001b[0m\u001b[1;33m\u001b[0m\u001b[0m\n\u001b[0;32m      6\u001b[0m \u001b[0mplt\u001b[0m\u001b[1;33m.\u001b[0m\u001b[0mxticks\u001b[0m\u001b[1;33m(\u001b[0m\u001b[0mrotation\u001b[0m\u001b[1;33m=\u001b[0m\u001b[1;36m90\u001b[0m\u001b[1;33m)\u001b[0m\u001b[1;33m\u001b[0m\u001b[1;33m\u001b[0m\u001b[0m\n",
      "\u001b[1;31mNameError\u001b[0m: name 'sum_tot_spent' is not defined"
     ]
    },
    {
     "data": {
      "image/png": "[encoded data removed]",
      "text/plain": [
       "<Figure size 432x288 with 1 Axes>"
      ]
     },
     "metadata": {
      "needs_background": "light"
     },
     "output_type": "display_data"
    }
   ],
   "source": [
    "# Изобразите графически общую потраченную сумму для каждой страны за исключением UK\n",
    "df = sum_tot_spent_by_country.query('Country != \"United Kingdom\"')\n",
    "sns.barplot(x='Country', y='sum of total spent', data=df)\n",
    "prop_uk_spending = customers.query('Country == \"United Kingdom\"')['total_spent'].sum() / sum_tot_spent\n",
    "plt.title('{:.3f} of total spent is not from UK'.format(1 - prop_uk_spending))\n",
    "plt.xticks(rotation=90)\n",
    "plt.show()"
   ]
  },
  {
   "cell_type": "markdown",
   "metadata": {},
   "source": [
    "#### 10c) Какова средняя потраченная сумма в каждой стране? (Подсказка: Вы можете использовать код очень похожий на тот, который Вы применяли, чтобы посчитать общую потраченную сумму)"
   ]
  },
  {
   "cell_type": "code",
   "execution_count": 118,
   "metadata": {},
   "outputs": [
    {
     "data": {
      "image/png": "[encoded data removed]",
      "text/plain": [
       "<Figure size 432x288 with 1 Axes>"
      ]
     },
     "metadata": {
      "needs_background": "light"
     },
     "output_type": "display_data"
    },
    {
     "data": {
      "text/html": [
       "<div>\n",
       "<style scoped>\n",
       "    .dataframe tbody tr th:only-of-type {\n",
       "        vertical-align: middle;\n",
       "    }\n",
       "\n",
       "    .dataframe tbody tr th {\n",
       "        vertical-align: top;\n",
       "    }\n",
       "\n",
       "    .dataframe thead th {\n",
       "        text-align: right;\n",
       "    }\n",
       "</style>\n",
       "<table border=\"1\" class=\"dataframe\">\n",
       "  <thead>\n",
       "    <tr style=\"text-align: right;\">\n",
       "      <th></th>\n",
       "      <th>Country</th>\n",
       "      <th>mean spent by customers</th>\n",
       "    </tr>\n",
       "  </thead>\n",
       "  <tbody>\n",
       "    <tr>\n",
       "      <th>0</th>\n",
       "      <td>Austria</td>\n",
       "      <td>1327.400000</td>\n",
       "    </tr>\n",
       "    <tr>\n",
       "      <th>1</th>\n",
       "      <td>Belgium</td>\n",
       "      <td>2202.490000</td>\n",
       "    </tr>\n",
       "    <tr>\n",
       "      <th>2</th>\n",
       "      <td>Finland</td>\n",
       "      <td>5181.845000</td>\n",
       "    </tr>\n",
       "    <tr>\n",
       "      <th>3</th>\n",
       "      <td>France</td>\n",
       "      <td>3943.021304</td>\n",
       "    </tr>\n",
       "    <tr>\n",
       "      <th>4</th>\n",
       "      <td>Germany</td>\n",
       "      <td>4464.163151</td>\n",
       "    </tr>\n",
       "    <tr>\n",
       "      <th>5</th>\n",
       "      <td>Italy</td>\n",
       "      <td>2004.671000</td>\n",
       "    </tr>\n",
       "    <tr>\n",
       "      <th>6</th>\n",
       "      <td>Norway</td>\n",
       "      <td>4959.168571</td>\n",
       "    </tr>\n",
       "    <tr>\n",
       "      <th>7</th>\n",
       "      <td>Portugal</td>\n",
       "      <td>2784.575000</td>\n",
       "    </tr>\n",
       "    <tr>\n",
       "      <th>8</th>\n",
       "      <td>Spain</td>\n",
       "      <td>4788.741500</td>\n",
       "    </tr>\n",
       "    <tr>\n",
       "      <th>9</th>\n",
       "      <td>Switzerland</td>\n",
       "      <td>4490.742000</td>\n",
       "    </tr>\n",
       "    <tr>\n",
       "      <th>10</th>\n",
       "      <td>United Kingdom</td>\n",
       "      <td>3636.505831</td>\n",
       "    </tr>\n",
       "  </tbody>\n",
       "</table>\n",
       "</div>"
      ],
      "text/plain": [
       "           Country  mean spent by customers\n",
       "0          Austria              1327.400000\n",
       "1          Belgium              2202.490000\n",
       "2          Finland              5181.845000\n",
       "3           France              3943.021304\n",
       "4          Germany              4464.163151\n",
       "5            Italy              2004.671000\n",
       "6           Norway              4959.168571\n",
       "7         Portugal              2784.575000\n",
       "8            Spain              4788.741500\n",
       "9      Switzerland              4490.742000\n",
       "10  United Kingdom              3636.505831"
      ]
     },
     "execution_count": 118,
     "metadata": {},
     "output_type": "execute_result"
    }
   ],
   "source": [
    "# Средняя total_spent для каждой страны\n",
    "avg_spend_by_country = (\n",
    "    customers['total_spent']\n",
    "         .groupby(customers['Country'])\n",
    "         .mean()\n",
    "         .rename('mean spent by customers')\n",
    "         .reset_index()  # required to make 'Country' a column for the plot\n",
    ")\n",
    "sns.barplot(x='Country', y='mean spent by customers', data=avg_spend_by_country)\n",
    "plt.xticks(rotation=90)\n",
    "plt.show()\n",
    "avg_spend_by_country"
   ]
  },
  {
   "cell_type": "markdown",
   "metadata": {},
   "source": [
    "#### 10d) Бонус: (переходите к следующему заданию, если не сможете справиться за пару минут) -- Какова средняя сумма *заказа* в каждой стране (используйте колонку `n_orders`)? Подсказка: будьте внимательны...среднее значение колонки `mean_spent` не равно искомой величине, например, $\\frac{\\frac{10}{5} + \\frac{20}{4}}{2} \\ne \\frac{10 + 20}{5+4}$...В моём решении я сначала использую функцию, чтобы посчитать среднюю сумму заказа для данного датафрэйма, а затем применяю данную функцию с помощью метода `apply` к каждой стране, предварительно сгруппировав их, используя  метод `groupby`."
   ]
  },
  {
   "cell_type": "code",
   "execution_count": 119,
   "metadata": {},
   "outputs": [
    {
     "name": "stdout",
     "output_type": "stream",
     "text": [
      "Mean spent per order in the dataset = £907.94\n",
      "           Country  mean spend per order\n",
      "0          Austria            816.861538\n",
      "1          Belgium            700.792273\n",
      "2          Finland           1413.230455\n",
      "3           France           1075.369447\n",
      "4          Germany            941.861012\n",
      "5            Italy            742.470741\n",
      "6           Norway           2479.584286\n",
      "7         Portugal           1077.900000\n",
      "8            Spain           1680.260175\n",
      "9      Switzerland           1820.571081\n",
      "10  United Kingdom            895.601771\n"
     ]
    },
    {
     "data": {
      "image/png": "[encoded data removed]",
      "text/plain": [
       "<Figure size 432x288 with 1 Axes>"
      ]
     },
     "metadata": {
      "needs_background": "light"
     },
     "output_type": "display_data"
    },
    {
     "name": "stdout",
     "output_type": "stream",
     "text": [
      "Mean spent per item in the dataset = £1.69\n",
      "           Country  mean spend per item\n",
      "0          Austria             1.821475\n",
      "1          Belgium             1.448734\n",
      "2          Finland             1.481656\n",
      "3           France             1.625201\n",
      "4          Germany             1.750624\n",
      "5            Italy             1.862039\n",
      "6           Norway             1.696768\n",
      "7         Portugal             1.708416\n",
      "8            Spain             2.126156\n",
      "9      Switzerland             1.615917\n",
      "10  United Kingdom             1.687845\n"
     ]
    },
    {
     "data": {
      "image/png": "[encoded data removed]",
      "text/plain": [
       "<Figure size 432x288 with 1 Axes>"
      ]
     },
     "metadata": {
      "needs_background": "light"
     },
     "output_type": "display_data"
    }
   ],
   "source": [
    "# Средняя сумма заказа для каждой страны\n",
    "def mean_spent_per_order(df):\n",
    "    total_orders = df.n_orders.sum()\n",
    "    total_spent = df.total_spent.sum()\n",
    "    return total_spent/total_orders\n",
    "print('Mean spent per order in the dataset = £{:.2f}'.format(mean_spent_per_order(customers)))\n",
    "\n",
    "avg_order_spend_by_country = (\n",
    "    customers\n",
    "         .groupby(customers['Country'])\n",
    "         .apply(mean_spent_per_order)\n",
    "         .rename('mean spend per order')\n",
    "         .reset_index()  # required to make 'Country' a column for the plot\n",
    ") # I use these brackets here to allow the methods to chain over newlines - readability\n",
    "print(avg_order_spend_by_country)\n",
    "\n",
    "sns.barplot(x='Country', y='mean spend per order', data=avg_order_spend_by_country)\n",
    "plt.axhline(mean_spent_per_order(customers), color='black', linestyle='dashed', linewidth=2, label='dataset mean')\n",
    "plt.legend()\n",
    "plt.xticks(rotation=90)\n",
    "plt.show()\n",
    "\n",
    "\n",
    "# EXTRA ==============\n",
    "# A little bonus for your efforts - see how easy it is to change this analysis to \"mean spent per *item*\"\n",
    "def mean_spent_per_item(df):\n",
    "    total_items = df.total_items.sum()\n",
    "    total_spent = df.total_spent.sum()\n",
    "    return total_spent/total_items\n",
    "print('Mean spent per item in the dataset = £{:.2f}'.format(mean_spent_per_item(customers)))\n",
    "\n",
    "avg_item_spend_by_country = (\n",
    "    customers\n",
    "         .groupby(customers['Country'])\n",
    "         .apply(mean_spent_per_item)\n",
    "         .rename('mean spend per item')\n",
    "         .reset_index()  # required to make 'Country' a column for the plot\n",
    ") # I use these brackets here to allow the methods to chain over newlines - readability\n",
    "print(avg_item_spend_by_country)\n",
    "sns.barplot(x='Country', y='mean spend per item', data=avg_item_spend_by_country)\n",
    "plt.axhline(mean_spent_per_item(customers), color='black', linestyle='dashed', linewidth=2, label='dataset mean')\n",
    "plt.legend()\n",
    "plt.xticks(rotation=90)\n",
    "plt.show()\n"
   ]
  },
  {
   "cell_type": "markdown",
   "metadata": {},
   "source": [
    "#### 11a) Поскольку при сравнении стран общее число заказов очень сдвинуто, нам следует сравнить их соотношения. Сравните  **пропорции** количества клиентов с 1 заказом по сравнению с клиентами, сделавшими 2+ заказа, для каждой страны. Выведите данную информацию в виде таблицы или графика."
   ]
  },
  {
   "cell_type": "code",
   "execution_count": 120,
   "metadata": {},
   "outputs": [
    {
     "data": {
      "image/png": "[encoded data removed]",
      "text/plain": [
       "<Figure size 432x288 with 1 Axes>"
      ]
     },
     "metadata": {
      "needs_background": "light"
     },
     "output_type": "display_data"
    }
   ],
   "source": [
    "df = customers\n",
    "\n",
    "x, y, hue = \"Country\", \"prop\", \"Number of Orders\"\n",
    "\n",
    "one_or_more = lambda x: '1' if x==1 else '>=2'\n",
    "\n",
    "prop_df = (df['n_orders']\n",
    "           .apply(one_or_more)\n",
    "           .rename(hue)\n",
    "           .groupby(df[x])\n",
    "           .value_counts(normalize=True)\n",
    "           .rename(y)\n",
    "           .reset_index())\n",
    "\n",
    "sns.barplot(x=x, y=y, hue=hue, data=prop_df)\n",
    "plt.xticks(rotation=90)\n",
    "plt.show()"
   ]
  },
  {
   "cell_type": "markdown",
   "metadata": {},
   "source": [
    "#### 11b) Повторите предыдущее задание, используя функцию `pd.cut` и более интересные группы интервалов."
   ]
  },
  {
   "cell_type": "code",
   "execution_count": 121,
   "metadata": {
    "scrolled": true
   },
   "outputs": [
    {
     "data": {
      "image/png": "[encoded data removed]",
      "text/plain": [
       "<Figure size 432x288 with 1 Axes>"
      ]
     },
     "metadata": {
      "needs_background": "light"
     },
     "output_type": "display_data"
    }
   ],
   "source": [
    "df = customers\n",
    "x, y, hue = \"n_orders\", \"prop\", \"Country\"\n",
    "\n",
    "prop_df = (pd.cut(df[x], [0, 1, 2, 5, 10, np.inf])\n",
    "           .groupby(df[hue])\n",
    "           .value_counts(normalize=True)\n",
    "           .rename(y)\n",
    "           .reset_index())\n",
    "\n",
    "sns.barplot(x=hue, y=y, hue=x, data=prop_df)\n",
    "plt.xticks(rotation=90)\n",
    "plt.show()"
   ]
  },
  {
   "cell_type": "markdown",
   "metadata": {},
   "source": [
    "#### 12) Попытайтесь своими словами обобщить всё то, что Вы узнали об этом наборе данных из Вашего анализа"
   ]
  },
  {
   "cell_type": "code",
   "execution_count": null,
   "metadata": {},
   "outputs": [],
   "source": [
    "# Обобщите Ваши новые знания из приведённых выше заданий!\n"
   ]
  }
 ],
 "metadata": {
  "kernelspec": {
   "display_name": "Python 3",
   "language": "python",
   "name": "python3"
  },
  "language_info": {
   "codemirror_mode": {
    "name": "ipython",
    "version": 3
   },
   "file_extension": ".py",
   "mimetype": "text/x-python",
   "name": "python",
   "nbconvert_exporter": "python",
   "pygments_lexer": "ipython3",
   "version": "3.8.6"
  }
 },
 "nbformat": 4,
 "nbformat_minor": 2
}
