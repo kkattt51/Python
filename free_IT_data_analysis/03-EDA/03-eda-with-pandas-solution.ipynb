{
 "cells": [
  {
   "cell_type": "markdown",
   "metadata": {},
   "source": [
    "# Exploratory Data Analysis with Pandas"
   ]
  },
  {
   "cell_type": "markdown",
   "metadata": {},
   "source": [
    "Whenever you receive a new dataset, you should perform some form of EDA. The main things you should be doing are:\n",
    "* getting a feel for what the data look like\n",
    "* establishing what types the data have\n",
    "* identifying any potential issues that need cleaning\n",
    "* considering whether there may be any issues when it comes to modelling the dataset\n",
    "\n",
    "For this example, we haven't given you an explicit modelling task to think of whilst you perform this task. This can happen in real life too - \"what can you do with this data?\" is a legitimate question you may receive. Think about what you might be able to model from this data whilst you get to know the dataset. How might your model be useful to the dataset's owner?"
   ]
  },
  {
   "cell_type": "markdown",
   "metadata": {},
   "source": [
    "## Module load"
   ]
  },
  {
   "cell_type": "markdown",
   "metadata": {},
   "source": [
    "Please import the libraries you'll need for data analysis: `numpy`, `pandas`, `matplotlib.pyplot`, and `seaborn`"
   ]
  },
  {
   "cell_type": "code",
   "execution_count": 60,
   "metadata": {},
   "outputs": [],
   "source": [
    "# Import the required modules\n",
    "import numpy as np\n",
    "import pandas as pd\n",
    "import matplotlib.pyplot as plt\n",
    "import seaborn as sns"
   ]
  },
  {
   "cell_type": "markdown",
   "metadata": {},
   "source": [
    "The below is not recommended in general, but will clean up this notebook (there are some issues with seaborn plots kicking out warnings which are a bit messy). Feel free to comment this out if you want to see the warnings."
   ]
  },
  {
   "cell_type": "code",
   "execution_count": 61,
   "metadata": {},
   "outputs": [],
   "source": [
    "import warnings\n",
    "warnings.simplefilter(action='ignore', category=FutureWarning)"
   ]
  },
  {
   "cell_type": "markdown",
   "metadata": {},
   "source": [
    "## Loading"
   ]
  },
  {
   "cell_type": "markdown",
   "metadata": {},
   "source": [
    "Load `retail_data.csv` using the relevant pandas method. Make `\"CustomerID\"` the index of the DataFrame. Print the first few lines to check your import looks ok."
   ]
  },
  {
   "cell_type": "code",
   "execution_count": 62,
   "metadata": {},
   "outputs": [],
   "source": [
    "# Import the data\n",
    "customers_wrong = pd.read_csv('data/retail_data.csv')"
   ]
  },
  {
   "cell_type": "code",
   "execution_count": 63,
   "metadata": {},
   "outputs": [
    {
     "data": {
      "text/html": [
       "<div>\n",
       "<style scoped>\n",
       "    .dataframe tbody tr th:only-of-type {\n",
       "        vertical-align: middle;\n",
       "    }\n",
       "\n",
       "    .dataframe tbody tr th {\n",
       "        vertical-align: top;\n",
       "    }\n",
       "\n",
       "    .dataframe thead th {\n",
       "        text-align: right;\n",
       "    }\n",
       "</style>\n",
       "<table border=\"1\" class=\"dataframe\">\n",
       "  <thead>\n",
       "    <tr style=\"text-align: right;\">\n",
       "      <th></th>\n",
       "      <th>CustomerID</th>\n",
       "      <th>Country</th>\n",
       "      <th>balance</th>\n",
       "      <th>max_spent</th>\n",
       "      <th>mean_spent</th>\n",
       "      <th>min_spent</th>\n",
       "      <th>n_orders</th>\n",
       "      <th>time_between_orders</th>\n",
       "      <th>total_items</th>\n",
       "      <th>total_items_returned</th>\n",
       "      <th>total_refunded</th>\n",
       "      <th>total_spent</th>\n",
       "    </tr>\n",
       "  </thead>\n",
       "  <tbody>\n",
       "    <tr>\n",
       "      <th>0</th>\n",
       "      <td>12346</td>\n",
       "      <td>United Kingdom</td>\n",
       "      <td>0.00</td>\n",
       "      <td>77183.6</td>\n",
       "      <td>38591.800000</td>\n",
       "      <td>0.0</td>\n",
       "      <td>2.0</td>\n",
       "      <td>NaN</td>\n",
       "      <td>74215.0</td>\n",
       "      <td>-74215.0</td>\n",
       "      <td>-77183.60</td>\n",
       "      <td>77183.60</td>\n",
       "    </tr>\n",
       "    <tr>\n",
       "      <th>1</th>\n",
       "      <td>12348</td>\n",
       "      <td>Finland</td>\n",
       "      <td>3874.60</td>\n",
       "      <td>2248.8</td>\n",
       "      <td>1291.533333</td>\n",
       "      <td>478.8</td>\n",
       "      <td>3.0</td>\n",
       "      <td>54.500000</td>\n",
       "      <td>6876.0</td>\n",
       "      <td>0.0</td>\n",
       "      <td>0.00</td>\n",
       "      <td>3874.60</td>\n",
       "    </tr>\n",
       "    <tr>\n",
       "      <th>2</th>\n",
       "      <td>12350</td>\n",
       "      <td>Norway</td>\n",
       "      <td>294.40</td>\n",
       "      <td>294.4</td>\n",
       "      <td>294.400000</td>\n",
       "      <td>294.4</td>\n",
       "      <td>1.0</td>\n",
       "      <td>NaN</td>\n",
       "      <td>196.0</td>\n",
       "      <td>0.0</td>\n",
       "      <td>0.00</td>\n",
       "      <td>294.40</td>\n",
       "    </tr>\n",
       "    <tr>\n",
       "      <th>3</th>\n",
       "      <td>12352</td>\n",
       "      <td>Norway</td>\n",
       "      <td>1845.13</td>\n",
       "      <td>1054.1</td>\n",
       "      <td>393.092000</td>\n",
       "      <td>0.0</td>\n",
       "      <td>5.0</td>\n",
       "      <td>11.333333</td>\n",
       "      <td>774.0</td>\n",
       "      <td>-63.0</td>\n",
       "      <td>-120.33</td>\n",
       "      <td>1965.46</td>\n",
       "    </tr>\n",
       "    <tr>\n",
       "      <th>4</th>\n",
       "      <td>12354</td>\n",
       "      <td>Spain</td>\n",
       "      <td>1079.40</td>\n",
       "      <td>1079.4</td>\n",
       "      <td>1079.400000</td>\n",
       "      <td>1079.4</td>\n",
       "      <td>1.0</td>\n",
       "      <td>NaN</td>\n",
       "      <td>530.0</td>\n",
       "      <td>0.0</td>\n",
       "      <td>0.00</td>\n",
       "      <td>1079.40</td>\n",
       "    </tr>\n",
       "  </tbody>\n",
       "</table>\n",
       "</div>"
      ],
      "text/plain": [
       "   CustomerID         Country  balance  max_spent    mean_spent  min_spent  \\\n",
       "0       12346  United Kingdom     0.00    77183.6  38591.800000        0.0   \n",
       "1       12348         Finland  3874.60     2248.8   1291.533333      478.8   \n",
       "2       12350          Norway   294.40      294.4    294.400000      294.4   \n",
       "3       12352          Norway  1845.13     1054.1    393.092000        0.0   \n",
       "4       12354           Spain  1079.40     1079.4   1079.400000     1079.4   \n",
       "\n",
       "   n_orders  time_between_orders  total_items  total_items_returned  \\\n",
       "0       2.0                  NaN      74215.0              -74215.0   \n",
       "1       3.0            54.500000       6876.0                   0.0   \n",
       "2       1.0                  NaN        196.0                   0.0   \n",
       "3       5.0            11.333333        774.0                 -63.0   \n",
       "4       1.0                  NaN        530.0                   0.0   \n",
       "\n",
       "   total_refunded  total_spent  \n",
       "0       -77183.60     77183.60  \n",
       "1            0.00      3874.60  \n",
       "2            0.00       294.40  \n",
       "3         -120.33      1965.46  \n",
       "4            0.00      1079.40  "
      ]
     },
     "execution_count": 63,
     "metadata": {},
     "output_type": "execute_result"
    }
   ],
   "source": [
    "customers_wrong.head()"
   ]
  },
  {
   "cell_type": "code",
   "execution_count": 64,
   "metadata": {},
   "outputs": [],
   "source": [
    "# Import the data\n",
    "customers = pd.read_csv('data/retail_data.csv', \n",
    "                         index_col=\"CustomerID\")"
   ]
  },
  {
   "cell_type": "code",
   "execution_count": 65,
   "metadata": {},
   "outputs": [
    {
     "data": {
      "text/html": [
       "<div>\n",
       "<style scoped>\n",
       "    .dataframe tbody tr th:only-of-type {\n",
       "        vertical-align: middle;\n",
       "    }\n",
       "\n",
       "    .dataframe tbody tr th {\n",
       "        vertical-align: top;\n",
       "    }\n",
       "\n",
       "    .dataframe thead th {\n",
       "        text-align: right;\n",
       "    }\n",
       "</style>\n",
       "<table border=\"1\" class=\"dataframe\">\n",
       "  <thead>\n",
       "    <tr style=\"text-align: right;\">\n",
       "      <th></th>\n",
       "      <th>Country</th>\n",
       "      <th>balance</th>\n",
       "      <th>max_spent</th>\n",
       "      <th>mean_spent</th>\n",
       "      <th>min_spent</th>\n",
       "      <th>n_orders</th>\n",
       "      <th>time_between_orders</th>\n",
       "      <th>total_items</th>\n",
       "      <th>total_items_returned</th>\n",
       "      <th>total_refunded</th>\n",
       "      <th>total_spent</th>\n",
       "    </tr>\n",
       "    <tr>\n",
       "      <th>CustomerID</th>\n",
       "      <th></th>\n",
       "      <th></th>\n",
       "      <th></th>\n",
       "      <th></th>\n",
       "      <th></th>\n",
       "      <th></th>\n",
       "      <th></th>\n",
       "      <th></th>\n",
       "      <th></th>\n",
       "      <th></th>\n",
       "      <th></th>\n",
       "    </tr>\n",
       "  </thead>\n",
       "  <tbody>\n",
       "    <tr>\n",
       "      <th>12346</th>\n",
       "      <td>United Kingdom</td>\n",
       "      <td>0.00</td>\n",
       "      <td>77183.6</td>\n",
       "      <td>38591.800000</td>\n",
       "      <td>0.0</td>\n",
       "      <td>2.0</td>\n",
       "      <td>NaN</td>\n",
       "      <td>74215.0</td>\n",
       "      <td>-74215.0</td>\n",
       "      <td>-77183.60</td>\n",
       "      <td>77183.60</td>\n",
       "    </tr>\n",
       "    <tr>\n",
       "      <th>12348</th>\n",
       "      <td>Finland</td>\n",
       "      <td>3874.60</td>\n",
       "      <td>2248.8</td>\n",
       "      <td>1291.533333</td>\n",
       "      <td>478.8</td>\n",
       "      <td>3.0</td>\n",
       "      <td>54.500000</td>\n",
       "      <td>6876.0</td>\n",
       "      <td>0.0</td>\n",
       "      <td>0.00</td>\n",
       "      <td>3874.60</td>\n",
       "    </tr>\n",
       "    <tr>\n",
       "      <th>12350</th>\n",
       "      <td>Norway</td>\n",
       "      <td>294.40</td>\n",
       "      <td>294.4</td>\n",
       "      <td>294.400000</td>\n",
       "      <td>294.4</td>\n",
       "      <td>1.0</td>\n",
       "      <td>NaN</td>\n",
       "      <td>196.0</td>\n",
       "      <td>0.0</td>\n",
       "      <td>0.00</td>\n",
       "      <td>294.40</td>\n",
       "    </tr>\n",
       "    <tr>\n",
       "      <th>12352</th>\n",
       "      <td>Norway</td>\n",
       "      <td>1845.13</td>\n",
       "      <td>1054.1</td>\n",
       "      <td>393.092000</td>\n",
       "      <td>0.0</td>\n",
       "      <td>5.0</td>\n",
       "      <td>11.333333</td>\n",
       "      <td>774.0</td>\n",
       "      <td>-63.0</td>\n",
       "      <td>-120.33</td>\n",
       "      <td>1965.46</td>\n",
       "    </tr>\n",
       "    <tr>\n",
       "      <th>12354</th>\n",
       "      <td>Spain</td>\n",
       "      <td>1079.40</td>\n",
       "      <td>1079.4</td>\n",
       "      <td>1079.400000</td>\n",
       "      <td>1079.4</td>\n",
       "      <td>1.0</td>\n",
       "      <td>NaN</td>\n",
       "      <td>530.0</td>\n",
       "      <td>0.0</td>\n",
       "      <td>0.00</td>\n",
       "      <td>1079.40</td>\n",
       "    </tr>\n",
       "  </tbody>\n",
       "</table>\n",
       "</div>"
      ],
      "text/plain": [
       "                   Country  balance  max_spent    mean_spent  min_spent  \\\n",
       "CustomerID                                                                \n",
       "12346       United Kingdom     0.00    77183.6  38591.800000        0.0   \n",
       "12348              Finland  3874.60     2248.8   1291.533333      478.8   \n",
       "12350               Norway   294.40      294.4    294.400000      294.4   \n",
       "12352               Norway  1845.13     1054.1    393.092000        0.0   \n",
       "12354                Spain  1079.40     1079.4   1079.400000     1079.4   \n",
       "\n",
       "            n_orders  time_between_orders  total_items  total_items_returned  \\\n",
       "CustomerID                                                                     \n",
       "12346            2.0                  NaN      74215.0              -74215.0   \n",
       "12348            3.0            54.500000       6876.0                   0.0   \n",
       "12350            1.0                  NaN        196.0                   0.0   \n",
       "12352            5.0            11.333333        774.0                 -63.0   \n",
       "12354            1.0                  NaN        530.0                   0.0   \n",
       "\n",
       "            total_refunded  total_spent  \n",
       "CustomerID                               \n",
       "12346            -77183.60     77183.60  \n",
       "12348                 0.00      3874.60  \n",
       "12350                 0.00       294.40  \n",
       "12352              -120.33      1965.46  \n",
       "12354                 0.00      1079.40  "
      ]
     },
     "execution_count": 65,
     "metadata": {},
     "output_type": "execute_result"
    }
   ],
   "source": [
    "customers.head()"
   ]
  },
  {
   "cell_type": "code",
   "execution_count": 66,
   "metadata": {},
   "outputs": [
    {
     "data": {
      "text/plain": [
       "Country                 United Kingdom\n",
       "balance                              0\n",
       "max_spent                      77183.6\n",
       "mean_spent                     38591.8\n",
       "min_spent                            0\n",
       "n_orders                             2\n",
       "time_between_orders                NaN\n",
       "total_items                      74215\n",
       "total_items_returned            -74215\n",
       "total_refunded                -77183.6\n",
       "total_spent                    77183.6\n",
       "Name: 12346, dtype: object"
      ]
     },
     "execution_count": 66,
     "metadata": {},
     "output_type": "execute_result"
    }
   ],
   "source": [
    "customers.iloc[0]"
   ]
  },
  {
   "cell_type": "code",
   "execution_count": 67,
   "metadata": {},
   "outputs": [
    {
     "data": {
      "text/html": [
       "<div>\n",
       "<style scoped>\n",
       "    .dataframe tbody tr th:only-of-type {\n",
       "        vertical-align: middle;\n",
       "    }\n",
       "\n",
       "    .dataframe tbody tr th {\n",
       "        vertical-align: top;\n",
       "    }\n",
       "\n",
       "    .dataframe thead th {\n",
       "        text-align: right;\n",
       "    }\n",
       "</style>\n",
       "<table border=\"1\" class=\"dataframe\">\n",
       "  <thead>\n",
       "    <tr style=\"text-align: right;\">\n",
       "      <th></th>\n",
       "      <th>Country</th>\n",
       "      <th>balance</th>\n",
       "      <th>max_spent</th>\n",
       "      <th>mean_spent</th>\n",
       "      <th>min_spent</th>\n",
       "      <th>n_orders</th>\n",
       "      <th>time_between_orders</th>\n",
       "      <th>total_items</th>\n",
       "      <th>total_items_returned</th>\n",
       "      <th>total_refunded</th>\n",
       "      <th>total_spent</th>\n",
       "    </tr>\n",
       "    <tr>\n",
       "      <th>CustomerID</th>\n",
       "      <th></th>\n",
       "      <th></th>\n",
       "      <th></th>\n",
       "      <th></th>\n",
       "      <th></th>\n",
       "      <th></th>\n",
       "      <th></th>\n",
       "      <th></th>\n",
       "      <th></th>\n",
       "      <th></th>\n",
       "      <th></th>\n",
       "    </tr>\n",
       "  </thead>\n",
       "  <tbody>\n",
       "    <tr>\n",
       "      <th>12346</th>\n",
       "      <td>United Kingdom</td>\n",
       "      <td>0.00</td>\n",
       "      <td>77183.60</td>\n",
       "      <td>38591.800000</td>\n",
       "      <td>0.00</td>\n",
       "      <td>2.0</td>\n",
       "      <td>NaN</td>\n",
       "      <td>74215.0</td>\n",
       "      <td>-74215.0</td>\n",
       "      <td>-77183.60</td>\n",
       "      <td>77183.60</td>\n",
       "    </tr>\n",
       "    <tr>\n",
       "      <th>12348</th>\n",
       "      <td>Finland</td>\n",
       "      <td>3874.60</td>\n",
       "      <td>2248.80</td>\n",
       "      <td>1291.533333</td>\n",
       "      <td>478.80</td>\n",
       "      <td>3.0</td>\n",
       "      <td>54.500000</td>\n",
       "      <td>6876.0</td>\n",
       "      <td>0.0</td>\n",
       "      <td>0.00</td>\n",
       "      <td>3874.60</td>\n",
       "    </tr>\n",
       "    <tr>\n",
       "      <th>12350</th>\n",
       "      <td>Norway</td>\n",
       "      <td>294.40</td>\n",
       "      <td>294.40</td>\n",
       "      <td>294.400000</td>\n",
       "      <td>294.40</td>\n",
       "      <td>1.0</td>\n",
       "      <td>NaN</td>\n",
       "      <td>196.0</td>\n",
       "      <td>0.0</td>\n",
       "      <td>0.00</td>\n",
       "      <td>294.40</td>\n",
       "    </tr>\n",
       "    <tr>\n",
       "      <th>12352</th>\n",
       "      <td>Norway</td>\n",
       "      <td>1845.13</td>\n",
       "      <td>1054.10</td>\n",
       "      <td>393.092000</td>\n",
       "      <td>0.00</td>\n",
       "      <td>5.0</td>\n",
       "      <td>11.333333</td>\n",
       "      <td>774.0</td>\n",
       "      <td>-63.0</td>\n",
       "      <td>-120.33</td>\n",
       "      <td>1965.46</td>\n",
       "    </tr>\n",
       "    <tr>\n",
       "      <th>12354</th>\n",
       "      <td>Spain</td>\n",
       "      <td>1079.40</td>\n",
       "      <td>1079.40</td>\n",
       "      <td>1079.400000</td>\n",
       "      <td>1079.40</td>\n",
       "      <td>1.0</td>\n",
       "      <td>NaN</td>\n",
       "      <td>530.0</td>\n",
       "      <td>0.0</td>\n",
       "      <td>0.00</td>\n",
       "      <td>1079.40</td>\n",
       "    </tr>\n",
       "    <tr>\n",
       "      <th>12356</th>\n",
       "      <td>Portugal</td>\n",
       "      <td>6621.63</td>\n",
       "      <td>5011.34</td>\n",
       "      <td>3310.815000</td>\n",
       "      <td>1610.29</td>\n",
       "      <td>2.0</td>\n",
       "      <td>80.000000</td>\n",
       "      <td>4455.0</td>\n",
       "      <td>0.0</td>\n",
       "      <td>0.00</td>\n",
       "      <td>6621.63</td>\n",
       "    </tr>\n",
       "    <tr>\n",
       "      <th>12358</th>\n",
       "      <td>Austria</td>\n",
       "      <td>404.86</td>\n",
       "      <td>404.86</td>\n",
       "      <td>404.860000</td>\n",
       "      <td>404.86</td>\n",
       "      <td>1.0</td>\n",
       "      <td>NaN</td>\n",
       "      <td>98.0</td>\n",
       "      <td>0.0</td>\n",
       "      <td>0.00</td>\n",
       "      <td>404.86</td>\n",
       "    </tr>\n",
       "    <tr>\n",
       "      <th>12360</th>\n",
       "      <td>Austria</td>\n",
       "      <td>4359.34</td>\n",
       "      <td>2984.60</td>\n",
       "      <td>2179.670000</td>\n",
       "      <td>1374.74</td>\n",
       "      <td>2.0</td>\n",
       "      <td>88.000000</td>\n",
       "      <td>2116.0</td>\n",
       "      <td>0.0</td>\n",
       "      <td>0.00</td>\n",
       "      <td>4359.34</td>\n",
       "    </tr>\n",
       "    <tr>\n",
       "      <th>12361</th>\n",
       "      <td>Belgium</td>\n",
       "      <td>174.90</td>\n",
       "      <td>174.90</td>\n",
       "      <td>174.900000</td>\n",
       "      <td>174.90</td>\n",
       "      <td>1.0</td>\n",
       "      <td>NaN</td>\n",
       "      <td>90.0</td>\n",
       "      <td>0.0</td>\n",
       "      <td>0.00</td>\n",
       "      <td>174.90</td>\n",
       "    </tr>\n",
       "    <tr>\n",
       "      <th>12362</th>\n",
       "      <td>Belgium</td>\n",
       "      <td>4700.73</td>\n",
       "      <td>1437.00</td>\n",
       "      <td>787.255000</td>\n",
       "      <td>0.00</td>\n",
       "      <td>6.0</td>\n",
       "      <td>58.000000</td>\n",
       "      <td>2929.0</td>\n",
       "      <td>-10.0</td>\n",
       "      <td>-22.80</td>\n",
       "      <td>4723.53</td>\n",
       "    </tr>\n",
       "  </tbody>\n",
       "</table>\n",
       "</div>"
      ],
      "text/plain": [
       "                   Country  balance  max_spent    mean_spent  min_spent  \\\n",
       "CustomerID                                                                \n",
       "12346       United Kingdom     0.00   77183.60  38591.800000       0.00   \n",
       "12348              Finland  3874.60    2248.80   1291.533333     478.80   \n",
       "12350               Norway   294.40     294.40    294.400000     294.40   \n",
       "12352               Norway  1845.13    1054.10    393.092000       0.00   \n",
       "12354                Spain  1079.40    1079.40   1079.400000    1079.40   \n",
       "12356             Portugal  6621.63    5011.34   3310.815000    1610.29   \n",
       "12358              Austria   404.86     404.86    404.860000     404.86   \n",
       "12360              Austria  4359.34    2984.60   2179.670000    1374.74   \n",
       "12361              Belgium   174.90     174.90    174.900000     174.90   \n",
       "12362              Belgium  4700.73    1437.00    787.255000       0.00   \n",
       "\n",
       "            n_orders  time_between_orders  total_items  total_items_returned  \\\n",
       "CustomerID                                                                     \n",
       "12346            2.0                  NaN      74215.0              -74215.0   \n",
       "12348            3.0            54.500000       6876.0                   0.0   \n",
       "12350            1.0                  NaN        196.0                   0.0   \n",
       "12352            5.0            11.333333        774.0                 -63.0   \n",
       "12354            1.0                  NaN        530.0                   0.0   \n",
       "12356            2.0            80.000000       4455.0                   0.0   \n",
       "12358            1.0                  NaN         98.0                   0.0   \n",
       "12360            2.0            88.000000       2116.0                   0.0   \n",
       "12361            1.0                  NaN         90.0                   0.0   \n",
       "12362            6.0            58.000000       2929.0                 -10.0   \n",
       "\n",
       "            total_refunded  total_spent  \n",
       "CustomerID                               \n",
       "12346            -77183.60     77183.60  \n",
       "12348                 0.00      3874.60  \n",
       "12350                 0.00       294.40  \n",
       "12352              -120.33      1965.46  \n",
       "12354                 0.00      1079.40  \n",
       "12356                 0.00      6621.63  \n",
       "12358                 0.00       404.86  \n",
       "12360                 0.00      4359.34  \n",
       "12361                 0.00       174.90  \n",
       "12362               -22.80      4723.53  "
      ]
     },
     "execution_count": 67,
     "metadata": {},
     "output_type": "execute_result"
    }
   ],
   "source": [
    "# Print a few rows of the DataFrame\n",
    "customers.head(10)"
   ]
  },
  {
   "cell_type": "markdown",
   "metadata": {},
   "source": [
    "## Understanding the data"
   ]
  },
  {
   "cell_type": "markdown",
   "metadata": {},
   "source": [
    "The first thing to do is to check the import has definitely worked ok and to get an overview:\n",
    "1. Get the shape of the data\n",
    "1. Print some basic statistics about the distribution of each feature e.g. mean, standard deviation, or nr unique values etc. (hint: there is a DataFrame method for this)\n",
    "1. Get the types of all the data. Do they look right? (answer: they're not strictly right, think about why. However, you don't actually need to edit their types for all the following functions to work)\n",
    "1. Check missing values in the data - can and should they be cleaned? How would this be handled during the modelling stage?"
   ]
  },
  {
   "cell_type": "code",
   "execution_count": 68,
   "metadata": {},
   "outputs": [],
   "source": [
    "customers = customers.reset_index()"
   ]
  },
  {
   "cell_type": "code",
   "execution_count": 69,
   "metadata": {},
   "outputs": [
    {
     "data": {
      "text/html": [
       "<div>\n",
       "<style scoped>\n",
       "    .dataframe tbody tr th:only-of-type {\n",
       "        vertical-align: middle;\n",
       "    }\n",
       "\n",
       "    .dataframe tbody tr th {\n",
       "        vertical-align: top;\n",
       "    }\n",
       "\n",
       "    .dataframe thead th {\n",
       "        text-align: right;\n",
       "    }\n",
       "</style>\n",
       "<table border=\"1\" class=\"dataframe\">\n",
       "  <thead>\n",
       "    <tr style=\"text-align: right;\">\n",
       "      <th></th>\n",
       "      <th>CustomerID</th>\n",
       "      <th>Country</th>\n",
       "      <th>balance</th>\n",
       "      <th>max_spent</th>\n",
       "      <th>mean_spent</th>\n",
       "      <th>min_spent</th>\n",
       "      <th>n_orders</th>\n",
       "      <th>time_between_orders</th>\n",
       "      <th>total_items</th>\n",
       "      <th>total_items_returned</th>\n",
       "      <th>total_refunded</th>\n",
       "      <th>total_spent</th>\n",
       "    </tr>\n",
       "  </thead>\n",
       "  <tbody>\n",
       "    <tr>\n",
       "      <th>0</th>\n",
       "      <td>12346</td>\n",
       "      <td>United Kingdom</td>\n",
       "      <td>0.00</td>\n",
       "      <td>77183.6</td>\n",
       "      <td>38591.800000</td>\n",
       "      <td>0.0</td>\n",
       "      <td>2.0</td>\n",
       "      <td>NaN</td>\n",
       "      <td>74215.0</td>\n",
       "      <td>-74215.0</td>\n",
       "      <td>-77183.60</td>\n",
       "      <td>77183.60</td>\n",
       "    </tr>\n",
       "    <tr>\n",
       "      <th>1</th>\n",
       "      <td>12348</td>\n",
       "      <td>Finland</td>\n",
       "      <td>3874.60</td>\n",
       "      <td>2248.8</td>\n",
       "      <td>1291.533333</td>\n",
       "      <td>478.8</td>\n",
       "      <td>3.0</td>\n",
       "      <td>54.500000</td>\n",
       "      <td>6876.0</td>\n",
       "      <td>0.0</td>\n",
       "      <td>0.00</td>\n",
       "      <td>3874.60</td>\n",
       "    </tr>\n",
       "    <tr>\n",
       "      <th>2</th>\n",
       "      <td>12350</td>\n",
       "      <td>Norway</td>\n",
       "      <td>294.40</td>\n",
       "      <td>294.4</td>\n",
       "      <td>294.400000</td>\n",
       "      <td>294.4</td>\n",
       "      <td>1.0</td>\n",
       "      <td>NaN</td>\n",
       "      <td>196.0</td>\n",
       "      <td>0.0</td>\n",
       "      <td>0.00</td>\n",
       "      <td>294.40</td>\n",
       "    </tr>\n",
       "    <tr>\n",
       "      <th>3</th>\n",
       "      <td>12352</td>\n",
       "      <td>Norway</td>\n",
       "      <td>1845.13</td>\n",
       "      <td>1054.1</td>\n",
       "      <td>393.092000</td>\n",
       "      <td>0.0</td>\n",
       "      <td>5.0</td>\n",
       "      <td>11.333333</td>\n",
       "      <td>774.0</td>\n",
       "      <td>-63.0</td>\n",
       "      <td>-120.33</td>\n",
       "      <td>1965.46</td>\n",
       "    </tr>\n",
       "    <tr>\n",
       "      <th>4</th>\n",
       "      <td>12354</td>\n",
       "      <td>Spain</td>\n",
       "      <td>1079.40</td>\n",
       "      <td>1079.4</td>\n",
       "      <td>1079.400000</td>\n",
       "      <td>1079.4</td>\n",
       "      <td>1.0</td>\n",
       "      <td>NaN</td>\n",
       "      <td>530.0</td>\n",
       "      <td>0.0</td>\n",
       "      <td>0.00</td>\n",
       "      <td>1079.40</td>\n",
       "    </tr>\n",
       "  </tbody>\n",
       "</table>\n",
       "</div>"
      ],
      "text/plain": [
       "   CustomerID         Country  balance  max_spent    mean_spent  min_spent  \\\n",
       "0       12346  United Kingdom     0.00    77183.6  38591.800000        0.0   \n",
       "1       12348         Finland  3874.60     2248.8   1291.533333      478.8   \n",
       "2       12350          Norway   294.40      294.4    294.400000      294.4   \n",
       "3       12352          Norway  1845.13     1054.1    393.092000        0.0   \n",
       "4       12354           Spain  1079.40     1079.4   1079.400000     1079.4   \n",
       "\n",
       "   n_orders  time_between_orders  total_items  total_items_returned  \\\n",
       "0       2.0                  NaN      74215.0              -74215.0   \n",
       "1       3.0            54.500000       6876.0                   0.0   \n",
       "2       1.0                  NaN        196.0                   0.0   \n",
       "3       5.0            11.333333        774.0                 -63.0   \n",
       "4       1.0                  NaN        530.0                   0.0   \n",
       "\n",
       "   total_refunded  total_spent  \n",
       "0       -77183.60     77183.60  \n",
       "1            0.00      3874.60  \n",
       "2            0.00       294.40  \n",
       "3         -120.33      1965.46  \n",
       "4            0.00      1079.40  "
      ]
     },
     "execution_count": 69,
     "metadata": {},
     "output_type": "execute_result"
    }
   ],
   "source": [
    "customers.head()"
   ]
  },
  {
   "cell_type": "code",
   "execution_count": 70,
   "metadata": {},
   "outputs": [
    {
     "data": {
      "text/plain": [
       "(3254, 12)"
      ]
     },
     "execution_count": 70,
     "metadata": {},
     "output_type": "execute_result"
    }
   ],
   "source": [
    "# shape\n",
    "customers.shape"
   ]
  },
  {
   "cell_type": "code",
   "execution_count": 71,
   "metadata": {},
   "outputs": [],
   "source": [
    "?customers.describe"
   ]
  },
  {
   "cell_type": "code",
   "execution_count": 72,
   "metadata": {},
   "outputs": [
    {
     "data": {
      "text/html": [
       "<div>\n",
       "<style scoped>\n",
       "    .dataframe tbody tr th:only-of-type {\n",
       "        vertical-align: middle;\n",
       "    }\n",
       "\n",
       "    .dataframe tbody tr th {\n",
       "        vertical-align: top;\n",
       "    }\n",
       "\n",
       "    .dataframe thead th {\n",
       "        text-align: right;\n",
       "    }\n",
       "</style>\n",
       "<table border=\"1\" class=\"dataframe\">\n",
       "  <thead>\n",
       "    <tr style=\"text-align: right;\">\n",
       "      <th></th>\n",
       "      <th>CustomerID</th>\n",
       "      <th>balance</th>\n",
       "      <th>max_spent</th>\n",
       "      <th>mean_spent</th>\n",
       "      <th>min_spent</th>\n",
       "      <th>n_orders</th>\n",
       "      <th>time_between_orders</th>\n",
       "      <th>total_items</th>\n",
       "      <th>total_items_returned</th>\n",
       "      <th>total_refunded</th>\n",
       "      <th>total_spent</th>\n",
       "    </tr>\n",
       "  </thead>\n",
       "  <tbody>\n",
       "    <tr>\n",
       "      <th>count</th>\n",
       "      <td>3254.000000</td>\n",
       "      <td>3254.000000</td>\n",
       "      <td>3254.000000</td>\n",
       "      <td>3254.000000</td>\n",
       "      <td>3254.000000</td>\n",
       "      <td>3254.000000</td>\n",
       "      <td>1886.000000</td>\n",
       "      <td>3254.000000</td>\n",
       "      <td>3254.000000</td>\n",
       "      <td>3254.000000</td>\n",
       "      <td>3254.000000</td>\n",
       "    </tr>\n",
       "    <tr>\n",
       "      <th>mean</th>\n",
       "      <td>15331.364167</td>\n",
       "      <td>3595.679152</td>\n",
       "      <td>1241.132434</td>\n",
       "      <td>697.714203</td>\n",
       "      <td>336.855298</td>\n",
       "      <td>4.025814</td>\n",
       "      <td>57.565366</td>\n",
       "      <td>2163.921942</td>\n",
       "      <td>-41.103872</td>\n",
       "      <td>-59.520221</td>\n",
       "      <td>3655.199373</td>\n",
       "    </tr>\n",
       "    <tr>\n",
       "      <th>std</th>\n",
       "      <td>1705.821179</td>\n",
       "      <td>12287.159793</td>\n",
       "      <td>2765.253795</td>\n",
       "      <td>1105.379255</td>\n",
       "      <td>592.529725</td>\n",
       "      <td>6.330090</td>\n",
       "      <td>45.195702</td>\n",
       "      <td>6964.880540</td>\n",
       "      <td>1323.201566</td>\n",
       "      <td>1418.811921</td>\n",
       "      <td>12427.666932</td>\n",
       "    </tr>\n",
       "    <tr>\n",
       "      <th>min</th>\n",
       "      <td>12346.000000</td>\n",
       "      <td>-1192.200000</td>\n",
       "      <td>0.000000</td>\n",
       "      <td>0.000000</td>\n",
       "      <td>0.000000</td>\n",
       "      <td>1.000000</td>\n",
       "      <td>0.000000</td>\n",
       "      <td>0.000000</td>\n",
       "      <td>-74215.000000</td>\n",
       "      <td>-77183.600000</td>\n",
       "      <td>0.000000</td>\n",
       "    </tr>\n",
       "    <tr>\n",
       "      <th>25%</th>\n",
       "      <td>13867.500000</td>\n",
       "      <td>330.807500</td>\n",
       "      <td>298.307500</td>\n",
       "      <td>215.720000</td>\n",
       "      <td>0.000000</td>\n",
       "      <td>1.000000</td>\n",
       "      <td>27.000000</td>\n",
       "      <td>175.000000</td>\n",
       "      <td>-3.000000</td>\n",
       "      <td>-12.400000</td>\n",
       "      <td>336.337500</td>\n",
       "    </tr>\n",
       "    <tr>\n",
       "      <th>50%</th>\n",
       "      <td>15302.000000</td>\n",
       "      <td>948.595000</td>\n",
       "      <td>658.430000</td>\n",
       "      <td>463.260000</td>\n",
       "      <td>150.000000</td>\n",
       "      <td>2.000000</td>\n",
       "      <td>45.250000</td>\n",
       "      <td>533.000000</td>\n",
       "      <td>0.000000</td>\n",
       "      <td>0.000000</td>\n",
       "      <td>961.725000</td>\n",
       "    </tr>\n",
       "    <tr>\n",
       "      <th>75%</th>\n",
       "      <td>16804.750000</td>\n",
       "      <td>3198.430000</td>\n",
       "      <td>1358.170000</td>\n",
       "      <td>852.338786</td>\n",
       "      <td>418.197500</td>\n",
       "      <td>4.000000</td>\n",
       "      <td>76.666667</td>\n",
       "      <td>1885.500000</td>\n",
       "      <td>0.000000</td>\n",
       "      <td>0.000000</td>\n",
       "      <td>3217.837500</td>\n",
       "    </tr>\n",
       "    <tr>\n",
       "      <th>max</th>\n",
       "      <td>18287.000000</td>\n",
       "      <td>394689.180000</td>\n",
       "      <td>77183.600000</td>\n",
       "      <td>38591.800000</td>\n",
       "      <td>9885.320000</td>\n",
       "      <td>134.000000</td>\n",
       "      <td>253.000000</td>\n",
       "      <td>148977.000000</td>\n",
       "      <td>0.000000</td>\n",
       "      <td>0.000000</td>\n",
       "      <td>394689.180000</td>\n",
       "    </tr>\n",
       "  </tbody>\n",
       "</table>\n",
       "</div>"
      ],
      "text/plain": [
       "         CustomerID        balance     max_spent    mean_spent    min_spent  \\\n",
       "count   3254.000000    3254.000000   3254.000000   3254.000000  3254.000000   \n",
       "mean   15331.364167    3595.679152   1241.132434    697.714203   336.855298   \n",
       "std     1705.821179   12287.159793   2765.253795   1105.379255   592.529725   \n",
       "min    12346.000000   -1192.200000      0.000000      0.000000     0.000000   \n",
       "25%    13867.500000     330.807500    298.307500    215.720000     0.000000   \n",
       "50%    15302.000000     948.595000    658.430000    463.260000   150.000000   \n",
       "75%    16804.750000    3198.430000   1358.170000    852.338786   418.197500   \n",
       "max    18287.000000  394689.180000  77183.600000  38591.800000  9885.320000   \n",
       "\n",
       "          n_orders  time_between_orders    total_items  total_items_returned  \\\n",
       "count  3254.000000          1886.000000    3254.000000           3254.000000   \n",
       "mean      4.025814            57.565366    2163.921942            -41.103872   \n",
       "std       6.330090            45.195702    6964.880540           1323.201566   \n",
       "min       1.000000             0.000000       0.000000         -74215.000000   \n",
       "25%       1.000000            27.000000     175.000000             -3.000000   \n",
       "50%       2.000000            45.250000     533.000000              0.000000   \n",
       "75%       4.000000            76.666667    1885.500000              0.000000   \n",
       "max     134.000000           253.000000  148977.000000              0.000000   \n",
       "\n",
       "       total_refunded    total_spent  \n",
       "count     3254.000000    3254.000000  \n",
       "mean       -59.520221    3655.199373  \n",
       "std       1418.811921   12427.666932  \n",
       "min     -77183.600000       0.000000  \n",
       "25%        -12.400000     336.337500  \n",
       "50%          0.000000     961.725000  \n",
       "75%          0.000000    3217.837500  \n",
       "max          0.000000  394689.180000  "
      ]
     },
     "execution_count": 72,
     "metadata": {},
     "output_type": "execute_result"
    }
   ],
   "source": [
    "customers.describe()"
   ]
  },
  {
   "cell_type": "code",
   "execution_count": 73,
   "metadata": {
    "scrolled": true
   },
   "outputs": [
    {
     "data": {
      "text/html": [
       "<div>\n",
       "<style scoped>\n",
       "    .dataframe tbody tr th:only-of-type {\n",
       "        vertical-align: middle;\n",
       "    }\n",
       "\n",
       "    .dataframe tbody tr th {\n",
       "        vertical-align: top;\n",
       "    }\n",
       "\n",
       "    .dataframe thead th {\n",
       "        text-align: right;\n",
       "    }\n",
       "</style>\n",
       "<table border=\"1\" class=\"dataframe\">\n",
       "  <thead>\n",
       "    <tr style=\"text-align: right;\">\n",
       "      <th></th>\n",
       "      <th>CustomerID</th>\n",
       "      <th>Country</th>\n",
       "      <th>balance</th>\n",
       "      <th>max_spent</th>\n",
       "      <th>mean_spent</th>\n",
       "      <th>min_spent</th>\n",
       "      <th>n_orders</th>\n",
       "      <th>time_between_orders</th>\n",
       "      <th>total_items</th>\n",
       "      <th>total_items_returned</th>\n",
       "      <th>total_refunded</th>\n",
       "      <th>total_spent</th>\n",
       "    </tr>\n",
       "  </thead>\n",
       "  <tbody>\n",
       "    <tr>\n",
       "      <th>count</th>\n",
       "      <td>3254.000000</td>\n",
       "      <td>3254</td>\n",
       "      <td>3254.000000</td>\n",
       "      <td>3254.000000</td>\n",
       "      <td>3254.000000</td>\n",
       "      <td>3254.000000</td>\n",
       "      <td>3254.000000</td>\n",
       "      <td>1886.000000</td>\n",
       "      <td>3254.000000</td>\n",
       "      <td>3254.000000</td>\n",
       "      <td>3254.000000</td>\n",
       "      <td>3254.000000</td>\n",
       "    </tr>\n",
       "    <tr>\n",
       "      <th>unique</th>\n",
       "      <td>NaN</td>\n",
       "      <td>11</td>\n",
       "      <td>NaN</td>\n",
       "      <td>NaN</td>\n",
       "      <td>NaN</td>\n",
       "      <td>NaN</td>\n",
       "      <td>NaN</td>\n",
       "      <td>NaN</td>\n",
       "      <td>NaN</td>\n",
       "      <td>NaN</td>\n",
       "      <td>NaN</td>\n",
       "      <td>NaN</td>\n",
       "    </tr>\n",
       "    <tr>\n",
       "      <th>top</th>\n",
       "      <td>NaN</td>\n",
       "      <td>United Kingdom</td>\n",
       "      <td>NaN</td>\n",
       "      <td>NaN</td>\n",
       "      <td>NaN</td>\n",
       "      <td>NaN</td>\n",
       "      <td>NaN</td>\n",
       "      <td>NaN</td>\n",
       "      <td>NaN</td>\n",
       "      <td>NaN</td>\n",
       "      <td>NaN</td>\n",
       "      <td>NaN</td>\n",
       "    </tr>\n",
       "    <tr>\n",
       "      <th>freq</th>\n",
       "      <td>NaN</td>\n",
       "      <td>3013</td>\n",
       "      <td>NaN</td>\n",
       "      <td>NaN</td>\n",
       "      <td>NaN</td>\n",
       "      <td>NaN</td>\n",
       "      <td>NaN</td>\n",
       "      <td>NaN</td>\n",
       "      <td>NaN</td>\n",
       "      <td>NaN</td>\n",
       "      <td>NaN</td>\n",
       "      <td>NaN</td>\n",
       "    </tr>\n",
       "    <tr>\n",
       "      <th>mean</th>\n",
       "      <td>15331.364167</td>\n",
       "      <td>NaN</td>\n",
       "      <td>3595.679152</td>\n",
       "      <td>1241.132434</td>\n",
       "      <td>697.714203</td>\n",
       "      <td>336.855298</td>\n",
       "      <td>4.025814</td>\n",
       "      <td>57.565366</td>\n",
       "      <td>2163.921942</td>\n",
       "      <td>-41.103872</td>\n",
       "      <td>-59.520221</td>\n",
       "      <td>3655.199373</td>\n",
       "    </tr>\n",
       "    <tr>\n",
       "      <th>std</th>\n",
       "      <td>1705.821179</td>\n",
       "      <td>NaN</td>\n",
       "      <td>12287.159793</td>\n",
       "      <td>2765.253795</td>\n",
       "      <td>1105.379255</td>\n",
       "      <td>592.529725</td>\n",
       "      <td>6.330090</td>\n",
       "      <td>45.195702</td>\n",
       "      <td>6964.880540</td>\n",
       "      <td>1323.201566</td>\n",
       "      <td>1418.811921</td>\n",
       "      <td>12427.666932</td>\n",
       "    </tr>\n",
       "    <tr>\n",
       "      <th>min</th>\n",
       "      <td>12346.000000</td>\n",
       "      <td>NaN</td>\n",
       "      <td>-1192.200000</td>\n",
       "      <td>0.000000</td>\n",
       "      <td>0.000000</td>\n",
       "      <td>0.000000</td>\n",
       "      <td>1.000000</td>\n",
       "      <td>0.000000</td>\n",
       "      <td>0.000000</td>\n",
       "      <td>-74215.000000</td>\n",
       "      <td>-77183.600000</td>\n",
       "      <td>0.000000</td>\n",
       "    </tr>\n",
       "    <tr>\n",
       "      <th>25%</th>\n",
       "      <td>13867.500000</td>\n",
       "      <td>NaN</td>\n",
       "      <td>330.807500</td>\n",
       "      <td>298.307500</td>\n",
       "      <td>215.720000</td>\n",
       "      <td>0.000000</td>\n",
       "      <td>1.000000</td>\n",
       "      <td>27.000000</td>\n",
       "      <td>175.000000</td>\n",
       "      <td>-3.000000</td>\n",
       "      <td>-12.400000</td>\n",
       "      <td>336.337500</td>\n",
       "    </tr>\n",
       "    <tr>\n",
       "      <th>50%</th>\n",
       "      <td>15302.000000</td>\n",
       "      <td>NaN</td>\n",
       "      <td>948.595000</td>\n",
       "      <td>658.430000</td>\n",
       "      <td>463.260000</td>\n",
       "      <td>150.000000</td>\n",
       "      <td>2.000000</td>\n",
       "      <td>45.250000</td>\n",
       "      <td>533.000000</td>\n",
       "      <td>0.000000</td>\n",
       "      <td>0.000000</td>\n",
       "      <td>961.725000</td>\n",
       "    </tr>\n",
       "    <tr>\n",
       "      <th>75%</th>\n",
       "      <td>16804.750000</td>\n",
       "      <td>NaN</td>\n",
       "      <td>3198.430000</td>\n",
       "      <td>1358.170000</td>\n",
       "      <td>852.338786</td>\n",
       "      <td>418.197500</td>\n",
       "      <td>4.000000</td>\n",
       "      <td>76.666667</td>\n",
       "      <td>1885.500000</td>\n",
       "      <td>0.000000</td>\n",
       "      <td>0.000000</td>\n",
       "      <td>3217.837500</td>\n",
       "    </tr>\n",
       "    <tr>\n",
       "      <th>max</th>\n",
       "      <td>18287.000000</td>\n",
       "      <td>NaN</td>\n",
       "      <td>394689.180000</td>\n",
       "      <td>77183.600000</td>\n",
       "      <td>38591.800000</td>\n",
       "      <td>9885.320000</td>\n",
       "      <td>134.000000</td>\n",
       "      <td>253.000000</td>\n",
       "      <td>148977.000000</td>\n",
       "      <td>0.000000</td>\n",
       "      <td>0.000000</td>\n",
       "      <td>394689.180000</td>\n",
       "    </tr>\n",
       "  </tbody>\n",
       "</table>\n",
       "</div>"
      ],
      "text/plain": [
       "          CustomerID         Country        balance     max_spent  \\\n",
       "count    3254.000000            3254    3254.000000   3254.000000   \n",
       "unique           NaN              11            NaN           NaN   \n",
       "top              NaN  United Kingdom            NaN           NaN   \n",
       "freq             NaN            3013            NaN           NaN   \n",
       "mean    15331.364167             NaN    3595.679152   1241.132434   \n",
       "std      1705.821179             NaN   12287.159793   2765.253795   \n",
       "min     12346.000000             NaN   -1192.200000      0.000000   \n",
       "25%     13867.500000             NaN     330.807500    298.307500   \n",
       "50%     15302.000000             NaN     948.595000    658.430000   \n",
       "75%     16804.750000             NaN    3198.430000   1358.170000   \n",
       "max     18287.000000             NaN  394689.180000  77183.600000   \n",
       "\n",
       "          mean_spent    min_spent     n_orders  time_between_orders  \\\n",
       "count    3254.000000  3254.000000  3254.000000          1886.000000   \n",
       "unique           NaN          NaN          NaN                  NaN   \n",
       "top              NaN          NaN          NaN                  NaN   \n",
       "freq             NaN          NaN          NaN                  NaN   \n",
       "mean      697.714203   336.855298     4.025814            57.565366   \n",
       "std      1105.379255   592.529725     6.330090            45.195702   \n",
       "min         0.000000     0.000000     1.000000             0.000000   \n",
       "25%       215.720000     0.000000     1.000000            27.000000   \n",
       "50%       463.260000   150.000000     2.000000            45.250000   \n",
       "75%       852.338786   418.197500     4.000000            76.666667   \n",
       "max     38591.800000  9885.320000   134.000000           253.000000   \n",
       "\n",
       "          total_items  total_items_returned  total_refunded    total_spent  \n",
       "count     3254.000000           3254.000000     3254.000000    3254.000000  \n",
       "unique            NaN                   NaN             NaN            NaN  \n",
       "top               NaN                   NaN             NaN            NaN  \n",
       "freq              NaN                   NaN             NaN            NaN  \n",
       "mean      2163.921942            -41.103872      -59.520221    3655.199373  \n",
       "std       6964.880540           1323.201566     1418.811921   12427.666932  \n",
       "min          0.000000         -74215.000000   -77183.600000       0.000000  \n",
       "25%        175.000000             -3.000000      -12.400000     336.337500  \n",
       "50%        533.000000              0.000000        0.000000     961.725000  \n",
       "75%       1885.500000              0.000000        0.000000    3217.837500  \n",
       "max     148977.000000              0.000000        0.000000  394689.180000  "
      ]
     },
     "execution_count": 73,
     "metadata": {},
     "output_type": "execute_result"
    }
   ],
   "source": [
    "# stats\n",
    "customers.describe(include='all')"
   ]
  },
  {
   "cell_type": "code",
   "execution_count": 74,
   "metadata": {},
   "outputs": [
    {
     "data": {
      "text/plain": [
       "CustomerID                int64\n",
       "Country                  object\n",
       "balance                 float64\n",
       "max_spent               float64\n",
       "mean_spent              float64\n",
       "min_spent               float64\n",
       "n_orders                float64\n",
       "time_between_orders     float64\n",
       "total_items             float64\n",
       "total_items_returned    float64\n",
       "total_refunded          float64\n",
       "total_spent             float64\n",
       "dtype: object"
      ]
     },
     "execution_count": 74,
     "metadata": {},
     "output_type": "execute_result"
    }
   ],
   "source": [
    "# data types as imported\n",
    "# These aren't quite right:\n",
    "# 1. some of the floats are definitely integers\n",
    "# 2. country is a categorical variable - there is a data type for that in pandas that you can use\n",
    "# however, functions below will handle the data like this just fine, treating Country as categorical for instance.\n",
    "customers.dtypes"
   ]
  },
  {
   "cell_type": "markdown",
   "metadata": {},
   "source": [
    "Are there any rows which contain missing data? Print them (hint: use the methods `isnull()` and `any()` find all the rows which contain one or more missing values)."
   ]
  },
  {
   "cell_type": "code",
   "execution_count": 75,
   "metadata": {},
   "outputs": [
    {
     "data": {
      "text/html": [
       "<div>\n",
       "<style scoped>\n",
       "    .dataframe tbody tr th:only-of-type {\n",
       "        vertical-align: middle;\n",
       "    }\n",
       "\n",
       "    .dataframe tbody tr th {\n",
       "        vertical-align: top;\n",
       "    }\n",
       "\n",
       "    .dataframe thead th {\n",
       "        text-align: right;\n",
       "    }\n",
       "</style>\n",
       "<table border=\"1\" class=\"dataframe\">\n",
       "  <thead>\n",
       "    <tr style=\"text-align: right;\">\n",
       "      <th></th>\n",
       "      <th>CustomerID</th>\n",
       "      <th>Country</th>\n",
       "      <th>balance</th>\n",
       "      <th>max_spent</th>\n",
       "      <th>mean_spent</th>\n",
       "      <th>min_spent</th>\n",
       "      <th>n_orders</th>\n",
       "      <th>time_between_orders</th>\n",
       "      <th>total_items</th>\n",
       "      <th>total_items_returned</th>\n",
       "      <th>total_refunded</th>\n",
       "      <th>total_spent</th>\n",
       "    </tr>\n",
       "  </thead>\n",
       "  <tbody>\n",
       "    <tr>\n",
       "      <th>0</th>\n",
       "      <td>False</td>\n",
       "      <td>False</td>\n",
       "      <td>False</td>\n",
       "      <td>False</td>\n",
       "      <td>False</td>\n",
       "      <td>False</td>\n",
       "      <td>False</td>\n",
       "      <td>True</td>\n",
       "      <td>False</td>\n",
       "      <td>False</td>\n",
       "      <td>False</td>\n",
       "      <td>False</td>\n",
       "    </tr>\n",
       "    <tr>\n",
       "      <th>1</th>\n",
       "      <td>False</td>\n",
       "      <td>False</td>\n",
       "      <td>False</td>\n",
       "      <td>False</td>\n",
       "      <td>False</td>\n",
       "      <td>False</td>\n",
       "      <td>False</td>\n",
       "      <td>False</td>\n",
       "      <td>False</td>\n",
       "      <td>False</td>\n",
       "      <td>False</td>\n",
       "      <td>False</td>\n",
       "    </tr>\n",
       "    <tr>\n",
       "      <th>2</th>\n",
       "      <td>False</td>\n",
       "      <td>False</td>\n",
       "      <td>False</td>\n",
       "      <td>False</td>\n",
       "      <td>False</td>\n",
       "      <td>False</td>\n",
       "      <td>False</td>\n",
       "      <td>True</td>\n",
       "      <td>False</td>\n",
       "      <td>False</td>\n",
       "      <td>False</td>\n",
       "      <td>False</td>\n",
       "    </tr>\n",
       "    <tr>\n",
       "      <th>3</th>\n",
       "      <td>False</td>\n",
       "      <td>False</td>\n",
       "      <td>False</td>\n",
       "      <td>False</td>\n",
       "      <td>False</td>\n",
       "      <td>False</td>\n",
       "      <td>False</td>\n",
       "      <td>False</td>\n",
       "      <td>False</td>\n",
       "      <td>False</td>\n",
       "      <td>False</td>\n",
       "      <td>False</td>\n",
       "    </tr>\n",
       "    <tr>\n",
       "      <th>4</th>\n",
       "      <td>False</td>\n",
       "      <td>False</td>\n",
       "      <td>False</td>\n",
       "      <td>False</td>\n",
       "      <td>False</td>\n",
       "      <td>False</td>\n",
       "      <td>False</td>\n",
       "      <td>True</td>\n",
       "      <td>False</td>\n",
       "      <td>False</td>\n",
       "      <td>False</td>\n",
       "      <td>False</td>\n",
       "    </tr>\n",
       "  </tbody>\n",
       "</table>\n",
       "</div>"
      ],
      "text/plain": [
       "   CustomerID  Country  balance  max_spent  mean_spent  min_spent  n_orders  \\\n",
       "0       False    False    False      False       False      False     False   \n",
       "1       False    False    False      False       False      False     False   \n",
       "2       False    False    False      False       False      False     False   \n",
       "3       False    False    False      False       False      False     False   \n",
       "4       False    False    False      False       False      False     False   \n",
       "\n",
       "   time_between_orders  total_items  total_items_returned  total_refunded  \\\n",
       "0                 True        False                 False           False   \n",
       "1                False        False                 False           False   \n",
       "2                 True        False                 False           False   \n",
       "3                False        False                 False           False   \n",
       "4                 True        False                 False           False   \n",
       "\n",
       "   total_spent  \n",
       "0        False  \n",
       "1        False  \n",
       "2        False  \n",
       "3        False  \n",
       "4        False  "
      ]
     },
     "execution_count": 75,
     "metadata": {},
     "output_type": "execute_result"
    }
   ],
   "source": [
    "customers.isnull().head()"
   ]
  },
  {
   "cell_type": "code",
   "execution_count": 76,
   "metadata": {},
   "outputs": [
    {
     "data": {
      "text/plain": [
       "0     True\n",
       "1    False\n",
       "2     True\n",
       "3    False\n",
       "4     True\n",
       "dtype: bool"
      ]
     },
     "execution_count": 76,
     "metadata": {},
     "output_type": "execute_result"
    }
   ],
   "source": [
    "customers.isnull().any(axis=1).head()"
   ]
  },
  {
   "cell_type": "code",
   "execution_count": 77,
   "metadata": {},
   "outputs": [
    {
     "data": {
      "text/html": [
       "<div>\n",
       "<style scoped>\n",
       "    .dataframe tbody tr th:only-of-type {\n",
       "        vertical-align: middle;\n",
       "    }\n",
       "\n",
       "    .dataframe tbody tr th {\n",
       "        vertical-align: top;\n",
       "    }\n",
       "\n",
       "    .dataframe thead th {\n",
       "        text-align: right;\n",
       "    }\n",
       "</style>\n",
       "<table border=\"1\" class=\"dataframe\">\n",
       "  <thead>\n",
       "    <tr style=\"text-align: right;\">\n",
       "      <th></th>\n",
       "      <th>CustomerID</th>\n",
       "      <th>Country</th>\n",
       "      <th>balance</th>\n",
       "      <th>max_spent</th>\n",
       "      <th>mean_spent</th>\n",
       "      <th>min_spent</th>\n",
       "      <th>n_orders</th>\n",
       "      <th>time_between_orders</th>\n",
       "      <th>total_items</th>\n",
       "      <th>total_items_returned</th>\n",
       "      <th>total_refunded</th>\n",
       "      <th>total_spent</th>\n",
       "    </tr>\n",
       "  </thead>\n",
       "  <tbody>\n",
       "    <tr>\n",
       "      <th>0</th>\n",
       "      <td>12346</td>\n",
       "      <td>United Kingdom</td>\n",
       "      <td>0.00</td>\n",
       "      <td>77183.60</td>\n",
       "      <td>38591.80</td>\n",
       "      <td>0.00</td>\n",
       "      <td>2.0</td>\n",
       "      <td>NaN</td>\n",
       "      <td>74215.0</td>\n",
       "      <td>-74215.0</td>\n",
       "      <td>-77183.60</td>\n",
       "      <td>77183.60</td>\n",
       "    </tr>\n",
       "    <tr>\n",
       "      <th>2</th>\n",
       "      <td>12350</td>\n",
       "      <td>Norway</td>\n",
       "      <td>294.40</td>\n",
       "      <td>294.40</td>\n",
       "      <td>294.40</td>\n",
       "      <td>294.40</td>\n",
       "      <td>1.0</td>\n",
       "      <td>NaN</td>\n",
       "      <td>196.0</td>\n",
       "      <td>0.0</td>\n",
       "      <td>0.00</td>\n",
       "      <td>294.40</td>\n",
       "    </tr>\n",
       "    <tr>\n",
       "      <th>4</th>\n",
       "      <td>12354</td>\n",
       "      <td>Spain</td>\n",
       "      <td>1079.40</td>\n",
       "      <td>1079.40</td>\n",
       "      <td>1079.40</td>\n",
       "      <td>1079.40</td>\n",
       "      <td>1.0</td>\n",
       "      <td>NaN</td>\n",
       "      <td>530.0</td>\n",
       "      <td>0.0</td>\n",
       "      <td>0.00</td>\n",
       "      <td>1079.40</td>\n",
       "    </tr>\n",
       "    <tr>\n",
       "      <th>6</th>\n",
       "      <td>12358</td>\n",
       "      <td>Austria</td>\n",
       "      <td>404.86</td>\n",
       "      <td>404.86</td>\n",
       "      <td>404.86</td>\n",
       "      <td>404.86</td>\n",
       "      <td>1.0</td>\n",
       "      <td>NaN</td>\n",
       "      <td>98.0</td>\n",
       "      <td>0.0</td>\n",
       "      <td>0.00</td>\n",
       "      <td>404.86</td>\n",
       "    </tr>\n",
       "    <tr>\n",
       "      <th>8</th>\n",
       "      <td>12361</td>\n",
       "      <td>Belgium</td>\n",
       "      <td>174.90</td>\n",
       "      <td>174.90</td>\n",
       "      <td>174.90</td>\n",
       "      <td>174.90</td>\n",
       "      <td>1.0</td>\n",
       "      <td>NaN</td>\n",
       "      <td>90.0</td>\n",
       "      <td>0.0</td>\n",
       "      <td>0.00</td>\n",
       "      <td>174.90</td>\n",
       "    </tr>\n",
       "    <tr>\n",
       "      <th>10</th>\n",
       "      <td>12364</td>\n",
       "      <td>Belgium</td>\n",
       "      <td>1840.52</td>\n",
       "      <td>1840.52</td>\n",
       "      <td>1840.52</td>\n",
       "      <td>1840.52</td>\n",
       "      <td>1.0</td>\n",
       "      <td>NaN</td>\n",
       "      <td>1656.0</td>\n",
       "      <td>0.0</td>\n",
       "      <td>0.00</td>\n",
       "      <td>1840.52</td>\n",
       "    </tr>\n",
       "    <tr>\n",
       "      <th>11</th>\n",
       "      <td>12373</td>\n",
       "      <td>Austria</td>\n",
       "      <td>324.60</td>\n",
       "      <td>324.60</td>\n",
       "      <td>324.60</td>\n",
       "      <td>324.60</td>\n",
       "      <td>1.0</td>\n",
       "      <td>NaN</td>\n",
       "      <td>196.0</td>\n",
       "      <td>0.0</td>\n",
       "      <td>0.00</td>\n",
       "      <td>324.60</td>\n",
       "    </tr>\n",
       "    <tr>\n",
       "      <th>13</th>\n",
       "      <td>12378</td>\n",
       "      <td>Switzerland</td>\n",
       "      <td>4008.62</td>\n",
       "      <td>4008.62</td>\n",
       "      <td>4008.62</td>\n",
       "      <td>4008.62</td>\n",
       "      <td>1.0</td>\n",
       "      <td>NaN</td>\n",
       "      <td>2529.0</td>\n",
       "      <td>0.0</td>\n",
       "      <td>0.00</td>\n",
       "      <td>4008.62</td>\n",
       "    </tr>\n",
       "    <tr>\n",
       "      <th>14</th>\n",
       "      <td>12379</td>\n",
       "      <td>Belgium</td>\n",
       "      <td>1117.63</td>\n",
       "      <td>1119.58</td>\n",
       "      <td>559.79</td>\n",
       "      <td>0.00</td>\n",
       "      <td>2.0</td>\n",
       "      <td>NaN</td>\n",
       "      <td>610.0</td>\n",
       "      <td>-1.0</td>\n",
       "      <td>-1.95</td>\n",
       "      <td>1119.58</td>\n",
       "    </tr>\n",
       "    <tr>\n",
       "      <th>15</th>\n",
       "      <td>12380</td>\n",
       "      <td>Belgium</td>\n",
       "      <td>1632.25</td>\n",
       "      <td>1632.25</td>\n",
       "      <td>1632.25</td>\n",
       "      <td>1632.25</td>\n",
       "      <td>1.0</td>\n",
       "      <td>NaN</td>\n",
       "      <td>798.0</td>\n",
       "      <td>0.0</td>\n",
       "      <td>0.00</td>\n",
       "      <td>1632.25</td>\n",
       "    </tr>\n",
       "  </tbody>\n",
       "</table>\n",
       "</div>"
      ],
      "text/plain": [
       "    CustomerID         Country  balance  max_spent  mean_spent  min_spent  \\\n",
       "0        12346  United Kingdom     0.00   77183.60    38591.80       0.00   \n",
       "2        12350          Norway   294.40     294.40      294.40     294.40   \n",
       "4        12354           Spain  1079.40    1079.40     1079.40    1079.40   \n",
       "6        12358         Austria   404.86     404.86      404.86     404.86   \n",
       "8        12361         Belgium   174.90     174.90      174.90     174.90   \n",
       "10       12364         Belgium  1840.52    1840.52     1840.52    1840.52   \n",
       "11       12373         Austria   324.60     324.60      324.60     324.60   \n",
       "13       12378     Switzerland  4008.62    4008.62     4008.62    4008.62   \n",
       "14       12379         Belgium  1117.63    1119.58      559.79       0.00   \n",
       "15       12380         Belgium  1632.25    1632.25     1632.25    1632.25   \n",
       "\n",
       "    n_orders  time_between_orders  total_items  total_items_returned  \\\n",
       "0        2.0                  NaN      74215.0              -74215.0   \n",
       "2        1.0                  NaN        196.0                   0.0   \n",
       "4        1.0                  NaN        530.0                   0.0   \n",
       "6        1.0                  NaN         98.0                   0.0   \n",
       "8        1.0                  NaN         90.0                   0.0   \n",
       "10       1.0                  NaN       1656.0                   0.0   \n",
       "11       1.0                  NaN        196.0                   0.0   \n",
       "13       1.0                  NaN       2529.0                   0.0   \n",
       "14       2.0                  NaN        610.0                  -1.0   \n",
       "15       1.0                  NaN        798.0                   0.0   \n",
       "\n",
       "    total_refunded  total_spent  \n",
       "0        -77183.60     77183.60  \n",
       "2             0.00       294.40  \n",
       "4             0.00      1079.40  \n",
       "6             0.00       404.86  \n",
       "8             0.00       174.90  \n",
       "10            0.00      1840.52  \n",
       "11            0.00       324.60  \n",
       "13            0.00      4008.62  \n",
       "14           -1.95      1119.58  \n",
       "15            0.00      1632.25  "
      ]
     },
     "execution_count": 77,
     "metadata": {},
     "output_type": "execute_result"
    }
   ],
   "source": [
    "# Print missing value rows\n",
    "customers[customers.isnull().any(axis=1)].head(10)"
   ]
  },
  {
   "cell_type": "markdown",
   "metadata": {},
   "source": [
    "There are actually many...but you'll see that this makes sense given the data. Are there any rows that have missing values apart from this obvious column? Rewrite the cell above and write code to check (tip: you can use `.drop`)."
   ]
  },
  {
   "cell_type": "code",
   "execution_count": 78,
   "metadata": {},
   "outputs": [
    {
     "data": {
      "text/html": [
       "<div>\n",
       "<style scoped>\n",
       "    .dataframe tbody tr th:only-of-type {\n",
       "        vertical-align: middle;\n",
       "    }\n",
       "\n",
       "    .dataframe tbody tr th {\n",
       "        vertical-align: top;\n",
       "    }\n",
       "\n",
       "    .dataframe thead th {\n",
       "        text-align: right;\n",
       "    }\n",
       "</style>\n",
       "<table border=\"1\" class=\"dataframe\">\n",
       "  <thead>\n",
       "    <tr style=\"text-align: right;\">\n",
       "      <th></th>\n",
       "      <th>CustomerID</th>\n",
       "      <th>Country</th>\n",
       "      <th>balance</th>\n",
       "      <th>max_spent</th>\n",
       "      <th>mean_spent</th>\n",
       "      <th>min_spent</th>\n",
       "      <th>n_orders</th>\n",
       "      <th>time_between_orders</th>\n",
       "      <th>total_items</th>\n",
       "      <th>total_items_returned</th>\n",
       "      <th>total_refunded</th>\n",
       "      <th>total_spent</th>\n",
       "    </tr>\n",
       "  </thead>\n",
       "  <tbody>\n",
       "    <tr>\n",
       "      <th>0</th>\n",
       "      <td>12346</td>\n",
       "      <td>United Kingdom</td>\n",
       "      <td>0.00</td>\n",
       "      <td>77183.6</td>\n",
       "      <td>38591.800000</td>\n",
       "      <td>0.0</td>\n",
       "      <td>2.0</td>\n",
       "      <td>NaN</td>\n",
       "      <td>74215.0</td>\n",
       "      <td>-74215.0</td>\n",
       "      <td>-77183.60</td>\n",
       "      <td>77183.60</td>\n",
       "    </tr>\n",
       "    <tr>\n",
       "      <th>1</th>\n",
       "      <td>12348</td>\n",
       "      <td>Finland</td>\n",
       "      <td>3874.60</td>\n",
       "      <td>2248.8</td>\n",
       "      <td>1291.533333</td>\n",
       "      <td>478.8</td>\n",
       "      <td>3.0</td>\n",
       "      <td>54.500000</td>\n",
       "      <td>6876.0</td>\n",
       "      <td>0.0</td>\n",
       "      <td>0.00</td>\n",
       "      <td>3874.60</td>\n",
       "    </tr>\n",
       "    <tr>\n",
       "      <th>2</th>\n",
       "      <td>12350</td>\n",
       "      <td>Norway</td>\n",
       "      <td>294.40</td>\n",
       "      <td>294.4</td>\n",
       "      <td>294.400000</td>\n",
       "      <td>294.4</td>\n",
       "      <td>1.0</td>\n",
       "      <td>NaN</td>\n",
       "      <td>196.0</td>\n",
       "      <td>0.0</td>\n",
       "      <td>0.00</td>\n",
       "      <td>294.40</td>\n",
       "    </tr>\n",
       "    <tr>\n",
       "      <th>3</th>\n",
       "      <td>12352</td>\n",
       "      <td>Norway</td>\n",
       "      <td>1845.13</td>\n",
       "      <td>1054.1</td>\n",
       "      <td>393.092000</td>\n",
       "      <td>0.0</td>\n",
       "      <td>5.0</td>\n",
       "      <td>11.333333</td>\n",
       "      <td>774.0</td>\n",
       "      <td>-63.0</td>\n",
       "      <td>-120.33</td>\n",
       "      <td>1965.46</td>\n",
       "    </tr>\n",
       "    <tr>\n",
       "      <th>4</th>\n",
       "      <td>12354</td>\n",
       "      <td>Spain</td>\n",
       "      <td>1079.40</td>\n",
       "      <td>1079.4</td>\n",
       "      <td>1079.400000</td>\n",
       "      <td>1079.4</td>\n",
       "      <td>1.0</td>\n",
       "      <td>NaN</td>\n",
       "      <td>530.0</td>\n",
       "      <td>0.0</td>\n",
       "      <td>0.00</td>\n",
       "      <td>1079.40</td>\n",
       "    </tr>\n",
       "  </tbody>\n",
       "</table>\n",
       "</div>"
      ],
      "text/plain": [
       "   CustomerID         Country  balance  max_spent    mean_spent  min_spent  \\\n",
       "0       12346  United Kingdom     0.00    77183.6  38591.800000        0.0   \n",
       "1       12348         Finland  3874.60     2248.8   1291.533333      478.8   \n",
       "2       12350          Norway   294.40      294.4    294.400000      294.4   \n",
       "3       12352          Norway  1845.13     1054.1    393.092000        0.0   \n",
       "4       12354           Spain  1079.40     1079.4   1079.400000     1079.4   \n",
       "\n",
       "   n_orders  time_between_orders  total_items  total_items_returned  \\\n",
       "0       2.0                  NaN      74215.0              -74215.0   \n",
       "1       3.0            54.500000       6876.0                   0.0   \n",
       "2       1.0                  NaN        196.0                   0.0   \n",
       "3       5.0            11.333333        774.0                 -63.0   \n",
       "4       1.0                  NaN        530.0                   0.0   \n",
       "\n",
       "   total_refunded  total_spent  \n",
       "0       -77183.60     77183.60  \n",
       "1            0.00      3874.60  \n",
       "2            0.00       294.40  \n",
       "3         -120.33      1965.46  \n",
       "4            0.00      1079.40  "
      ]
     },
     "execution_count": 78,
     "metadata": {},
     "output_type": "execute_result"
    }
   ],
   "source": [
    "customers.head()"
   ]
  },
  {
   "cell_type": "code",
   "execution_count": 79,
   "metadata": {},
   "outputs": [
    {
     "data": {
      "text/html": [
       "<div>\n",
       "<style scoped>\n",
       "    .dataframe tbody tr th:only-of-type {\n",
       "        vertical-align: middle;\n",
       "    }\n",
       "\n",
       "    .dataframe tbody tr th {\n",
       "        vertical-align: top;\n",
       "    }\n",
       "\n",
       "    .dataframe thead th {\n",
       "        text-align: right;\n",
       "    }\n",
       "</style>\n",
       "<table border=\"1\" class=\"dataframe\">\n",
       "  <thead>\n",
       "    <tr style=\"text-align: right;\">\n",
       "      <th></th>\n",
       "      <th>CustomerID</th>\n",
       "      <th>Country</th>\n",
       "      <th>balance</th>\n",
       "      <th>max_spent</th>\n",
       "      <th>mean_spent</th>\n",
       "      <th>min_spent</th>\n",
       "      <th>n_orders</th>\n",
       "      <th>total_items</th>\n",
       "      <th>total_items_returned</th>\n",
       "      <th>total_refunded</th>\n",
       "      <th>total_spent</th>\n",
       "    </tr>\n",
       "  </thead>\n",
       "  <tbody>\n",
       "    <tr>\n",
       "      <th>0</th>\n",
       "      <td>12346</td>\n",
       "      <td>United Kingdom</td>\n",
       "      <td>0.00</td>\n",
       "      <td>77183.6</td>\n",
       "      <td>38591.800000</td>\n",
       "      <td>0.0</td>\n",
       "      <td>2.0</td>\n",
       "      <td>74215.0</td>\n",
       "      <td>-74215.0</td>\n",
       "      <td>-77183.60</td>\n",
       "      <td>77183.60</td>\n",
       "    </tr>\n",
       "    <tr>\n",
       "      <th>1</th>\n",
       "      <td>12348</td>\n",
       "      <td>Finland</td>\n",
       "      <td>3874.60</td>\n",
       "      <td>2248.8</td>\n",
       "      <td>1291.533333</td>\n",
       "      <td>478.8</td>\n",
       "      <td>3.0</td>\n",
       "      <td>6876.0</td>\n",
       "      <td>0.0</td>\n",
       "      <td>0.00</td>\n",
       "      <td>3874.60</td>\n",
       "    </tr>\n",
       "    <tr>\n",
       "      <th>2</th>\n",
       "      <td>12350</td>\n",
       "      <td>Norway</td>\n",
       "      <td>294.40</td>\n",
       "      <td>294.4</td>\n",
       "      <td>294.400000</td>\n",
       "      <td>294.4</td>\n",
       "      <td>1.0</td>\n",
       "      <td>196.0</td>\n",
       "      <td>0.0</td>\n",
       "      <td>0.00</td>\n",
       "      <td>294.40</td>\n",
       "    </tr>\n",
       "    <tr>\n",
       "      <th>3</th>\n",
       "      <td>12352</td>\n",
       "      <td>Norway</td>\n",
       "      <td>1845.13</td>\n",
       "      <td>1054.1</td>\n",
       "      <td>393.092000</td>\n",
       "      <td>0.0</td>\n",
       "      <td>5.0</td>\n",
       "      <td>774.0</td>\n",
       "      <td>-63.0</td>\n",
       "      <td>-120.33</td>\n",
       "      <td>1965.46</td>\n",
       "    </tr>\n",
       "    <tr>\n",
       "      <th>4</th>\n",
       "      <td>12354</td>\n",
       "      <td>Spain</td>\n",
       "      <td>1079.40</td>\n",
       "      <td>1079.4</td>\n",
       "      <td>1079.400000</td>\n",
       "      <td>1079.4</td>\n",
       "      <td>1.0</td>\n",
       "      <td>530.0</td>\n",
       "      <td>0.0</td>\n",
       "      <td>0.00</td>\n",
       "      <td>1079.40</td>\n",
       "    </tr>\n",
       "  </tbody>\n",
       "</table>\n",
       "</div>"
      ],
      "text/plain": [
       "   CustomerID         Country  balance  max_spent    mean_spent  min_spent  \\\n",
       "0       12346  United Kingdom     0.00    77183.6  38591.800000        0.0   \n",
       "1       12348         Finland  3874.60     2248.8   1291.533333      478.8   \n",
       "2       12350          Norway   294.40      294.4    294.400000      294.4   \n",
       "3       12352          Norway  1845.13     1054.1    393.092000        0.0   \n",
       "4       12354           Spain  1079.40     1079.4   1079.400000     1079.4   \n",
       "\n",
       "   n_orders  total_items  total_items_returned  total_refunded  total_spent  \n",
       "0       2.0      74215.0              -74215.0       -77183.60     77183.60  \n",
       "1       3.0       6876.0                   0.0            0.00      3874.60  \n",
       "2       1.0        196.0                   0.0            0.00       294.40  \n",
       "3       5.0        774.0                 -63.0         -120.33      1965.46  \n",
       "4       1.0        530.0                   0.0            0.00      1079.40  "
      ]
     },
     "execution_count": 79,
     "metadata": {},
     "output_type": "execute_result"
    }
   ],
   "source": [
    "customers.drop('time_between_orders', axis=1).head()"
   ]
  },
  {
   "cell_type": "code",
   "execution_count": 80,
   "metadata": {},
   "outputs": [],
   "source": [
    "assert customers.drop('time_between_orders', axis=1).isnull().any(axis=0).sum() == 0"
   ]
  },
  {
   "cell_type": "code",
   "execution_count": 81,
   "metadata": {},
   "outputs": [
    {
     "data": {
      "text/html": [
       "<div>\n",
       "<style scoped>\n",
       "    .dataframe tbody tr th:only-of-type {\n",
       "        vertical-align: middle;\n",
       "    }\n",
       "\n",
       "    .dataframe tbody tr th {\n",
       "        vertical-align: top;\n",
       "    }\n",
       "\n",
       "    .dataframe thead th {\n",
       "        text-align: right;\n",
       "    }\n",
       "</style>\n",
       "<table border=\"1\" class=\"dataframe\">\n",
       "  <thead>\n",
       "    <tr style=\"text-align: right;\">\n",
       "      <th></th>\n",
       "      <th>CustomerID</th>\n",
       "      <th>Country</th>\n",
       "      <th>balance</th>\n",
       "      <th>max_spent</th>\n",
       "      <th>mean_spent</th>\n",
       "      <th>min_spent</th>\n",
       "      <th>n_orders</th>\n",
       "      <th>time_between_orders</th>\n",
       "      <th>total_items</th>\n",
       "      <th>total_items_returned</th>\n",
       "      <th>total_refunded</th>\n",
       "      <th>total_spent</th>\n",
       "    </tr>\n",
       "  </thead>\n",
       "  <tbody>\n",
       "  </tbody>\n",
       "</table>\n",
       "</div>"
      ],
      "text/plain": [
       "Empty DataFrame\n",
       "Columns: [CustomerID, Country, balance, max_spent, mean_spent, min_spent, n_orders, time_between_orders, total_items, total_items_returned, total_refunded, total_spent]\n",
       "Index: []"
      ]
     },
     "execution_count": 81,
     "metadata": {},
     "output_type": "execute_result"
    }
   ],
   "source": [
    "# Other missing value columns?\n",
    "customers[customers.drop('time_between_orders', axis=1).isnull().any(axis=1)]"
   ]
  },
  {
   "cell_type": "markdown",
   "metadata": {},
   "source": [
    "As a bonus, write some code which checks if a column looks more like an integer than a float value. Skip this if you can't do it quickly (it's not necessary for what comes next)."
   ]
  },
  {
   "cell_type": "code",
   "execution_count": 82,
   "metadata": {},
   "outputs": [
    {
     "data": {
      "text/plain": [
       "CustomerID                int64\n",
       "Country                  object\n",
       "balance                 float64\n",
       "max_spent               float64\n",
       "mean_spent              float64\n",
       "min_spent               float64\n",
       "n_orders                float64\n",
       "time_between_orders     float64\n",
       "total_items             float64\n",
       "total_items_returned    float64\n",
       "total_refunded          float64\n",
       "total_spent             float64\n",
       "dtype: object"
      ]
     },
     "execution_count": 82,
     "metadata": {},
     "output_type": "execute_result"
    }
   ],
   "source": [
    "customers.dtypes"
   ]
  },
  {
   "cell_type": "code",
   "execution_count": 83,
   "metadata": {},
   "outputs": [],
   "source": [
    "col_series = customers['max_spent']"
   ]
  },
  {
   "cell_type": "code",
   "execution_count": 84,
   "metadata": {},
   "outputs": [
    {
     "data": {
      "text/plain": [
       "186"
      ]
     },
     "execution_count": 84,
     "metadata": {},
     "output_type": "execute_result"
    }
   ],
   "source": [
    "(col_series.astype('int') == col_series).sum()"
   ]
  },
  {
   "cell_type": "code",
   "execution_count": 85,
   "metadata": {},
   "outputs": [
    {
     "data": {
      "text/plain": [
       "186"
      ]
     },
     "execution_count": 85,
     "metadata": {},
     "output_type": "execute_result"
    }
   ],
   "source": [
    "( customers['max_spent'].astype('int')== customers['max_spent'] ).sum()"
   ]
  },
  {
   "cell_type": "code",
   "execution_count": 86,
   "metadata": {},
   "outputs": [
    {
     "name": "stdout",
     "output_type": "stream",
     "text": [
      "CustomerID\n",
      "Country\n",
      "balance\n",
      "max_spent\n",
      "mean_spent\n",
      "min_spent\n",
      "n_orders\n",
      "time_between_orders\n",
      "total_items\n",
      "total_items_returned\n",
      "total_refunded\n",
      "total_spent\n"
     ]
    }
   ],
   "source": [
    "for col in customers.columns:\n",
    "    print(col)"
   ]
  },
  {
   "cell_type": "code",
   "execution_count": 87,
   "metadata": {},
   "outputs": [
    {
     "name": "stdout",
     "output_type": "stream",
     "text": [
      "n_orders looks like an integer\n",
      "Converting it to an integer\n",
      "total_items looks like an integer\n",
      "Converting it to an integer\n",
      "total_items_returned looks like an integer\n",
      "Converting it to an integer\n"
     ]
    },
    {
     "data": {
      "text/plain": [
       "CustomerID                int64\n",
       "Country                  object\n",
       "balance                 float64\n",
       "max_spent               float64\n",
       "mean_spent              float64\n",
       "min_spent               float64\n",
       "n_orders                  int32\n",
       "time_between_orders     float64\n",
       "total_items               int32\n",
       "total_items_returned      int32\n",
       "total_refunded          float64\n",
       "total_spent             float64\n",
       "dtype: object"
      ]
     },
     "execution_count": 87,
     "metadata": {},
     "output_type": "execute_result"
    }
   ],
   "source": [
    "# BONUS: skip if stuck. Find integer columns\n",
    "for col in customers.columns:\n",
    "    col_series = customers[col]\n",
    "    dtype = col_series.dtype\n",
    "    has_missing = col_series.isnull().any()\n",
    "    if dtype == np.dtype('float64') and not has_missing:\n",
    "        if (col_series.astype('int') == col_series).sum() == col_series.shape[0]:\n",
    "            print('{} looks like an integer'.format(col))\n",
    "            print('Converting it to an integer')\n",
    "            customers[col] = customers[col].astype('int')\n",
    "customers.dtypes"
   ]
  },
  {
   "cell_type": "markdown",
   "metadata": {},
   "source": [
    "### ========================== QUESTIONS =========================="
   ]
  },
  {
   "cell_type": "markdown",
   "metadata": {},
   "source": [
    "To be good at EDA, you need to be able to quickly answer simple questions about the data. As you become more proficient at pandas, and using `.groupby`, `.apply`, and other methods, you'll become very fast at answering quick questions. [This is a great link](https://pandas.pydata.org/pandas-docs/stable/groupby.html) to the pandas docs which outlines methods you'll find useful.\n",
    "\n",
    "Below are a series of questions which are reasonable first questions to ask about the data. They start simple and increase in difficulty. There are many ways to get the answers and, for that matter, display them. In my sample solutions, I normally opt to plot solutions when it's appropriate and easy to do so. Feel free to print tables, or even write for loops if you prefer!\n",
    "\n",
    "If you get inspired, ask and answer your own questions. \n",
    "\n",
    "This is your chance to investigate and get a feel for this dataset."
   ]
  },
  {
   "cell_type": "markdown",
   "metadata": {},
   "source": [
    "#### 1) How many unique customers are there? And, therefore, what is the average number of rows per customer?"
   ]
  },
  {
   "cell_type": "code",
   "execution_count": 88,
   "metadata": {},
   "outputs": [
    {
     "data": {
      "text/plain": [
       "3254"
      ]
     },
     "execution_count": 88,
     "metadata": {},
     "output_type": "execute_result"
    }
   ],
   "source": [
    "# Nr unique customers\n",
    "nr_customers = customers['CustomerID'].nunique()\n",
    "nr_customers"
   ]
  },
  {
   "cell_type": "code",
   "execution_count": 89,
   "metadata": {},
   "outputs": [
    {
     "data": {
      "text/plain": [
       "3254"
      ]
     },
     "execution_count": 89,
     "metadata": {},
     "output_type": "execute_result"
    }
   ],
   "source": [
    "nr_customers = customers.CustomerID.nunique()\n",
    "nr_customers"
   ]
  },
  {
   "cell_type": "code",
   "execution_count": 90,
   "metadata": {},
   "outputs": [
    {
     "data": {
      "text/plain": [
       "1.0"
      ]
     },
     "execution_count": 90,
     "metadata": {},
     "output_type": "execute_result"
    }
   ],
   "source": [
    "# Rows per customer\n",
    "customers.shape[0] / nr_customers"
   ]
  },
  {
   "cell_type": "markdown",
   "metadata": {},
   "source": [
    "#### 2) What is the total amount spent by customers? (feel free to display numbers in a nice format)"
   ]
  },
  {
   "cell_type": "code",
   "execution_count": 91,
   "metadata": {},
   "outputs": [
    {
     "name": "stdout",
     "output_type": "stream",
     "text": [
      "11894018.8\n",
      "11894018.8\n",
      "11894018.760000002\n"
     ]
    }
   ],
   "source": [
    "# sum of total spent\n",
    "sum_tot_spent = customers.total_spent.sum()\n",
    "print('{:.1f}'.format(sum_tot_spent))\n",
    "print(round(sum_tot_spent,1))\n",
    "print(sum_tot_spent)"
   ]
  },
  {
   "cell_type": "markdown",
   "metadata": {},
   "source": [
    "#### 3) What is the total amount refunded to customers?"
   ]
  },
  {
   "cell_type": "code",
   "execution_count": 92,
   "metadata": {},
   "outputs": [
    {
     "data": {
      "text/html": [
       "<div>\n",
       "<style scoped>\n",
       "    .dataframe tbody tr th:only-of-type {\n",
       "        vertical-align: middle;\n",
       "    }\n",
       "\n",
       "    .dataframe tbody tr th {\n",
       "        vertical-align: top;\n",
       "    }\n",
       "\n",
       "    .dataframe thead th {\n",
       "        text-align: right;\n",
       "    }\n",
       "</style>\n",
       "<table border=\"1\" class=\"dataframe\">\n",
       "  <thead>\n",
       "    <tr style=\"text-align: right;\">\n",
       "      <th></th>\n",
       "      <th>CustomerID</th>\n",
       "      <th>Country</th>\n",
       "      <th>balance</th>\n",
       "      <th>max_spent</th>\n",
       "      <th>mean_spent</th>\n",
       "      <th>min_spent</th>\n",
       "      <th>n_orders</th>\n",
       "      <th>time_between_orders</th>\n",
       "      <th>total_items</th>\n",
       "      <th>total_items_returned</th>\n",
       "      <th>total_refunded</th>\n",
       "      <th>total_spent</th>\n",
       "    </tr>\n",
       "  </thead>\n",
       "  <tbody>\n",
       "    <tr>\n",
       "      <th>0</th>\n",
       "      <td>12346</td>\n",
       "      <td>United Kingdom</td>\n",
       "      <td>0.00</td>\n",
       "      <td>77183.6</td>\n",
       "      <td>38591.800000</td>\n",
       "      <td>0.0</td>\n",
       "      <td>2</td>\n",
       "      <td>NaN</td>\n",
       "      <td>74215</td>\n",
       "      <td>-74215</td>\n",
       "      <td>-77183.60</td>\n",
       "      <td>77183.60</td>\n",
       "    </tr>\n",
       "    <tr>\n",
       "      <th>1</th>\n",
       "      <td>12348</td>\n",
       "      <td>Finland</td>\n",
       "      <td>3874.60</td>\n",
       "      <td>2248.8</td>\n",
       "      <td>1291.533333</td>\n",
       "      <td>478.8</td>\n",
       "      <td>3</td>\n",
       "      <td>54.500000</td>\n",
       "      <td>6876</td>\n",
       "      <td>0</td>\n",
       "      <td>0.00</td>\n",
       "      <td>3874.60</td>\n",
       "    </tr>\n",
       "    <tr>\n",
       "      <th>2</th>\n",
       "      <td>12350</td>\n",
       "      <td>Norway</td>\n",
       "      <td>294.40</td>\n",
       "      <td>294.4</td>\n",
       "      <td>294.400000</td>\n",
       "      <td>294.4</td>\n",
       "      <td>1</td>\n",
       "      <td>NaN</td>\n",
       "      <td>196</td>\n",
       "      <td>0</td>\n",
       "      <td>0.00</td>\n",
       "      <td>294.40</td>\n",
       "    </tr>\n",
       "    <tr>\n",
       "      <th>3</th>\n",
       "      <td>12352</td>\n",
       "      <td>Norway</td>\n",
       "      <td>1845.13</td>\n",
       "      <td>1054.1</td>\n",
       "      <td>393.092000</td>\n",
       "      <td>0.0</td>\n",
       "      <td>5</td>\n",
       "      <td>11.333333</td>\n",
       "      <td>774</td>\n",
       "      <td>-63</td>\n",
       "      <td>-120.33</td>\n",
       "      <td>1965.46</td>\n",
       "    </tr>\n",
       "    <tr>\n",
       "      <th>4</th>\n",
       "      <td>12354</td>\n",
       "      <td>Spain</td>\n",
       "      <td>1079.40</td>\n",
       "      <td>1079.4</td>\n",
       "      <td>1079.400000</td>\n",
       "      <td>1079.4</td>\n",
       "      <td>1</td>\n",
       "      <td>NaN</td>\n",
       "      <td>530</td>\n",
       "      <td>0</td>\n",
       "      <td>0.00</td>\n",
       "      <td>1079.40</td>\n",
       "    </tr>\n",
       "  </tbody>\n",
       "</table>\n",
       "</div>"
      ],
      "text/plain": [
       "   CustomerID         Country  balance  max_spent    mean_spent  min_spent  \\\n",
       "0       12346  United Kingdom     0.00    77183.6  38591.800000        0.0   \n",
       "1       12348         Finland  3874.60     2248.8   1291.533333      478.8   \n",
       "2       12350          Norway   294.40      294.4    294.400000      294.4   \n",
       "3       12352          Norway  1845.13     1054.1    393.092000        0.0   \n",
       "4       12354           Spain  1079.40     1079.4   1079.400000     1079.4   \n",
       "\n",
       "   n_orders  time_between_orders  total_items  total_items_returned  \\\n",
       "0         2                  NaN        74215                -74215   \n",
       "1         3            54.500000         6876                     0   \n",
       "2         1                  NaN          196                     0   \n",
       "3         5            11.333333          774                   -63   \n",
       "4         1                  NaN          530                     0   \n",
       "\n",
       "   total_refunded  total_spent  \n",
       "0       -77183.60     77183.60  \n",
       "1            0.00      3874.60  \n",
       "2            0.00       294.40  \n",
       "3         -120.33      1965.46  \n",
       "4            0.00      1079.40  "
      ]
     },
     "execution_count": 92,
     "metadata": {},
     "output_type": "execute_result"
    }
   ],
   "source": [
    "customers.head()"
   ]
  },
  {
   "cell_type": "code",
   "execution_count": 93,
   "metadata": {},
   "outputs": [
    {
     "data": {
      "text/plain": [
       "'193678.80'"
      ]
     },
     "execution_count": 93,
     "metadata": {},
     "output_type": "execute_result"
    }
   ],
   "source": [
    "# Total amount refunded\n",
    "# The only reason I'm using a minus here is for clarity\n",
    "# If I asked you \"how much were you refunded?\", you'd\n",
    "# probably say £3, not minus £3. The column contains \n",
    "# only negative values (probably for processing convenience)\n",
    "sum_tot_refund = -customers.total_refunded.sum()\n",
    "'{:.2f}'.format(sum_tot_refund)"
   ]
  },
  {
   "cell_type": "markdown",
   "metadata": {},
   "source": [
    "#### 4) Assuming the company serving these customers had a balance of 0 at the start, what is their balance now?"
   ]
  },
  {
   "cell_type": "code",
   "execution_count": 94,
   "metadata": {},
   "outputs": [
    {
     "data": {
      "text/plain": [
       "'11700339.96'"
      ]
     },
     "execution_count": 94,
     "metadata": {},
     "output_type": "execute_result"
    }
   ],
   "source": [
    "# The balance of the conpany right now\n",
    "'{:.2f}'.format(sum_tot_spent - sum_tot_refund)\n",
    "# '{:.2e}'.format(customers['balance'].sum())\n",
    "# The astute will notice that:\n",
    "# sum_tot_spent - sum_tot_refund = customers['balance'].sum()"
   ]
  },
  {
   "cell_type": "markdown",
   "metadata": {},
   "source": [
    "#### 5) Count the number of customers from each country, and all countries excluding the UK"
   ]
  },
  {
   "cell_type": "code",
   "execution_count": 95,
   "metadata": {},
   "outputs": [
    {
     "data": {
      "image/png": "[encoded data removed]",
      "text/plain": [
       "<Figure size 432x288 with 1 Axes>"
      ]
     },
     "metadata": {
      "needs_background": "light"
     },
     "output_type": "display_data"
    }
   ],
   "source": [
    "# Count of customers by country - use seaborn!\n",
    "ax = sns.countplot(customers[customers.Country!='United Kingdom'].Country)\n",
    "for p in ax.patches:\n",
    "    x=p.get_bbox().get_points()[:,0]\n",
    "    y=p.get_bbox().get_points()[1,1]\n",
    "    ax.annotate('{:.1f}'.format(y), (x.mean(), y), \n",
    "            ha='center', va='bottom') # set the alignment of the text\n",
    "plt.xticks(rotation=45)\n",
    "plt.show()"
   ]
  },
  {
   "cell_type": "code",
   "execution_count": 96,
   "metadata": {},
   "outputs": [
    {
     "data": {
      "image/png": "[encoded data removed]",
      "text/plain": [
       "<Figure size 432x288 with 1 Axes>"
      ]
     },
     "metadata": {
      "needs_background": "light"
     },
     "output_type": "display_data"
    }
   ],
   "source": [
    "# ...excluding UK\n",
    "sns.countplot(customers.Country[customers.Country != 'United Kingdom'])\n",
    "plt.xticks(rotation=90)\n",
    "plt.show()"
   ]
  },
  {
   "cell_type": "markdown",
   "metadata": {},
   "source": [
    "#### 6) What is the distribution of the number of orders customers have made? If the distribution is hard to visualise or unclear, try splitting the range up somehow"
   ]
  },
  {
   "cell_type": "code",
   "execution_count": 97,
   "metadata": {},
   "outputs": [
    {
     "data": {
      "text/plain": [
       "0.9769514443761524"
      ]
     },
     "execution_count": 97,
     "metadata": {},
     "output_type": "execute_result"
    }
   ],
   "source": [
    "np.mean(customers.n_orders  < 20 )"
   ]
  },
  {
   "cell_type": "code",
   "execution_count": 98,
   "metadata": {},
   "outputs": [
    {
     "data": {
      "image/png": "[encoded data removed]",
      "text/plain": [
       "<Figure size 432x288 with 1 Axes>"
      ]
     },
     "metadata": {
      "needs_background": "light"
     },
     "output_type": "display_data"
    }
   ],
   "source": [
    "# Distribution of number of orders each customer makes\n",
    "sns.distplot(customers['n_orders'], bins=50)\n",
    "plt.show()"
   ]
  },
  {
   "cell_type": "code",
   "execution_count": 99,
   "metadata": {},
   "outputs": [
    {
     "data": {
      "text/plain": [
       "Index(['CustomerID', 'Country', 'balance', 'max_spent', 'mean_spent',\n",
       "       'min_spent', 'n_orders', 'time_between_orders', 'total_items',\n",
       "       'total_items_returned', 'total_refunded', 'total_spent'],\n",
       "      dtype='object')"
      ]
     },
     "execution_count": 99,
     "metadata": {},
     "output_type": "execute_result"
    }
   ],
   "source": [
    "customers.columns"
   ]
  },
  {
   "cell_type": "code",
   "execution_count": 100,
   "metadata": {},
   "outputs": [
    {
     "data": {
      "text/plain": [
       "948.5949999999998"
      ]
     },
     "execution_count": 100,
     "metadata": {},
     "output_type": "execute_result"
    }
   ],
   "source": [
    "np.percentile( customers.balance, 50)"
   ]
  },
  {
   "cell_type": "code",
   "execution_count": 101,
   "metadata": {},
   "outputs": [
    {
     "data": {
      "text/plain": [
       "Text(0.5, 1.0, 'my great title ')"
      ]
     },
     "execution_count": 101,
     "metadata": {},
     "output_type": "execute_result"
    },
    {
     "data": {
      "image/png": "[encoded data removed]",
      "text/plain": [
       "<Figure size 432x288 with 1 Axes>"
      ]
     },
     "metadata": {
      "needs_background": "light"
     },
     "output_type": "display_data"
    }
   ],
   "source": [
    "# Distriburtion of the majority of orders\n",
    "x = 'balance'\n",
    "query = 'balance <= 2000'\n",
    "df = customers.query(query)\n",
    "sns.distplot(df[x], bins=26, rug=False)\n",
    "#sns.countplot(df[x].astype(int))\n",
    "#plt.title('{} observations {}'.format(df.shape[0], query))\n",
    "plt.title('my great title ')"
   ]
  },
  {
   "cell_type": "code",
   "execution_count": 102,
   "metadata": {},
   "outputs": [
    {
     "data": {
      "text/plain": [
       "Text(0.5, 1.0, 'my great title ')"
      ]
     },
     "execution_count": 102,
     "metadata": {},
     "output_type": "execute_result"
    },
    {
     "data": {
      "image/png": "[encoded data removed]",
      "text/plain": [
       "<Figure size 432x288 with 1 Axes>"
      ]
     },
     "metadata": {
      "needs_background": "light"
     },
     "output_type": "display_data"
    }
   ],
   "source": [
    "# Distriburtion of the majority of orders\n",
    "x = 'n_orders'\n",
    "query = 'n_orders <= 25'\n",
    "df = customers.query(query)\n",
    "#sns.distplot(df[x], bins=26, rug=False)\n",
    "sns.countplot(df[x]) #.astype(int))\n",
    "#plt.title('{} observations {}'.format(df.shape[0], query))\n",
    "plt.title('my great title ')"
   ]
  },
  {
   "cell_type": "code",
   "execution_count": 103,
   "metadata": {},
   "outputs": [
    {
     "data": {
      "image/png": "[encoded data removed]",
      "text/plain": [
       "<Figure size 432x288 with 1 Axes>"
      ]
     },
     "metadata": {
      "needs_background": "light"
     },
     "output_type": "display_data"
    }
   ],
   "source": [
    "# Distribution of the outliers\n",
    "x = 'n_orders'\n",
    "query = 'n_orders > 25'\n",
    "df = customers.query(query)\n",
    "sns.distplot(df[x], rug=False, bins=np.arange(25, df[x].max().round()+1))\n",
    "# sns.countplot(df[x].astype(int))\n",
    "plt.title('{} observations {}'.format(df.shape[0], query))\n",
    "plt.show()"
   ]
  },
  {
   "cell_type": "markdown",
   "metadata": {},
   "source": [
    "#### 7) What is the distribution of the amount spent by customers? Again, if the distribution is hard to visualise, try splitting the range up somehow. Be careful to show that you understand how many observations you are dealing with in each plot."
   ]
  },
  {
   "cell_type": "code",
   "execution_count": 104,
   "metadata": {},
   "outputs": [
    {
     "data": {
      "text/plain": [
       "<AxesSubplot:xlabel='total_spent', ylabel='Density'>"
      ]
     },
     "execution_count": 104,
     "metadata": {},
     "output_type": "execute_result"
    },
    {
     "data": {
      "image/png": "[encoded data removed]",
      "text/plain": [
       "<Figure size 432x288 with 1 Axes>"
      ]
     },
     "metadata": {
      "needs_background": "light"
     },
     "output_type": "display_data"
    }
   ],
   "source": [
    "sns.distplot(( customers['total_spent']))"
   ]
  },
  {
   "cell_type": "code",
   "execution_count": 105,
   "metadata": {},
   "outputs": [
    {
     "data": {
      "text/plain": [
       "<AxesSubplot:xlabel='total_spent', ylabel='Density'>"
      ]
     },
     "execution_count": 105,
     "metadata": {},
     "output_type": "execute_result"
    },
    {
     "data": {
      "image/png": "[encoded data removed]",
      "text/plain": [
       "<Figure size 432x288 with 1 Axes>"
      ]
     },
     "metadata": {
      "needs_background": "light"
     },
     "output_type": "display_data"
    }
   ],
   "source": [
    "# Distribution of the total spent\n",
    "sns.distplot(np.log(1 + customers['total_spent']) )\n"
   ]
  },
  {
   "cell_type": "code",
   "execution_count": 106,
   "metadata": {},
   "outputs": [
    {
     "data": {
      "text/plain": [
       "Text(0.5, 1.0, '3231 observations <50k')"
      ]
     },
     "execution_count": 106,
     "metadata": {},
     "output_type": "execute_result"
    },
    {
     "data": {
      "image/png": "[encoded data removed]",
      "text/plain": [
       "<Figure size 432x288 with 1 Axes>"
      ]
     },
     "metadata": {
      "needs_background": "light"
     },
     "output_type": "display_data"
    }
   ],
   "source": [
    "# ...the distribution for the majority of companies\n",
    "df = customers.query('total_spent < 50000')\n",
    "sns.distplot( np.log(1+df['total_spent']), rug=False)\n",
    "plt.title('{} observations <50k'.format(df.shape[0]))"
   ]
  },
  {
   "cell_type": "code",
   "execution_count": 107,
   "metadata": {},
   "outputs": [
    {
     "data": {
      "text/plain": [
       "Text(0.5, 1.0, '23 observations >=50k')"
      ]
     },
     "execution_count": 107,
     "metadata": {},
     "output_type": "execute_result"
    },
    {
     "data": {
      "image/png": "[encoded data removed]",
      "text/plain": [
       "<Figure size 432x288 with 1 Axes>"
      ]
     },
     "metadata": {
      "needs_background": "light"
     },
     "output_type": "display_data"
    }
   ],
   "source": [
    "# ...the distribution for the outliers\n",
    "df = customers.query('total_spent >= 50000')\n",
    "sns.distplot(df['total_spent'], rug=True)\n",
    "plt.title('{} observations >=50k'.format(df.shape[0]))\n"
   ]
  },
  {
   "cell_type": "markdown",
   "metadata": {},
   "source": [
    "#### 8) How about the distribution of refunds? Again, if prevalent values or outliers are making it difficult to visualise the distribution, split the range somehow."
   ]
  },
  {
   "cell_type": "code",
   "execution_count": 108,
   "metadata": {},
   "outputs": [
    {
     "data": {
      "text/plain": [
       "<AxesSubplot:xlabel='total_refunded', ylabel='Density'>"
      ]
     },
     "execution_count": 108,
     "metadata": {},
     "output_type": "execute_result"
    },
    {
     "data": {
      "image/png": "[encoded data removed]",
      "text/plain": [
       "<Figure size 432x288 with 1 Axes>"
      ]
     },
     "metadata": {
      "needs_background": "light"
     },
     "output_type": "display_data"
    }
   ],
   "source": [
    "# Distribution of refunds\n",
    "sns.distplot(customers['total_refunded'])"
   ]
  },
  {
   "cell_type": "code",
   "execution_count": 109,
   "metadata": {},
   "outputs": [
    {
     "name": "stdout",
     "output_type": "stream",
     "text": [
      "0.66 of customers have never had a refund\n",
      "Range of the orders with a refund: (-77183.6, -0.42)\n"
     ]
    },
    {
     "data": {
      "image/png": "[encoded data removed]",
      "text/plain": [
       "<Figure size 432x288 with 1 Axes>"
      ]
     },
     "metadata": {
      "needs_background": "light"
     },
     "output_type": "display_data"
    }
   ],
   "source": [
    "# ...the distribution of the majority\n",
    "prop_refunded = sum(customers.total_refunded == 0) / customers.shape[0]\n",
    "print('{:.2f} of customers have never had a refund'.format(prop_refunded))\n",
    "df = customers.query('total_refunded < 0')\n",
    "print('Range of the orders with a refund: ({}, {})'.format(\n",
    "    df['total_refunded'].min(), df['total_refunded'].max()))\n",
    "query = 'total_refunded < 0 and total_refunded > -1000'\n",
    "df = customers.query(query)\n",
    "sns.distplot(df['total_refunded'], rug=False)\n",
    "plt.title('{} observations {}'.format(df.shape[0], query))\n",
    "plt.show()\n"
   ]
  },
  {
   "cell_type": "code",
   "execution_count": 110,
   "metadata": {},
   "outputs": [
    {
     "data": {
      "text/plain": [
       "Text(0.5, 1.0, '16 observations total_refunded <= -1000')"
      ]
     },
     "execution_count": 110,
     "metadata": {},
     "output_type": "execute_result"
    },
    {
     "data": {
      "image/png": "[encoded data removed]",
      "text/plain": [
       "<Figure size 432x288 with 1 Axes>"
      ]
     },
     "metadata": {
      "needs_background": "light"
     },
     "output_type": "display_data"
    }
   ],
   "source": [
    "# ...the distribution for the outliers\n",
    "query = 'total_refunded <= -1000'\n",
    "df = customers.query(query)\n",
    "sns.distplot(df['total_refunded'], rug=False)\n",
    "plt.title('{} observations {}'.format(df.shape[0], query))"
   ]
  },
  {
   "cell_type": "markdown",
   "metadata": {},
   "source": [
    "#### 9) Use a [violinplot](https://seaborn.pydata.org/generated/seaborn.violinplot.html?highlight=violin#seaborn.violinplot) and/or a [boxplot](https://seaborn.pydata.org/generated/seaborn.boxplot.html) to plot the distribution of the total spent per country "
   ]
  },
  {
   "cell_type": "code",
   "execution_count": 111,
   "metadata": {},
   "outputs": [
    {
     "data": {
      "image/png": "[encoded data removed]",
      "text/plain": [
       "<Figure size 432x288 with 1 Axes>"
      ]
     },
     "metadata": {
      "needs_background": "light"
     },
     "output_type": "display_data"
    },
    {
     "data": {
      "image/png": "[encoded data removed]",
      "text/plain": [
       "<Figure size 432x288 with 1 Axes>"
      ]
     },
     "metadata": {
      "needs_background": "light"
     },
     "output_type": "display_data"
    }
   ],
   "source": [
    "# Violin and box plots of the total spend broken down by country\n",
    "plt.figure()\n",
    "sns.violinplot(x=\"Country\", y=\"total_spent\",\n",
    "               inner=\"quart\",\n",
    "               data=customers)\n",
    "plt.xticks(rotation=90)\n",
    "# there are large outliers which make the plot unhelpful\n",
    "# I note this, and alter the scale of the y axis to get a better look\n",
    "y_max = 20000\n",
    "plt.ylim([-10000, y_max])\n",
    "plt.show()\n",
    "plt.figure()\n",
    "sns.boxplot(x=\"Country\", y=\"total_spent\",\n",
    "               data=customers)\n",
    "plt.xticks(rotation=90)\n",
    "plt.ylim([-10000, y_max])\n",
    "plt.show()\n"
   ]
  },
  {
   "cell_type": "markdown",
   "metadata": {},
   "source": [
    "#### 10a) What is the total amount spent broken down by country? One option here is to use pandas `groupby` to create a `DataFrame` containing the required information, then use `sns.barplot` to plot the infromation."
   ]
  },
  {
   "cell_type": "code",
   "execution_count": 112,
   "metadata": {},
   "outputs": [
    {
     "data": {
      "text/html": [
       "<div>\n",
       "<style scoped>\n",
       "    .dataframe tbody tr th:only-of-type {\n",
       "        vertical-align: middle;\n",
       "    }\n",
       "\n",
       "    .dataframe tbody tr th {\n",
       "        vertical-align: top;\n",
       "    }\n",
       "\n",
       "    .dataframe thead th {\n",
       "        text-align: right;\n",
       "    }\n",
       "</style>\n",
       "<table border=\"1\" class=\"dataframe\">\n",
       "  <thead>\n",
       "    <tr style=\"text-align: right;\">\n",
       "      <th></th>\n",
       "      <th>Country</th>\n",
       "      <th>total_spent</th>\n",
       "    </tr>\n",
       "  </thead>\n",
       "  <tbody>\n",
       "    <tr>\n",
       "      <th>0</th>\n",
       "      <td>Austria</td>\n",
       "      <td>10619.20</td>\n",
       "    </tr>\n",
       "    <tr>\n",
       "      <th>1</th>\n",
       "      <td>Belgium</td>\n",
       "      <td>46252.29</td>\n",
       "    </tr>\n",
       "    <tr>\n",
       "      <th>2</th>\n",
       "      <td>Finland</td>\n",
       "      <td>31091.07</td>\n",
       "    </tr>\n",
       "    <tr>\n",
       "      <th>3</th>\n",
       "      <td>France</td>\n",
       "      <td>272068.47</td>\n",
       "    </tr>\n",
       "    <tr>\n",
       "      <th>4</th>\n",
       "      <td>Germany</td>\n",
       "      <td>325883.91</td>\n",
       "    </tr>\n",
       "    <tr>\n",
       "      <th>5</th>\n",
       "      <td>Italy</td>\n",
       "      <td>20046.71</td>\n",
       "    </tr>\n",
       "    <tr>\n",
       "      <th>6</th>\n",
       "      <td>Norway</td>\n",
       "      <td>34714.18</td>\n",
       "    </tr>\n",
       "    <tr>\n",
       "      <th>7</th>\n",
       "      <td>Portugal</td>\n",
       "      <td>33414.90</td>\n",
       "    </tr>\n",
       "    <tr>\n",
       "      <th>8</th>\n",
       "      <td>Spain</td>\n",
       "      <td>95774.83</td>\n",
       "    </tr>\n",
       "    <tr>\n",
       "      <th>9</th>\n",
       "      <td>Switzerland</td>\n",
       "      <td>67361.13</td>\n",
       "    </tr>\n",
       "    <tr>\n",
       "      <th>10</th>\n",
       "      <td>United Kingdom</td>\n",
       "      <td>10956792.07</td>\n",
       "    </tr>\n",
       "  </tbody>\n",
       "</table>\n",
       "</div>"
      ],
      "text/plain": [
       "           Country  total_spent\n",
       "0          Austria     10619.20\n",
       "1          Belgium     46252.29\n",
       "2          Finland     31091.07\n",
       "3           France    272068.47\n",
       "4          Germany    325883.91\n",
       "5            Italy     20046.71\n",
       "6           Norway     34714.18\n",
       "7         Portugal     33414.90\n",
       "8            Spain     95774.83\n",
       "9      Switzerland     67361.13\n",
       "10  United Kingdom  10956792.07"
      ]
     },
     "execution_count": 112,
     "metadata": {},
     "output_type": "execute_result"
    }
   ],
   "source": [
    "df_sum_tot_spent = customers['total_spent'].groupby(customers['Country']).sum().reset_index()\n",
    "#df_sum_tot_spent.columns = ['Country', 'sum of total spent']\n",
    "df_sum_tot_spent"
   ]
  },
  {
   "cell_type": "code",
   "execution_count": 113,
   "metadata": {},
   "outputs": [
    {
     "data": {
      "text/html": [
       "<div>\n",
       "<style scoped>\n",
       "    .dataframe tbody tr th:only-of-type {\n",
       "        vertical-align: middle;\n",
       "    }\n",
       "\n",
       "    .dataframe tbody tr th {\n",
       "        vertical-align: top;\n",
       "    }\n",
       "\n",
       "    .dataframe thead th {\n",
       "        text-align: right;\n",
       "    }\n",
       "</style>\n",
       "<table border=\"1\" class=\"dataframe\">\n",
       "  <thead>\n",
       "    <tr style=\"text-align: right;\">\n",
       "      <th></th>\n",
       "      <th>Country</th>\n",
       "      <th>sum of total spent</th>\n",
       "    </tr>\n",
       "  </thead>\n",
       "  <tbody>\n",
       "    <tr>\n",
       "      <th>0</th>\n",
       "      <td>Austria</td>\n",
       "      <td>10619.20</td>\n",
       "    </tr>\n",
       "    <tr>\n",
       "      <th>1</th>\n",
       "      <td>Belgium</td>\n",
       "      <td>46252.29</td>\n",
       "    </tr>\n",
       "    <tr>\n",
       "      <th>2</th>\n",
       "      <td>Finland</td>\n",
       "      <td>31091.07</td>\n",
       "    </tr>\n",
       "    <tr>\n",
       "      <th>3</th>\n",
       "      <td>France</td>\n",
       "      <td>272068.47</td>\n",
       "    </tr>\n",
       "    <tr>\n",
       "      <th>4</th>\n",
       "      <td>Germany</td>\n",
       "      <td>325883.91</td>\n",
       "    </tr>\n",
       "    <tr>\n",
       "      <th>5</th>\n",
       "      <td>Italy</td>\n",
       "      <td>20046.71</td>\n",
       "    </tr>\n",
       "    <tr>\n",
       "      <th>6</th>\n",
       "      <td>Norway</td>\n",
       "      <td>34714.18</td>\n",
       "    </tr>\n",
       "    <tr>\n",
       "      <th>7</th>\n",
       "      <td>Portugal</td>\n",
       "      <td>33414.90</td>\n",
       "    </tr>\n",
       "    <tr>\n",
       "      <th>8</th>\n",
       "      <td>Spain</td>\n",
       "      <td>95774.83</td>\n",
       "    </tr>\n",
       "    <tr>\n",
       "      <th>9</th>\n",
       "      <td>Switzerland</td>\n",
       "      <td>67361.13</td>\n",
       "    </tr>\n",
       "    <tr>\n",
       "      <th>10</th>\n",
       "      <td>United Kingdom</td>\n",
       "      <td>10956792.07</td>\n",
       "    </tr>\n",
       "  </tbody>\n",
       "</table>\n",
       "</div>"
      ],
      "text/plain": [
       "           Country  sum of total spent\n",
       "0          Austria            10619.20\n",
       "1          Belgium            46252.29\n",
       "2          Finland            31091.07\n",
       "3           France           272068.47\n",
       "4          Germany           325883.91\n",
       "5            Italy            20046.71\n",
       "6           Norway            34714.18\n",
       "7         Portugal            33414.90\n",
       "8            Spain            95774.83\n",
       "9      Switzerland            67361.13\n",
       "10  United Kingdom         10956792.07"
      ]
     },
     "execution_count": 113,
     "metadata": {},
     "output_type": "execute_result"
    }
   ],
   "source": [
    "# Sum of total spent broken down by country\n",
    "sum_tot_spent_by_country = (customers['total_spent'] \n",
    "         .groupby(customers['Country']) \n",
    "         .sum()\n",
    "         .rename('sum of total spent') \n",
    "         .reset_index()  # required to make 'Country' a column for the plot\n",
    "                           ) # I use these brackets here to allow the methods to chain over newlines - readability\n",
    "sum_tot_spent_by_country"
   ]
  },
  {
   "cell_type": "code",
   "execution_count": 114,
   "metadata": {},
   "outputs": [
    {
     "data": {
      "text/html": [
       "<div>\n",
       "<style scoped>\n",
       "    .dataframe tbody tr th:only-of-type {\n",
       "        vertical-align: middle;\n",
       "    }\n",
       "\n",
       "    .dataframe tbody tr th {\n",
       "        vertical-align: top;\n",
       "    }\n",
       "\n",
       "    .dataframe thead th {\n",
       "        text-align: right;\n",
       "    }\n",
       "</style>\n",
       "<table border=\"1\" class=\"dataframe\">\n",
       "  <thead>\n",
       "    <tr style=\"text-align: right;\">\n",
       "      <th></th>\n",
       "      <th>Country</th>\n",
       "      <th>sum of total spent</th>\n",
       "    </tr>\n",
       "  </thead>\n",
       "  <tbody>\n",
       "    <tr>\n",
       "      <th>0</th>\n",
       "      <td>Austria</td>\n",
       "      <td>10619.20</td>\n",
       "    </tr>\n",
       "    <tr>\n",
       "      <th>1</th>\n",
       "      <td>Belgium</td>\n",
       "      <td>46252.29</td>\n",
       "    </tr>\n",
       "    <tr>\n",
       "      <th>2</th>\n",
       "      <td>Finland</td>\n",
       "      <td>31091.07</td>\n",
       "    </tr>\n",
       "    <tr>\n",
       "      <th>3</th>\n",
       "      <td>France</td>\n",
       "      <td>272068.47</td>\n",
       "    </tr>\n",
       "    <tr>\n",
       "      <th>4</th>\n",
       "      <td>Germany</td>\n",
       "      <td>325883.91</td>\n",
       "    </tr>\n",
       "    <tr>\n",
       "      <th>5</th>\n",
       "      <td>Italy</td>\n",
       "      <td>20046.71</td>\n",
       "    </tr>\n",
       "    <tr>\n",
       "      <th>6</th>\n",
       "      <td>Norway</td>\n",
       "      <td>34714.18</td>\n",
       "    </tr>\n",
       "    <tr>\n",
       "      <th>7</th>\n",
       "      <td>Portugal</td>\n",
       "      <td>33414.90</td>\n",
       "    </tr>\n",
       "    <tr>\n",
       "      <th>8</th>\n",
       "      <td>Spain</td>\n",
       "      <td>95774.83</td>\n",
       "    </tr>\n",
       "    <tr>\n",
       "      <th>9</th>\n",
       "      <td>Switzerland</td>\n",
       "      <td>67361.13</td>\n",
       "    </tr>\n",
       "    <tr>\n",
       "      <th>10</th>\n",
       "      <td>United Kingdom</td>\n",
       "      <td>10956792.07</td>\n",
       "    </tr>\n",
       "  </tbody>\n",
       "</table>\n",
       "</div>"
      ],
      "text/plain": [
       "           Country  sum of total spent\n",
       "0          Austria            10619.20\n",
       "1          Belgium            46252.29\n",
       "2          Finland            31091.07\n",
       "3           France           272068.47\n",
       "4          Germany           325883.91\n",
       "5            Italy            20046.71\n",
       "6           Norway            34714.18\n",
       "7         Portugal            33414.90\n",
       "8            Spain            95774.83\n",
       "9      Switzerland            67361.13\n",
       "10  United Kingdom         10956792.07"
      ]
     },
     "execution_count": 114,
     "metadata": {},
     "output_type": "execute_result"
    }
   ],
   "source": [
    "# Sum of total spent broken down by country\n",
    "sum_tot_spent_by_country = customers['total_spent'] \\\n",
    "         .groupby(customers['Country']) \\\n",
    "         .sum() \\\n",
    "         .rename('sum of total spent') \\\n",
    "         .reset_index()  # required to make 'Country' a column for the plot\n",
    " # I use these brackets here to allow the methods to chain over newlines - readability\n",
    "sum_tot_spent_by_country"
   ]
  },
  {
   "cell_type": "code",
   "execution_count": 115,
   "metadata": {},
   "outputs": [],
   "source": [
    "?sns.barplot"
   ]
  },
  {
   "cell_type": "code",
   "execution_count": 116,
   "metadata": {},
   "outputs": [
    {
     "data": {
      "text/html": [
       "<div>\n",
       "<style scoped>\n",
       "    .dataframe tbody tr th:only-of-type {\n",
       "        vertical-align: middle;\n",
       "    }\n",
       "\n",
       "    .dataframe tbody tr th {\n",
       "        vertical-align: top;\n",
       "    }\n",
       "\n",
       "    .dataframe thead th {\n",
       "        text-align: right;\n",
       "    }\n",
       "</style>\n",
       "<table border=\"1\" class=\"dataframe\">\n",
       "  <thead>\n",
       "    <tr style=\"text-align: right;\">\n",
       "      <th></th>\n",
       "      <th>CustomerID</th>\n",
       "      <th>Country</th>\n",
       "      <th>balance</th>\n",
       "      <th>max_spent</th>\n",
       "      <th>mean_spent</th>\n",
       "      <th>min_spent</th>\n",
       "      <th>n_orders</th>\n",
       "      <th>time_between_orders</th>\n",
       "      <th>total_items</th>\n",
       "      <th>total_items_returned</th>\n",
       "      <th>total_refunded</th>\n",
       "      <th>total_spent</th>\n",
       "    </tr>\n",
       "  </thead>\n",
       "  <tbody>\n",
       "    <tr>\n",
       "      <th>0</th>\n",
       "      <td>12346</td>\n",
       "      <td>United Kingdom</td>\n",
       "      <td>0.00</td>\n",
       "      <td>77183.60</td>\n",
       "      <td>38591.800000</td>\n",
       "      <td>0.00</td>\n",
       "      <td>2</td>\n",
       "      <td>NaN</td>\n",
       "      <td>74215</td>\n",
       "      <td>-74215</td>\n",
       "      <td>-77183.60</td>\n",
       "      <td>77183.60</td>\n",
       "    </tr>\n",
       "    <tr>\n",
       "      <th>1</th>\n",
       "      <td>12348</td>\n",
       "      <td>Finland</td>\n",
       "      <td>3874.60</td>\n",
       "      <td>2248.80</td>\n",
       "      <td>1291.533333</td>\n",
       "      <td>478.80</td>\n",
       "      <td>3</td>\n",
       "      <td>54.500000</td>\n",
       "      <td>6876</td>\n",
       "      <td>0</td>\n",
       "      <td>0.00</td>\n",
       "      <td>3874.60</td>\n",
       "    </tr>\n",
       "    <tr>\n",
       "      <th>2</th>\n",
       "      <td>12350</td>\n",
       "      <td>Norway</td>\n",
       "      <td>294.40</td>\n",
       "      <td>294.40</td>\n",
       "      <td>294.400000</td>\n",
       "      <td>294.40</td>\n",
       "      <td>1</td>\n",
       "      <td>NaN</td>\n",
       "      <td>196</td>\n",
       "      <td>0</td>\n",
       "      <td>0.00</td>\n",
       "      <td>294.40</td>\n",
       "    </tr>\n",
       "    <tr>\n",
       "      <th>3</th>\n",
       "      <td>12352</td>\n",
       "      <td>Norway</td>\n",
       "      <td>1845.13</td>\n",
       "      <td>1054.10</td>\n",
       "      <td>393.092000</td>\n",
       "      <td>0.00</td>\n",
       "      <td>5</td>\n",
       "      <td>11.333333</td>\n",
       "      <td>774</td>\n",
       "      <td>-63</td>\n",
       "      <td>-120.33</td>\n",
       "      <td>1965.46</td>\n",
       "    </tr>\n",
       "    <tr>\n",
       "      <th>4</th>\n",
       "      <td>12354</td>\n",
       "      <td>Spain</td>\n",
       "      <td>1079.40</td>\n",
       "      <td>1079.40</td>\n",
       "      <td>1079.400000</td>\n",
       "      <td>1079.40</td>\n",
       "      <td>1</td>\n",
       "      <td>NaN</td>\n",
       "      <td>530</td>\n",
       "      <td>0</td>\n",
       "      <td>0.00</td>\n",
       "      <td>1079.40</td>\n",
       "    </tr>\n",
       "    <tr>\n",
       "      <th>...</th>\n",
       "      <td>...</td>\n",
       "      <td>...</td>\n",
       "      <td>...</td>\n",
       "      <td>...</td>\n",
       "      <td>...</td>\n",
       "      <td>...</td>\n",
       "      <td>...</td>\n",
       "      <td>...</td>\n",
       "      <td>...</td>\n",
       "      <td>...</td>\n",
       "      <td>...</td>\n",
       "      <td>...</td>\n",
       "    </tr>\n",
       "    <tr>\n",
       "      <th>3249</th>\n",
       "      <td>18280</td>\n",
       "      <td>United Kingdom</td>\n",
       "      <td>180.60</td>\n",
       "      <td>180.60</td>\n",
       "      <td>180.600000</td>\n",
       "      <td>180.60</td>\n",
       "      <td>1</td>\n",
       "      <td>NaN</td>\n",
       "      <td>45</td>\n",
       "      <td>0</td>\n",
       "      <td>0.00</td>\n",
       "      <td>180.60</td>\n",
       "    </tr>\n",
       "    <tr>\n",
       "      <th>3250</th>\n",
       "      <td>18281</td>\n",
       "      <td>United Kingdom</td>\n",
       "      <td>80.82</td>\n",
       "      <td>80.82</td>\n",
       "      <td>80.820000</td>\n",
       "      <td>80.82</td>\n",
       "      <td>1</td>\n",
       "      <td>NaN</td>\n",
       "      <td>54</td>\n",
       "      <td>0</td>\n",
       "      <td>0.00</td>\n",
       "      <td>80.82</td>\n",
       "    </tr>\n",
       "    <tr>\n",
       "      <th>3251</th>\n",
       "      <td>18282</td>\n",
       "      <td>United Kingdom</td>\n",
       "      <td>98.76</td>\n",
       "      <td>100.21</td>\n",
       "      <td>50.105000</td>\n",
       "      <td>0.00</td>\n",
       "      <td>2</td>\n",
       "      <td>NaN</td>\n",
       "      <td>75</td>\n",
       "      <td>-5</td>\n",
       "      <td>-1.45</td>\n",
       "      <td>100.21</td>\n",
       "    </tr>\n",
       "    <tr>\n",
       "      <th>3252</th>\n",
       "      <td>18283</td>\n",
       "      <td>United Kingdom</td>\n",
       "      <td>3049.23</td>\n",
       "      <td>650.96</td>\n",
       "      <td>338.803333</td>\n",
       "      <td>7.50</td>\n",
       "      <td>9</td>\n",
       "      <td>23.250000</td>\n",
       "      <td>2063</td>\n",
       "      <td>0</td>\n",
       "      <td>0.00</td>\n",
       "      <td>3049.23</td>\n",
       "    </tr>\n",
       "    <tr>\n",
       "      <th>3253</th>\n",
       "      <td>18287</td>\n",
       "      <td>United Kingdom</td>\n",
       "      <td>2499.54</td>\n",
       "      <td>2499.54</td>\n",
       "      <td>2499.540000</td>\n",
       "      <td>2499.54</td>\n",
       "      <td>1</td>\n",
       "      <td>NaN</td>\n",
       "      <td>1662</td>\n",
       "      <td>0</td>\n",
       "      <td>0.00</td>\n",
       "      <td>2499.54</td>\n",
       "    </tr>\n",
       "  </tbody>\n",
       "</table>\n",
       "<p>3254 rows × 12 columns</p>\n",
       "</div>"
      ],
      "text/plain": [
       "      CustomerID         Country  balance  max_spent    mean_spent  min_spent  \\\n",
       "0          12346  United Kingdom     0.00   77183.60  38591.800000       0.00   \n",
       "1          12348         Finland  3874.60    2248.80   1291.533333     478.80   \n",
       "2          12350          Norway   294.40     294.40    294.400000     294.40   \n",
       "3          12352          Norway  1845.13    1054.10    393.092000       0.00   \n",
       "4          12354           Spain  1079.40    1079.40   1079.400000    1079.40   \n",
       "...          ...             ...      ...        ...           ...        ...   \n",
       "3249       18280  United Kingdom   180.60     180.60    180.600000     180.60   \n",
       "3250       18281  United Kingdom    80.82      80.82     80.820000      80.82   \n",
       "3251       18282  United Kingdom    98.76     100.21     50.105000       0.00   \n",
       "3252       18283  United Kingdom  3049.23     650.96    338.803333       7.50   \n",
       "3253       18287  United Kingdom  2499.54    2499.54   2499.540000    2499.54   \n",
       "\n",
       "      n_orders  time_between_orders  total_items  total_items_returned  \\\n",
       "0            2                  NaN        74215                -74215   \n",
       "1            3            54.500000         6876                     0   \n",
       "2            1                  NaN          196                     0   \n",
       "3            5            11.333333          774                   -63   \n",
       "4            1                  NaN          530                     0   \n",
       "...        ...                  ...          ...                   ...   \n",
       "3249         1                  NaN           45                     0   \n",
       "3250         1                  NaN           54                     0   \n",
       "3251         2                  NaN           75                    -5   \n",
       "3252         9            23.250000         2063                     0   \n",
       "3253         1                  NaN         1662                     0   \n",
       "\n",
       "      total_refunded  total_spent  \n",
       "0          -77183.60     77183.60  \n",
       "1               0.00      3874.60  \n",
       "2               0.00       294.40  \n",
       "3            -120.33      1965.46  \n",
       "4               0.00      1079.40  \n",
       "...              ...          ...  \n",
       "3249            0.00       180.60  \n",
       "3250            0.00        80.82  \n",
       "3251           -1.45       100.21  \n",
       "3252            0.00      3049.23  \n",
       "3253            0.00      2499.54  \n",
       "\n",
       "[3254 rows x 12 columns]"
      ]
     },
     "execution_count": 116,
     "metadata": {},
     "output_type": "execute_result"
    }
   ],
   "source": [
    "customers"
   ]
  },
  {
   "cell_type": "code",
   "execution_count": 118,
   "metadata": {},
   "outputs": [
    {
     "data": {
      "image/png": "[encoded data removed]",
      "text/plain": [
       "<Figure size 432x288 with 1 Axes>"
      ]
     },
     "metadata": {
      "needs_background": "light"
     },
     "output_type": "display_data"
    }
   ],
   "source": [
    "sns.barplot(x='Country', y='total_spent', data=customers, estimator=np.sum)\n",
    "plt.xticks(rotation=90)\n",
    "plt.show()"
   ]
  },
  {
   "cell_type": "code",
   "execution_count": null,
   "metadata": {},
   "outputs": [],
   "source": [
    "# Plot the data\n",
    "sns.barplot(x='Country', y='sum of total spent', data=sum_tot_spent_by_country)\n",
    "plt.xticks(rotation=90)\n",
    "plt.show()\n"
   ]
  },
  {
   "cell_type": "markdown",
   "metadata": {},
   "source": [
    "#### 10b) Again, as might be expected, there is one dominant country. Plot the data again, but exclude the dominant country. In the title of the graph, write explicitly what proportion of the total spent is shown in the plot."
   ]
  },
  {
   "cell_type": "code",
   "execution_count": null,
   "metadata": {},
   "outputs": [],
   "source": [
    "# Plot of total spend broken down by country, excluding UK\n",
    "df = sum_tot_spent_by_country.query('Country != \"United Kingdom\"')\n",
    "sns.barplot(x='Country', y='sum of total spent', data=df)\n",
    "prop_uk_spending = customers.query('Country == \"United Kingdom\"')['total_spent'].sum() / sum_tot_spent\n",
    "plt.title('{:.3f} of total spent is not from UK'.format(1 - prop_uk_spending))\n",
    "plt.xticks(rotation=90)\n",
    "plt.show()\n"
   ]
  },
  {
   "cell_type": "markdown",
   "metadata": {},
   "source": [
    "#### 10c) What is the average amount spent per country? (Hint: you'll be able to use very similar code to the analysis summing the total spent)"
   ]
  },
  {
   "cell_type": "code",
   "execution_count": null,
   "metadata": {},
   "outputs": [],
   "source": [
    "# Mean total_spent by country\n",
    "avg_spend_by_country = (\n",
    "    customers['total_spent']\n",
    "         .groupby(customers['Country'])\n",
    "         .mean()\n",
    "         .rename('mean spent by customers')\n",
    "         .reset_index()  # required to make 'Country' a column for the plot\n",
    ")\n",
    "sns.barplot(x='Country', y='mean spent by customers', data=avg_spend_by_country)\n",
    "plt.xticks(rotation=90)\n",
    "plt.show()\n",
    "avg_spend_by_country\n"
   ]
  },
  {
   "cell_type": "markdown",
   "metadata": {},
   "source": [
    "#### 10d) Bonus: (move on if not solved in a few mins) -- What is the average amount spent *per order* per country (there is a column `n_orders`)? Hint: be careful...the mean of the column `mean_spent` per country is not the same as the desired quantity e.g. $\\frac{\\frac{10}{5} + \\frac{20}{4}}{2} \\ne \\frac{10 + 20}{5+4}$...my solution first makes a function which calculates the mean spend per order for a given dataframe, then I use `apply` to apply this to each country using a `groupby`."
   ]
  },
  {
   "cell_type": "code",
   "execution_count": null,
   "metadata": {},
   "outputs": [],
   "source": [
    "# Mean amount spent per order broken down by country\n",
    "# N.B. as hinted in the questions, taking the mean of mean_spent grouped by country is not correct\n",
    "def mean_spent_per_order(df):\n",
    "    total_orders = df.n_orders.sum()\n",
    "    total_spent = df.total_spent.sum()\n",
    "    return total_spent/total_orders\n",
    "print('Mean spent per order in the dataset = £{:.2f}'.format(mean_spent_per_order(customers)))\n",
    "\n",
    "avg_order_spend_by_country = (\n",
    "    customers\n",
    "         .groupby(customers['Country'])\n",
    "         .apply(mean_spent_per_order)\n",
    "         .rename('mean spend per order')\n",
    "         .reset_index()  # required to make 'Country' a column for the plot\n",
    ") # I use these brackets here to allow the methods to chain over newlines - readability\n",
    "print(avg_order_spend_by_country)\n",
    "\n",
    "sns.barplot(x='Country', y='mean spend per order', data=avg_order_spend_by_country)\n",
    "plt.axhline(mean_spent_per_order(customers), color='black', linestyle='dashed', linewidth=2, label='dataset mean')\n",
    "plt.legend()\n",
    "plt.xticks(rotation=90)\n",
    "plt.show()\n",
    "\n",
    "\n",
    "# EXTRA ==============\n",
    "# A little bonus for your efforts - see how easy it is to change this analysis to \"mean spent per *item*\"\n",
    "def mean_spent_per_item(df):\n",
    "    total_items = df.total_items.sum()\n",
    "    total_spent = df.total_spent.sum()\n",
    "    return total_spent/total_items\n",
    "print('Mean spent per item in the dataset = £{:.2f}'.format(mean_spent_per_item(customers)))\n",
    "\n",
    "avg_item_spend_by_country = (\n",
    "    customers\n",
    "         .groupby(customers['Country'])\n",
    "         .apply(mean_spent_per_item)\n",
    "         .rename('mean spend per item')\n",
    "         .reset_index()  # required to make 'Country' a column for the plot\n",
    ") # I use these brackets here to allow the methods to chain over newlines - readability\n",
    "print(avg_item_spend_by_country)\n",
    "sns.barplot(x='Country', y='mean spend per item', data=avg_item_spend_by_country)\n",
    "plt.axhline(mean_spent_per_item(customers), color='black', linestyle='dashed', linewidth=2, label='dataset mean')\n",
    "plt.legend()\n",
    "plt.xticks(rotation=90)\n",
    "plt.show()\n"
   ]
  },
  {
   "cell_type": "markdown",
   "metadata": {},
   "source": [
    "#### 11a) Since the total number of orders is very skewed, when comparing countries, we should compare proportions. Compare the **proportion** of customers with 1 order vs. 2+ orders for each country. Put this information in one table, or one plot if you can."
   ]
  },
  {
   "cell_type": "code",
   "execution_count": null,
   "metadata": {},
   "outputs": [],
   "source": [
    "df = customers\n",
    "\n",
    "x, y, hue = \"Country\", \"prop\", \"Number of Orders\"\n",
    "\n",
    "one_or_more = lambda x: '1' if x==1 else '>=2'\n",
    "\n",
    "prop_df = (df['n_orders']\n",
    "           .apply(one_or_more)\n",
    "           .rename(hue)\n",
    "           .groupby(df[x])\n",
    "           .value_counts(normalize=True)\n",
    "           .rename(y)\n",
    "           .reset_index())\n",
    "\n",
    "sns.barplot(x=x, y=y, hue=hue, data=prop_df)\n",
    "plt.xticks(rotation=90)\n",
    "plt.show()\n"
   ]
  },
  {
   "cell_type": "markdown",
   "metadata": {},
   "source": [
    "#### 11b) Use `pd.cut` to repeat the above but with some more interesting range bins"
   ]
  },
  {
   "cell_type": "code",
   "execution_count": null,
   "metadata": {},
   "outputs": [],
   "source": [
    "df = customers\n",
    "x, y, hue = \"n_orders\", \"prop\", \"Country\"\n",
    "\n",
    "prop_df = (pd.cut(df[x], [0, 1, 2, 5, 10, np.inf])\n",
    "           .groupby(df[hue])\n",
    "           .value_counts(normalize=True)\n",
    "           .rename(y)\n",
    "           .reset_index())\n",
    "\n",
    "sns.barplot(x=hue, y=y, hue=x, data=prop_df)\n",
    "plt.xticks(rotation=90)\n",
    "plt.show()\n"
   ]
  },
  {
   "cell_type": "markdown",
   "metadata": {},
   "source": [
    "#### 12) In your own words, summarise what you've found out about this dataset from your analysis above"
   ]
  },
  {
   "cell_type": "code",
   "execution_count": null,
   "metadata": {},
   "outputs": [],
   "source": []
  },
  {
   "cell_type": "code",
   "execution_count": null,
   "metadata": {},
   "outputs": [],
   "source": [
    "# Interpret your findings above!\n",
    "# * This is a dataset about orders customers have made with a business\n",
    "# * The data are aggregated up to the customer level\n",
    "# * The features are summary statistics about their order history\n",
    "# -------\n",
    "# * There is a total spending of 11 million in this dataset (information about \n",
    "#   what denomination is not contained in the dataset - it could be cents!)\n",
    "# * There is comparatively little refunded\n",
    "# * The customers are mostly from the UK\n",
    "# * Of customers excluding the UK, France and Germany are most common\n",
    "# * From simple distribution plots of spending and n_order variables, we can \n",
    "#   see we have some companies that are big outliers\n",
    "# * The pattern is roughly the same regarding the total amount spent\n",
    "# * The distribution of total spent by customers from each region, the \n",
    "#   distributions aren't radically different...but there are a few outliers \n",
    "#   with very large spends\n",
    "# * The mean order is about £1000 (and the mean item cost is a mere £1.69...\n",
    "#   my bet is that this dataset is about selling office stationary at this \n",
    "#   point)\n",
    "# * For each country, between 30 and 50 percent of customers have submitted\n",
    "#   only one order (Bonus: germany seems to have loyal customers, over 10%\n",
    "#   of the customers have ordered 10 times or more!)\n",
    "# * ...this is by no means an exhaustive list!!!\n"
   ]
  }
 ],
 "metadata": {
  "kernelspec": {
   "display_name": "Python 3",
   "language": "python",
   "name": "python3"
  },
  "language_info": {
   "codemirror_mode": {
    "name": "ipython",
    "version": 3
   },
   "file_extension": ".py",
   "mimetype": "text/x-python",
   "name": "python",
   "nbconvert_exporter": "python",
   "pygments_lexer": "ipython3",
   "version": "3.8.6"
  }
 },
 "nbformat": 4,
 "nbformat_minor": 2
}
