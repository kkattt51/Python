{
 "cells": [
  {
   "cell_type": "markdown",
   "metadata": {},
   "source": [
    "<center>\n",
    "<img src=\"../img/python_theme.png\">\n",
    "# MLClass. \"Прикладной анализ данных\"\n",
    "# Модуль \"Инструментарий Data Science\"\n",
    "<img src=\"../img/mlclass_logo.jpg\" height=\"240\" width=\"240\">\n",
    "\n",
    "## Автор материала: Юрий Кашницкий, ФКН НИУ ВШЭ\n",
    "</center>\n",
    "Материал распространяется на условиях лицензии <a href=\"https://opensource.org/licenses/MS-RL\">Ms-RL</a>. Можно использовать в любых целях, кроме коммерческих, но с обязательным упоминанием автора материала."
   ]
  },
  {
   "cell_type": "markdown",
   "metadata": {},
   "source": [
    "# Урок 5. Функции. Рекурсии\n",
    "## Часть 1. Функции"
   ]
  },
  {
   "cell_type": "markdown",
   "metadata": {},
   "source": [
    "\n",
    "\n",
    "## План\n",
    "\n",
    "Часть 1. Функции\n",
    "1. Объявление функции. Встроенные функции. Вызов функции. Передача аргументов.\n",
    "2. Глобальные и локальные переменные\n",
    "3. Функции и неизменяемые типы (int, string, tuple)\n",
    "4. Функции и изменяемые типы (list, dict, set)\n",
    "5. Именованные аргументы\n",
    "6. Обработка переменного числа аргументов\n",
    "7. Возврат данных из функции с помощью Return\n",
    "8. Лямбда-функции\n",
    "9. Генераторы\n",
    "\n",
    "Часть 2. Рекурсивные функции"
   ]
  },
  {
   "cell_type": "code",
   "execution_count": null,
   "metadata": {
    "collapsed": true
   },
   "outputs": [],
   "source": [
    "# Python 2 and 3 compatibility\n",
    "# pip install future\n",
    "from __future__ import (absolute_import, division,\n",
    "                        print_function, unicode_literals)\n",
    "from builtins import *"
   ]
  },
  {
   "cell_type": "markdown",
   "metadata": {},
   "source": [
    "## 1. Объявление функции\n",
    "\n",
    "def <название_функции> ( <параметр1>,<параметр2>,...,<параметрN>):\n",
    "\n",
    "    <Оператор1>\n",
    "    <Оператор2>\n",
    "    ....\n",
    "    <ОператорN>\n",
    "    return [Выражение]"
   ]
  },
  {
   "cell_type": "code",
   "execution_count": 1,
   "metadata": {},
   "outputs": [
    {
     "name": "stdout",
     "output_type": "stream",
     "text": [
      "Hi dear Andrew\n",
      "Hi dear me\n",
      "0\n"
     ]
    },
    {
     "data": {
      "text/plain": [
       "3"
      ]
     },
     "execution_count": 1,
     "metadata": {},
     "output_type": "execute_result"
    }
   ],
   "source": [
    "# Простейшая функция. Ничего не принимает в качестве аргументов и ничего не делает\n",
    "def do_nothing():\n",
    "    pass\n",
    "\n",
    "# вызов функции\n",
    "do_nothing()\n",
    "\n",
    "# Передача параметра\n",
    "def say_hi_to(name): \n",
    "    print(\"Hi dear\", name)\n",
    "    return 0\n",
    "\n",
    "name = \"Andrew\"\n",
    "var1 = \"String\"\n",
    "say_hi_to(name)\n",
    "var1 = say_hi_to(\"me\")\n",
    "print(var1)\n",
    "\n",
    "# Существует большое количество встроенных функций (bult in) \n",
    "# Больше функций на https://docs.python.org/3/library/functions.html )\n",
    "# Например функция определения длины списка\n",
    "ls = [1,2,3]\n",
    "len(ls)"
   ]
  },
  {
   "cell_type": "markdown",
   "metadata": {},
   "source": [
    "# 2. Локальные переменные"
   ]
  },
  {
   "cell_type": "markdown",
   "metadata": {},
   "source": [
    "Внимание!!! Тут в тетрадках IPython можно запутаться с порядком выполнения кода. Например, переменная k не должна печататься в функции f() ниже, но может, если k была опеределена в другой клетке тетрадки IPython. "
   ]
  },
  {
   "cell_type": "code",
   "execution_count": 1,
   "metadata": {},
   "outputs": [
    {
     "name": "stdout",
     "output_type": "stream",
     "text": [
      "Outside before f\n"
     ]
    }
   ],
   "source": [
    "# Функции имеют права на чтение к объявленным до функции переменным \n",
    "# и не имеют - к объявленным после вызова функции\n",
    "def f(): \n",
    "    print(s)\n",
    "    #s = \"Inside\" #Однако не могут их менять\n",
    "    #print(s)  #Error\n",
    "    #print(k) #Error\n",
    "    \n",
    "s = \"Outside before f\"\n",
    "f()\n",
    "k = \"Outside after f\""
   ]
  },
  {
   "cell_type": "code",
   "execution_count": 3,
   "metadata": {},
   "outputs": [
    {
     "name": "stdout",
     "output_type": "stream",
     "text": [
      "Outside\n",
      "Inside\n",
      "===========\n",
      "Outside\n"
     ]
    }
   ],
   "source": [
    "# При объявлении в функции переменной с тем же именем создается новая (внутренняя) переменная, \n",
    "# не связанная с внешней\n",
    "def f(): \n",
    "    print(k) # Так можно. Тут переменная К не объявляется\n",
    "    #print(s) #Тем не менее попытка обращения к переменной которая потом будет создана вызывает ошибку\n",
    "    s = \"Inside\" \n",
    "    print(s)\n",
    "    print(\"===========\")\n",
    "    \n",
    "k = \"Outside\"\n",
    "s = \"Outside\" \n",
    "f()\n",
    "print(s)"
   ]
  },
  {
   "cell_type": "code",
   "execution_count": 4,
   "metadata": {},
   "outputs": [
    {
     "name": "stdout",
     "output_type": "stream",
     "text": [
      "Outside\n",
      "Inside\n",
      "=======================\n",
      "Inside\n"
     ]
    }
   ],
   "source": [
    "def f():\n",
    "    global s # Для изменения внешних переменных внутри функции их надо объявить глобальной.\n",
    "    print(s)\n",
    "    s = \"Inside\"\n",
    "    print(s)\n",
    "    print(\"=======================\")\n",
    "\n",
    "\n",
    "s = \"Outside\"\n",
    "f()\n",
    "print(s)"
   ]
  },
  {
   "cell_type": "markdown",
   "metadata": {},
   "source": [
    "## 3. Передача в функции неизменяемых типов (str, int, tuple, frozenset)\n",
    "\n",
    "Передача происходит по значению, т.е внешняя переменная не зависит от внутренней (локальной) функции"
   ]
  },
  {
   "cell_type": "code",
   "execution_count": 5,
   "metadata": {},
   "outputs": [
    {
     "name": "stdout",
     "output_type": "stream",
     "text": [
      "Outside\n",
      "10\n",
      "Inside\n",
      "4\n",
      "=========\n",
      "Outside\n",
      "10\n"
     ]
    }
   ],
   "source": [
    "def func(arg, arg2):\n",
    "    print(arg)\n",
    "    print(arg2)\n",
    "    arg = \"Inside\"\n",
    "    arg2 = 4\n",
    "    print(arg)\n",
    "    print(arg2)\n",
    "    print(\"=========\")\n",
    "\n",
    "\n",
    "var1 = \"Outside\"\n",
    "var2 = 10\n",
    "func(var1,var2)\n",
    "print(var1) # значение переменной вне функции не изменилось\n",
    "print(var2)"
   ]
  },
  {
   "cell_type": "markdown",
   "metadata": {},
   "source": [
    "**Пример**. Хотим распечатать зарплаты по месяцам в порядке возрастания, но исходные данные не хотим менять"
   ]
  },
  {
   "cell_type": "code",
   "execution_count": 2,
   "metadata": {},
   "outputs": [
    {
     "name": "stdout",
     "output_type": "stream",
     "text": [
      "1 salary is 25000\n",
      "2 salary is 30000\n",
      "3 salary is 40000\n",
      "4 salary is 42000\n"
     ]
    }
   ],
   "source": [
    "salaries = (40000, 30000, 25000, 42000)\n",
    "\n",
    "def f(salaries):\n",
    "    for (i, salary) in enumerate(sorted(salaries)):\n",
    "        print(\"{0} salary is {1}\".format(i+1, salary))\n",
    "\n",
    "f(salaries)"
   ]
  },
  {
   "cell_type": "markdown",
   "metadata": {},
   "source": [
    "## 4. Передача в функции изменяемых типов (list, dict, set)\n",
    "\n",
    "Передача параметров изменяемых типов происходит по ссылке, т.е изменения в функции влияют на внешние переменные"
   ]
  },
  {
   "cell_type": "code",
   "execution_count": 7,
   "metadata": {},
   "outputs": [
    {
     "name": "stdout",
     "output_type": "stream",
     "text": [
      "List outside:  [10, 20, 30]\n",
      "Dict outside:  {1: 'a', 2: 'b'}\n",
      "==================\n",
      "List inside:  [10, 20, 30, [1, 2, 3, 4]]\n",
      "Dict inside:  {1: 'ccc', 2: 'b'}\n",
      "====================\n",
      "List outside:  [10, 20, 30, [1, 2, 3, 4]]\n",
      "Dict outside:  {1: 'ccc', 2: 'b'}\n"
     ]
    }
   ],
   "source": [
    "def changeme(mylist, mydict):\n",
    "    mylist.append([1, 2, 3, 4])\n",
    "    mydict[1] = \"ccc\"\n",
    "    print(\"List inside: \", mylist)\n",
    "    print(\"Dict inside: \", mydict)\n",
    "    print(\"====================\")\n",
    "\n",
    "l1 = [10, 20, 30]\n",
    "d1 = {1: \"a\", 2: \"b\"}\n",
    "print(\"List outside: \", l1)\n",
    "print(\"Dict outside: \", d1)\n",
    "print(\"==================\")\n",
    "changeme(l1, d1)\n",
    "print(\"List outside: \", l1)\n",
    "print(\"Dict outside: \", d1)"
   ]
  },
  {
   "cell_type": "markdown",
   "metadata": {},
   "source": [
    "Пример функции, которая изменит переданный ей список:"
   ]
  },
  {
   "cell_type": "code",
   "execution_count": 8,
   "metadata": {},
   "outputs": [
    {
     "name": "stdout",
     "output_type": "stream",
     "text": [
      "salaries before calling f: [40000, 30000, 25000, 42000]\n",
      "1 salary is 25000\n",
      "2 salary is 30000\n",
      "3 salary is 40000\n",
      "4 salary is 42000\n",
      "salaries after calling f: [25000, 30000, 40000, 42000]\n"
     ]
    }
   ],
   "source": [
    "salaries = [40000, 30000, 25000, 42000]\n",
    "\n",
    "def f(salaries):\n",
    "    salaries.sort()\n",
    "    for (i, salary) in enumerate(salaries):\n",
    "        print(\"{0} salary is {1}\".format(i+1, salary))\n",
    "\n",
    "print(\"salaries before calling f: {0}\".format(salaries))\n",
    "f(salaries)\n",
    "print(\"salaries after calling f: {0}\".format(salaries))"
   ]
  },
  {
   "cell_type": "markdown",
   "metadata": {},
   "source": [
    "## 5. Именованные аргументы"
   ]
  },
  {
   "cell_type": "code",
   "execution_count": 3,
   "metadata": {},
   "outputs": [
    {
     "name": "stdout",
     "output_type": "stream",
     "text": [
      "First name: Brian\n",
      "Last name: Kernighan\n",
      "Age: 71\n",
      "\n"
     ]
    }
   ],
   "source": [
    "def describe_person(first_name, last_name, age):\n",
    "    print(\"First name: %s\" % first_name.title())\n",
    "    print(\"Last name: %s\" % last_name.title())\n",
    "    print(\"Age: %d\\n\" % age)\n",
    "\n",
    "describe_person(age=71, first_name='brian', last_name='kernighan')"
   ]
  },
  {
   "cell_type": "markdown",
   "metadata": {},
   "source": [
    "Можно аргумент age сделать необязательным"
   ]
  },
  {
   "cell_type": "code",
   "execution_count": 4,
   "metadata": {},
   "outputs": [
    {
     "name": "stdout",
     "output_type": "stream",
     "text": [
      "First name: Brian\n",
      "Last name: Kernighan\n",
      "Age: 10\n",
      "\n"
     ]
    }
   ],
   "source": [
    "def describe_person(first_name, last_name, age=10):\n",
    "    print(\"First name: %s\" % first_name.title())\n",
    "    print(\"Last name: %s\" % last_name.title())\n",
    "    print(\"Age: %d\\n\" % age)\n",
    "\n",
    "describe_person(first_name='brian', last_name='kernighan')"
   ]
  },
  {
   "cell_type": "markdown",
   "metadata": {},
   "source": [
    "## 6. Переменное число аргументов"
   ]
  },
  {
   "cell_type": "code",
   "execution_count": 14,
   "metadata": {},
   "outputs": [
    {
     "name": "stdout",
     "output_type": "stream",
     "text": [
      "-- Do you have any Limburger ?\n",
      "-- I'm sorry, we're all out of Limburger\n",
      "It's very runny, sir.\n",
      "It's really very, very runny, sir.\n",
      "----------------------------------------\n",
      "client : John Cleese\n",
      "shopkeeper : Michael Palin\n",
      "sketch : Cheese Shop Sketch\n"
     ]
    }
   ],
   "source": [
    "def cheeseshop(kind, *arguments, **keywords):\n",
    "    print(\"-- Do you have any\", kind, \"?\")\n",
    "    print(\"-- I'm sorry, we're all out of\", kind)\n",
    "    for arg in arguments:\n",
    "        print(arg)\n",
    "    print(\"-\" * 40)\n",
    "    keys = sorted(keywords.keys())\n",
    "    for kw in keys:\n",
    "        print(kw, \":\", keywords[kw])\n",
    "\n",
    "cheeseshop(\"Limburger\", \"It's very runny, sir.\",\n",
    "           \"It's really very, very runny, sir.\",\n",
    "           shopkeeper=\"Michael Palin\",\n",
    "           client=\"John Cleese\",\n",
    "           sketch=\"Cheese Shop Sketch\")"
   ]
  },
  {
   "cell_type": "markdown",
   "metadata": {},
   "source": [
    "Функция, печатающая переданные ей значения и соответствующие аргументы:"
   ]
  },
  {
   "cell_type": "code",
   "execution_count": 8,
   "metadata": {},
   "outputs": [
    {
     "name": "stdout",
     "output_type": "stream",
     "text": [
      "{'person': 'Alex', 'lastname': 'Kollins', 'a': 2}\n",
      "person is Alex\n",
      "lastname is Kollins\n",
      "\n",
      "    prints its args and values\n",
      "    \n"
     ]
    }
   ],
   "source": [
    "def simple_print(**kwargs):\n",
    "    \"\"\"\n",
    "    prints its args and values\n",
    "    \"\"\"\n",
    "    print(kwargs)\n",
    "    if 'person' in kwargs:\n",
    "        print(\"{0} is {1}\".format('person', \n",
    "                                  kwargs['person']))\n",
    "    if 'lastname' in kwargs:\n",
    "        print(\"{0} is {1}\".format('lastname', \n",
    "                                  kwargs['lastname']))\n",
    "    if set(kwargs.keys()).difference(\n",
    "               set(['person', 'lastname'])):\n",
    "        print(simple_print.__doc__)\n",
    "    \n",
    "simple_print(person=\"Alex\", lastname=\"Kollins\", a=2)"
   ]
  },
  {
   "cell_type": "markdown",
   "metadata": {},
   "source": [
    "Пример функции со множеством необязательных аргументов:"
   ]
  },
  {
   "cell_type": "code",
   "execution_count": 6,
   "metadata": {},
   "outputs": [
    {
     "name": "stdout",
     "output_type": "stream",
     "text": [
      "Help on function simple_print in module __main__:\n",
      "\n",
      "simple_print(**kwargs)\n",
      "    prints its args and values\n",
      "\n"
     ]
    }
   ],
   "source": [
    "help(simple_print)"
   ]
  },
  {
   "cell_type": "code",
   "execution_count": 9,
   "metadata": {},
   "outputs": [
    {
     "name": "stdout",
     "output_type": "stream",
     "text": [
      "Populating the interactive namespace from numpy and matplotlib\n"
     ]
    },
    {
     "name": "stderr",
     "output_type": "stream",
     "text": [
      "WARNING: pylab import has clobbered these variables: ['f']\n",
      "`%matplotlib` prevents importing * from pylab and numpy\n"
     ]
    },
    {
     "data": {
      "text/plain": [
       "[<matplotlib.lines.Line2D at 0x106852be0>]"
      ]
     },
     "execution_count": 9,
     "metadata": {},
     "output_type": "execute_result"
    },
    {
     "data": {
      "image/png": "[encoded data removed]",
      "text/plain": [
       "<matplotlib.figure.Figure at 0x104bb6a58>"
      ]
     },
     "metadata": {},
     "output_type": "display_data"
    }
   ],
   "source": [
    "%pylab inline\n",
    "# from matplotlib import pylab as plt\n",
    "from math import sin\n",
    "\n",
    "x = range(1000)\n",
    "y = [sin(i / 100) for i in x]\n",
    "\n",
    "plot(x, y)\n",
    "# plot(x, y, color=\"green\")\n",
    "# help(plot)"
   ]
  },
  {
   "cell_type": "code",
   "execution_count": 11,
   "metadata": {},
   "outputs": [
    {
     "data": {
      "text/plain": [
       "[<matplotlib.lines.Line2D at 0x1069afcc0>]"
      ]
     },
     "execution_count": 11,
     "metadata": {},
     "output_type": "execute_result"
    },
    {
     "data": {
      "image/png": "[encoded data removed]",
      "text/plain": [
       "<matplotlib.figure.Figure at 0x106959978>"
      ]
     },
     "metadata": {},
     "output_type": "display_data"
    }
   ],
   "source": [
    "plot(x, y, color=\"red\", linestyle='dashed')\n",
    "#help(plot)"
   ]
  },
  {
   "cell_type": "markdown",
   "metadata": {},
   "source": [
    "\n",
    "## 7. Возврат данных из функции с помощью Return"
   ]
  },
  {
   "cell_type": "markdown",
   "metadata": {},
   "source": [
    "Функция может возвращать что угодно, в том числе и другую функцию"
   ]
  },
  {
   "cell_type": "code",
   "execution_count": 12,
   "metadata": {},
   "outputs": [
    {
     "name": "stdout",
     "output_type": "stream",
     "text": [
      "<function f1 at 0x1069800d0>\n",
      "f1\n",
      "<function f1.<locals>.f2 at 0x106980840>\n",
      "f1\n",
      "Hello!\n",
      "None\n"
     ]
    }
   ],
   "source": [
    "def f1():\n",
    "    print(\"f1\")\n",
    "    def f2():\n",
    "        print(\"Hello!\")\n",
    "    return f2\n",
    "\n",
    "print(f1)\n",
    "print(f1())\n",
    "print(f1()())"
   ]
  },
  {
   "cell_type": "markdown",
   "metadata": {},
   "source": [
    "## 8. Лямбда функции"
   ]
  },
  {
   "cell_type": "code",
   "execution_count": 32,
   "metadata": {},
   "outputs": [
    {
     "name": "stdout",
     "output_type": "stream",
     "text": [
      "<function make_incrementor.<locals>.<lambda> at 0x106f580d0>\n",
      "44\n"
     ]
    }
   ],
   "source": [
    "def make_incrementor(n):\n",
    "    return lambda x: x + n\n",
    "\n",
    "f = make_incrementor(42)\n",
    "print(f)\n",
    "\n",
    "print(f(2))"
   ]
  },
  {
   "cell_type": "markdown",
   "metadata": {},
   "source": [
    "Пример применения одной функции ко всем элементам списка"
   ]
  },
  {
   "cell_type": "code",
   "execution_count": 14,
   "metadata": {},
   "outputs": [
    {
     "name": "stdout",
     "output_type": "stream",
     "text": [
      "<map object at 0x10696d7f0>\n"
     ]
    },
    {
     "data": {
      "text/plain": [
       "[45200, 33900, 28250, 47460]"
      ]
     },
     "execution_count": 14,
     "metadata": {},
     "output_type": "execute_result"
    }
   ],
   "source": [
    "salaries = [40000, 30000, 25000, 42000]\n",
    "salaries_indexed = map(lambda sal: sal * 1.13, salaries)\n",
    "print(salaries_indexed)\n",
    "[round(sal) for sal in salaries_indexed]"
   ]
  },
  {
   "cell_type": "markdown",
   "metadata": {},
   "source": [
    "Пример фильтрации списка"
   ]
  },
  {
   "cell_type": "code",
   "execution_count": 16,
   "metadata": {},
   "outputs": [
    {
     "name": "stdout",
     "output_type": "stream",
     "text": [
      "<filter object at 0x106959c50>\n"
     ]
    },
    {
     "data": {
      "text/plain": [
       "[40000, 42000]"
      ]
     },
     "execution_count": 16,
     "metadata": {},
     "output_type": "execute_result"
    }
   ],
   "source": [
    "salaries = [40000, 30000, 25000, 42000]\n",
    "filtered_salaries = filter(lambda sal: sal > 30000, \n",
    "                           salaries)\n",
    "print(filtered_salaries)\n",
    "[sal for sal in filtered_salaries]"
   ]
  },
  {
   "cell_type": "markdown",
   "metadata": {},
   "source": [
    "## 9. Генератор"
   ]
  },
  {
   "cell_type": "code",
   "execution_count": null,
   "metadata": {},
   "outputs": [],
   "source": [
    "def firstn(n):\n",
    "    num, nums = 0, []\n",
    "    while num < n:\n",
    "        nums.append(num)\n",
    "        num += 1\n",
    "    return nums\n",
    "\n",
    "sum_of_first_n = sum(firstn(10))\n",
    "print(sum_of_first_n)"
   ]
  },
  {
   "cell_type": "markdown",
   "metadata": {},
   "source": [
    "С сокращенной нотацией списков мы уже сталкивались. Такую конструкцию также называют генератором списка."
   ]
  },
  {
   "cell_type": "code",
   "execution_count": 17,
   "metadata": {},
   "outputs": [
    {
     "name": "stdout",
     "output_type": "stream",
     "text": [
      "[0, 2, 4, 6, 8, 10, 12, 14, 16, 18, 20, 22, 24, 26, 28, 30, 32, 34, 36, 38, 40, 42, 44, 46, 48, 50, 52, 54, 56, 58, 60, 62, 64, 66, 68, 70, 72, 74, 76, 78, 80, 82, 84, 86, 88, 90, 92, 94, 96, 98]\n"
     ]
    }
   ],
   "source": [
    "doubles = [2 * n for n in range(50)]\n",
    "print(doubles)"
   ]
  },
  {
   "cell_type": "markdown",
   "metadata": {},
   "source": [
    "Но бывают и выражения-генераторы (синтаксис такой же, как для генератора списка, только скобки круглые). Это более эффективно, чем использование генератора списков."
   ]
  },
  {
   "cell_type": "code",
   "execution_count": 19,
   "metadata": {},
   "outputs": [
    {
     "name": "stdout",
     "output_type": "stream",
     "text": [
      "<generator object <genexpr> at 0x106973438>\n",
      "1, 4, 9, "
     ]
    }
   ],
   "source": [
    "numbers = (1, 2, 3, 4, 5)\n",
    "squares_under_10 = (number * number \n",
    "                    for number in numbers \n",
    "                    if number * number < 10)\n",
    "print(squares_under_10)\n",
    "for i in squares_under_10:\n",
    "    print(i, end=', ')"
   ]
  }
 ],
 "metadata": {
  "kernelspec": {
   "display_name": "Python 3",
   "language": "python",
   "name": "python3"
  },
  "language_info": {
   "codemirror_mode": {
    "name": "ipython",
    "version": 3
   },
   "file_extension": ".py",
   "mimetype": "text/x-python",
   "name": "python",
   "nbconvert_exporter": "python",
   "pygments_lexer": "ipython3",
   "version": "3.7.0"
  },
  "name": "4_Functions.ipynb"
 },
 "nbformat": 4,
 "nbformat_minor": 1
}
