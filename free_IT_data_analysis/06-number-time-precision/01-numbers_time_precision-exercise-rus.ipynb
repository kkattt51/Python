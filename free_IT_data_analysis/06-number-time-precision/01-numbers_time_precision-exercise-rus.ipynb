{
 "cells": [
  {
   "cell_type": "markdown",
   "metadata": {},
   "source": [
    "# Потестируем числа"
   ]
  },
  {
   "cell_type": "code",
   "execution_count": 1,
   "metadata": {},
   "outputs": [
    {
     "data": {
      "text/plain": [
       "False"
      ]
     },
     "execution_count": 1,
     "metadata": {},
     "output_type": "execute_result"
    }
   ],
   "source": [
    "0.1 + 0.2 == 0.3"
   ]
  },
  {
   "cell_type": "code",
   "execution_count": 2,
   "metadata": {},
   "outputs": [
    {
     "data": {
      "text/plain": [
       "True"
      ]
     },
     "execution_count": 2,
     "metadata": {},
     "output_type": "execute_result"
    }
   ],
   "source": [
    "0.1 + 0.1 == 0.2"
   ]
  },
  {
   "cell_type": "code",
   "execution_count": 3,
   "metadata": {},
   "outputs": [
    {
     "data": {
      "text/plain": [
       "0.1"
      ]
     },
     "execution_count": 3,
     "metadata": {},
     "output_type": "execute_result"
    }
   ],
   "source": [
    "0.1"
   ]
  },
  {
   "cell_type": "code",
   "execution_count": 4,
   "metadata": {},
   "outputs": [
    {
     "name": "stdout",
     "output_type": "stream",
     "text": [
      "0.10000000000000000555111512312578270211815834045410\n"
     ]
    }
   ],
   "source": [
    "print('{0:.50f}'.format(0.1))"
   ]
  },
  {
   "cell_type": "markdown",
   "metadata": {},
   "source": [
    "# Численный тип Decimal\n",
    "\n",
    "для работы с десятичными дробями"
   ]
  },
  {
   "cell_type": "code",
   "execution_count": 5,
   "metadata": {},
   "outputs": [
    {
     "data": {
      "text/plain": [
       "55511.15123125783"
      ]
     },
     "execution_count": 5,
     "metadata": {},
     "output_type": "execute_result"
    }
   ],
   "source": [
    "(0.1 + 0.2 - 0.3) * int(10e20)"
   ]
  },
  {
   "cell_type": "code",
   "execution_count": 6,
   "metadata": {},
   "outputs": [],
   "source": [
    "import decimal"
   ]
  },
  {
   "cell_type": "code",
   "execution_count": 7,
   "metadata": {},
   "outputs": [],
   "source": [
    "D = decimal.Decimal"
   ]
  },
  {
   "cell_type": "code",
   "execution_count": 8,
   "metadata": {},
   "outputs": [
    {
     "data": {
      "text/plain": [
       "Decimal('0.0')"
      ]
     },
     "execution_count": 8,
     "metadata": {},
     "output_type": "execute_result"
    }
   ],
   "source": [
    "(D('0.1') + D('0.2') - D('0.3')) * int(10e20)"
   ]
  },
  {
   "cell_type": "markdown",
   "metadata": {},
   "source": [
    "# Время"
   ]
  },
  {
   "cell_type": "code",
   "execution_count": null,
   "metadata": {},
   "outputs": [],
   "source": [
    "import time\n",
    "time.time()"
   ]
  },
  {
   "cell_type": "markdown",
   "metadata": {},
   "source": [
    "# Наносекунды"
   ]
  },
  {
   "cell_type": "code",
   "execution_count": null,
   "metadata": {},
   "outputs": [],
   "source": [
    "import pandas as pd\n",
    "\n",
    "PATH = 'data/hpt_xetra_20180816_sample.csv'\n",
    "\n",
    "df_precision_loss = pd.read_csv(PATH, delimiter=';')"
   ]
  },
  {
   "cell_type": "code",
   "execution_count": null,
   "metadata": {},
   "outputs": [],
   "source": [
    "df_precision_loss.head()"
   ]
  },
  {
   "cell_type": "code",
   "execution_count": null,
   "metadata": {},
   "outputs": [],
   "source": [
    "df_precision_loss.dtypes"
   ]
  },
  {
   "cell_type": "markdown",
   "metadata": {},
   "source": [
    "## Преобразования типов str в int, int во float и снова в int "
   ]
  },
  {
   "cell_type": "code",
   "execution_count": null,
   "metadata": {},
   "outputs": [],
   "source": [
    "# Такой способ загрузки требует последующего преобразования строк в численные типы.\n",
    "# В данных HPT это несложно, так как все значения являются целочисленными.\n",
    "df_correct = pd.read_csv(PATH, dtype=str, delimiter=';')\n",
    "\n",
    "# Заменяем NaNs нулями\n",
    "\n",
    "df_correct['ETICaptTime_int'] = df_correct['ETICaptTime'].fillna(0).astype(int)\n",
    "\n",
    "df_precision_loss['ETICaptTime_int'] = df_precision_loss['ETICaptTime'].fillna(0).astype(int)\n",
    "\n",
    "# Простая проверка на потерю точности\n",
    "\n",
    "diff = df_correct['ETICaptTime_int'] - df_precision_loss['ETICaptTime_int']\n",
    "diff.head()"
   ]
  },
  {
   "cell_type": "markdown",
   "metadata": {},
   "source": [
    "## Использование функции для преобразования"
   ]
  },
  {
   "cell_type": "code",
   "execution_count": null,
   "metadata": {},
   "outputs": [],
   "source": [
    "import numpy as np\n",
    "\n",
    "# преобразовать отсутствующие значения в нули\n",
    "def time_converter(num):\n",
    "    try:\n",
    "        return np.int64(num)\n",
    "    except:\n",
    "        return np.int64(0)\n",
    "    \n",
    "df_converted = pd.read_csv(PATH,sep=\";\", \n",
    "                         converters = {'ETICaptTime'  : time_converter, \n",
    "                                       'EOBICaptTime' : time_converter, \n",
    "                                       'TransactTime' : time_converter,\n",
    "                                       'AggressorTime': time_converter,\n",
    "                                       'RequestTime'  : time_converter},\n",
    "                      usecols=['MarketSegmentID', 'ExecID',\n",
    "                               'PartitionID', 'AggressorSide', 'LastQty',\n",
    "                               'RequestTime',   # t3n\n",
    "                               'AggressorTime', # t5\n",
    "                               'TransactTime',  # t9\n",
    "                               'EOBICaptTime',  # t9d\n",
    "                               'ETICaptTime'    # t3a\n",
    "                              ],\n",
    "                    dtype = {'MarketSegmentID':np.int32,  \n",
    "                             'ExecID':np.int64,\n",
    "                             'PartitionID':np.int8,\n",
    "                             'AggressorSide':np.int8,\n",
    "                             'LastQty':np.int64},\n",
    "                     )"
   ]
  },
  {
   "cell_type": "code",
   "execution_count": null,
   "metadata": {},
   "outputs": [],
   "source": [
    "df_correct['ETICaptTime_int'] - df_converted['ETICaptTime']"
   ]
  }
 ],
 "metadata": {
  "kernelspec": {
   "display_name": "Python 3",
   "language": "python",
   "name": "python3"
  },
  "language_info": {
   "codemirror_mode": {
    "name": "ipython",
    "version": 3
   },
   "file_extension": ".py",
   "mimetype": "text/x-python",
   "name": "python",
   "nbconvert_exporter": "python",
   "pygments_lexer": "ipython3",
   "version": "3.8.6"
  }
 },
 "nbformat": 4,
 "nbformat_minor": 2
}
