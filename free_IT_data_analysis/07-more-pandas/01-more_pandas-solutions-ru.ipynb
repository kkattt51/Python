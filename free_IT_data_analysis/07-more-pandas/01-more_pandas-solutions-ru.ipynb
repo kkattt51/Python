{
 "cells": [
  {
   "cell_type": "markdown",
   "metadata": {},
   "source": [
    "# Ещё больше Pandas"
   ]
  },
  {
   "cell_type": "markdown",
   "metadata": {},
   "source": [
    "Мы загрузим датасет, на материале которого мы изучим некоторые более продвинутые методы Pandas:"
   ]
  },
  {
   "cell_type": "code",
   "execution_count": null,
   "metadata": {},
   "outputs": [],
   "source": [
    "import pandas as pd\n",
    "import numpy as np"
   ]
  },
  {
   "cell_type": "code",
   "execution_count": null,
   "metadata": {},
   "outputs": [],
   "source": [
    "df = pd.read_csv('data/countries.csv', decimal=\",\")\n",
    "display(df.head())\n",
    "df.info()"
   ]
  },
  {
   "cell_type": "markdown",
   "metadata": {},
   "source": [
    "Обратите внимание, что в датасете есть пропуски. Мы должны будем иметь это в виду в дальнейшем, выполняя анализ.\n",
    "\n",
    "Создайте сводную таблицу (`pivot_table`), которая содержит суммарные значения (`sum`) по населению (`Population`) и площади территории (`Area (sq. mi.)`) для каждого региона (`Region`)."
   ]
  },
  {
   "cell_type": "code",
   "execution_count": null,
   "metadata": {},
   "outputs": [],
   "source": [
    "# место для кода\n",
    "pd.pivot_table(df, values=['Population', 'Area (sq. mi.)'], index='Region', aggfunc=np.sum)"
   ]
  },
  {
   "cell_type": "markdown",
   "metadata": {},
   "source": [
    "Воспользуйтесь методом `melt` для того, чтобы создать DataFrame, в котором вся информация собрана в трех столбцах, а именно\n",
    "* `Country`,\n",
    "* `Metric` (здесь будет имя переменной),\n",
    "* `Measurement` (здесь будет значение этой переменной для данной страны).\n",
    "\n",
    "Получившаяся таблица должна содержать 4540 строк."
   ]
  },
  {
   "cell_type": "code",
   "execution_count": null,
   "metadata": {},
   "outputs": [],
   "source": [
    "# место для кода\n",
    "melted = pd.melt(df, id_vars='Country', var_name='Metric', value_name='Measurement')\n",
    "melted.shape"
   ]
  },
  {
   "cell_type": "code",
   "execution_count": null,
   "metadata": {},
   "outputs": [],
   "source": [
    "melted.head(10)"
   ]
  },
  {
   "cell_type": "markdown",
   "metadata": {},
   "source": [
    "Выделите фрагмент из датафрейма, созданного выше при помощи метода melt, так, чтобы в нём содержались данные только по Афганистану (Afghanistan). Удалите столбец `Country` и задайте `Metric` в качестве индекса. \n",
    "\n",
    "*Подсказка: чтобы понять, как отфильтровать датафрейм, может быть полезным исследовать значения столбца `Country`.* `df['Country'].unique()`"
   ]
  },
  {
   "cell_type": "code",
   "execution_count": null,
   "metadata": {},
   "outputs": [],
   "source": [
    "# место для кода\n",
    "melted[melted['Country'] == 'Afghanistan ']"
   ]
  },
  {
   "cell_type": "code",
   "execution_count": null,
   "metadata": {},
   "outputs": [],
   "source": [
    "afgh = melted[melted['Country'].str.contains('Afghanistan')]\n",
    "afgh.drop('Country', axis=1, inplace=True)\n",
    "afgh = afgh.set_index('Metric')\n",
    "afgh"
   ]
  },
  {
   "cell_type": "code",
   "execution_count": null,
   "metadata": {},
   "outputs": [],
   "source": [
    "#euro = df[df['Region'].str.contains('WESTERN EUROPE')]"
   ]
  },
  {
   "cell_type": "markdown",
   "metadata": {},
   "source": [
    "Создайте новый столбец `Net inward migration`, содержащий булевские значения, обозначающие, в каких странах `net migration` имеет положительное значение, и создайте новый DataFrame, из которого были удалены те страны, в которых столбцы `Net migration`, `Birthrate` и `Deathrate` имеют отсутствующие значения.\n",
    "\n",
    "Далее, создайте датафрейм с мульти-индексом из `Region` и `Net inward migration` и двумя столбцами: один содержащий среднее арифметическое значений из столбца `Birthrate` и второй -- среднее арифметическое по столбцу `Deathrate`. Используйте метод `.groupby`."
   ]
  },
  {
   "cell_type": "code",
   "execution_count": null,
   "metadata": {},
   "outputs": [],
   "source": [
    "# место для кода\n",
    "df['Net inward migration'] = df['Net migration'] > 0\n",
    "dfbd = df.dropna(subset = ['Net migration', 'Birthrate', 'Deathrate'])\n",
    "gb = dfbd.groupby(['Region', 'Net inward migration'])['Birthrate', 'Deathrate'].mean()\n",
    "gb"
   ]
  },
  {
   "cell_type": "markdown",
   "metadata": {},
   "source": [
    "Подумайте о том, что именно мы вычислили, и что результат не обязательно отражает то, что мы ожидаем увидеть. Страны с небольшим населением влияют на средние значения в той же мере, что и страны с большим населением.\n",
    "\n",
    "Мы хотим переформатировать результат (таблицу) таким образом, чтобы у таблицы был один индекс (`Region`), и она содержала средние значения по `Birthrate` и `Deathrate` только в тех случаях, где `Net inward migration` имеет значение `False`.\n",
    "\n",
    "- Для этого воспользуйтесь методом `.unstack()`. \n",
    "- Затем удалите колонки с названием `True`, используйте для этого метод `.drop(columns=True, level=1)`\n",
    "- Затем уберите 1-ый уровень индекса  с названиями столбцов и, таким образом, оставив только один уровень.  Используйте для этого метод `.columns.droplevel(1)`\n",
    "- Отсортируйте результат (таблицу) по средним значениям `Birthrate` (в нисходящем порядке).\n",
    "- В результате таблица содержит только колонки  `Birthrate` и `Deathrate`. "
   ]
  },
  {
   "cell_type": "code",
   "execution_count": null,
   "metadata": {},
   "outputs": [],
   "source": [
    "# место для кода\n",
    "emig = gb.unstack().drop(columns=True, level=1)\n",
    "emig.columns = emig.columns.droplevel(1)\n",
    "emig = emig.sort_values(by='Birthrate', ascending=False)\n",
    "emig"
   ]
  },
  {
   "cell_type": "markdown",
   "metadata": {},
   "source": [
    "Используя метод `pd.cut`, создайте столбец с значениями 'Low', 'Medium' или 'High', которые показывают, в какую из категорий попадает та или иная страна. Выделите указанные категории на основании дохода, разбив диапазон численно. Сколько стран попадают в каждую из трех категорий?"
   ]
  },
  {
   "cell_type": "code",
   "execution_count": null,
   "metadata": {},
   "outputs": [],
   "source": [
    "# место для кода\n",
    "df['Income group (amount)'] = pd.cut(df['GDP ($ per capita)'], bins = 3, labels=['Low', 'Medium', 'High'])\n",
    "df['Income group (amount)'].value_counts()"
   ]
  },
  {
   "cell_type": "markdown",
   "metadata": {},
   "source": [
    "Создайте ещё один столбец с теми же значениями 'Low', 'Medium' и 'High', на этот раз используя метод `.qcut`, для того, чтобы получить одинаковое число стран в каждой из категорий."
   ]
  },
  {
   "cell_type": "code",
   "execution_count": null,
   "metadata": {},
   "outputs": [],
   "source": [
    "df['Income group (number)'] = pd.qcut(df['GDP ($ per capita)'], 3, labels=['Low', 'Medium', 'High'])\n",
    "df['Income group (number)'].value_counts()"
   ]
  },
  {
   "cell_type": "markdown",
   "metadata": {},
   "source": [
    "Далее, используя метод `.groupby`, покажите, сколько стран из каждого региона (`Region`) попадают в каждую из трех категорий согласно этому столбцу."
   ]
  },
  {
   "cell_type": "code",
   "execution_count": null,
   "metadata": {},
   "outputs": [],
   "source": [
    "# место для кода\n",
    "reg_inc = df.groupby(['Region', 'Income group (number)']).size()\n",
    "reg_inc\n",
    "reg_inc.unstack()"
   ]
  },
  {
   "cell_type": "markdown",
   "metadata": {},
   "source": [
    "Для каждого `Income group (amount)` покажите, сколько стран имеют и сколько не имеют `Net inward migration`. Используйте метод `pd.crosstab`."
   ]
  },
  {
   "cell_type": "code",
   "execution_count": null,
   "metadata": {},
   "outputs": [],
   "source": [
    "pd.crosstab(df['Income group (amount)'], df['Net inward migration'])"
   ]
  },
  {
   "cell_type": "code",
   "execution_count": null,
   "metadata": {},
   "outputs": [],
   "source": [
    "#Correlations of columns\n",
    "df.corr()"
   ]
  },
  {
   "cell_type": "code",
   "execution_count": null,
   "metadata": {},
   "outputs": [],
   "source": []
  }
 ],
 "metadata": {
  "kernelspec": {
   "display_name": "Python 3",
   "language": "python",
   "name": "python3"
  },
  "language_info": {
   "codemirror_mode": {
    "name": "ipython",
    "version": 3
   },
   "file_extension": ".py",
   "mimetype": "text/x-python",
   "name": "python",
   "nbconvert_exporter": "python",
   "pygments_lexer": "ipython3",
   "version": "3.7.0"
  }
 },
 "nbformat": 4,
 "nbformat_minor": 4
}
