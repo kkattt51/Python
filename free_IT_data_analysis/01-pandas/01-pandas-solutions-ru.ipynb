{
 "cells": [
  {
   "cell_type": "markdown",
   "metadata": {},
   "source": [
    "# Pandas"
   ]
  },
  {
   "cell_type": "markdown",
   "metadata": {},
   "source": [
    "Данная тетрадка (notebook) содержит введение в Pandas -- библиотеку структур данных и инструментов для анализа данных. В основном мы будем будем использовать структуру данных, которая называется DataFrame \\[произносится: дейта фрейм\\]. Документация (на английском языке) доступна на https://pandas.pydata.org/"
   ]
  },
  {
   "cell_type": "markdown",
   "metadata": {},
   "source": [
    "## Начинаем работу с Pandas\n",
    "\n",
    "Начнем с загрузки библиотеки `pandas` (под псевдонимом `pd`). Псевдоним `pd` стандартный для `pandas`, лучше придерживаться этого стандарта, чтобы облегчить чтение кода для других. Псевдонимы не обязательны, но полезны: среди прочего, они позволяют сделать код более компактным."
   ]
  },
  {
   "cell_type": "code",
   "execution_count": 2,
   "metadata": {},
   "outputs": [],
   "source": [
    "# импортируем библиотеку\n",
    "import pandas as pd"
   ]
  },
  {
   "cell_type": "markdown",
   "metadata": {},
   "source": [
    "Загружаем датасет (dataset -- набор данных) `data/airfoil.csv` используя функцию [`pd.read_csv()`](https://pandas.pydata.org/pandas-docs/stable/generated/pandas.read_csv.html); загруженному DataFrame-у дадим имя `df`."
   ]
  },
  {
   "cell_type": "code",
   "execution_count": 3,
   "metadata": {},
   "outputs": [],
   "source": [
    "# загружаем датафрейм, используем функцию \"head\", чтобы взглянуть на данные\n",
    "df = pd.read_csv(\"data/airfoil.csv\")"
   ]
  },
  {
   "cell_type": "markdown",
   "metadata": {},
   "source": [
    "Функция `read_csv()` умеет обрабатывать файлы в формате CSV с данными в разных формах\n",
    "(см. например `help(pd.read_csv)`).\n",
    "Мы познакомимся с этими возможностями более детально в модуле 2.\n",
    "А сейчас мы работаем с хорошо форматированными данным, которые не создают проблем для Pandas."
   ]
  },
  {
   "cell_type": "markdown",
   "metadata": {},
   "source": [
    "`df` это объект класса `DataFrame`. DataFrame имеет много методов и атрибутов, которые облегчают работу с данными. Мы воспользуемся методом `.head()`, чтобы вывести первые несколько (по умолчанию 5) строк таблицы, которая содержится в объекте `df`. Чтобы получить больше информации: `help(pd.DataFrame.head)` или `help(df.head)`"
   ]
  },
  {
   "cell_type": "code",
   "execution_count": 4,
   "metadata": {},
   "outputs": [
    {
     "data": {
      "text/html": [
       "<div>\n",
       "<style scoped>\n",
       "    .dataframe tbody tr th:only-of-type {\n",
       "        vertical-align: middle;\n",
       "    }\n",
       "\n",
       "    .dataframe tbody tr th {\n",
       "        vertical-align: top;\n",
       "    }\n",
       "\n",
       "    .dataframe thead th {\n",
       "        text-align: right;\n",
       "    }\n",
       "</style>\n",
       "<table border=\"1\" class=\"dataframe\">\n",
       "  <thead>\n",
       "    <tr style=\"text-align: right;\">\n",
       "      <th></th>\n",
       "      <th>Frequency [Hz]</th>\n",
       "      <th>Angle [deg]</th>\n",
       "      <th>Chord length [m]</th>\n",
       "      <th>FS velocity [m/s]</th>\n",
       "      <th>SSD thickness [m]</th>\n",
       "      <th>Sound pressure [dB]</th>\n",
       "    </tr>\n",
       "  </thead>\n",
       "  <tbody>\n",
       "    <tr>\n",
       "      <th>0</th>\n",
       "      <td>800</td>\n",
       "      <td>0.0</td>\n",
       "      <td>0.3048</td>\n",
       "      <td>71.3</td>\n",
       "      <td>0.002663</td>\n",
       "      <td>126.201</td>\n",
       "    </tr>\n",
       "    <tr>\n",
       "      <th>1</th>\n",
       "      <td>1000</td>\n",
       "      <td>0.0</td>\n",
       "      <td>0.3048</td>\n",
       "      <td>71.3</td>\n",
       "      <td>0.002663</td>\n",
       "      <td>125.201</td>\n",
       "    </tr>\n",
       "    <tr>\n",
       "      <th>2</th>\n",
       "      <td>1250</td>\n",
       "      <td>0.0</td>\n",
       "      <td>0.3048</td>\n",
       "      <td>71.3</td>\n",
       "      <td>0.002663</td>\n",
       "      <td>125.951</td>\n",
       "    </tr>\n",
       "    <tr>\n",
       "      <th>3</th>\n",
       "      <td>1600</td>\n",
       "      <td>0.0</td>\n",
       "      <td>0.3048</td>\n",
       "      <td>71.3</td>\n",
       "      <td>0.002663</td>\n",
       "      <td>127.591</td>\n",
       "    </tr>\n",
       "    <tr>\n",
       "      <th>4</th>\n",
       "      <td>2000</td>\n",
       "      <td>0.0</td>\n",
       "      <td>0.3048</td>\n",
       "      <td>71.3</td>\n",
       "      <td>0.002663</td>\n",
       "      <td>127.461</td>\n",
       "    </tr>\n",
       "  </tbody>\n",
       "</table>\n",
       "</div>"
      ],
      "text/plain": [
       "   Frequency [Hz]  Angle [deg]  Chord length [m]  FS velocity [m/s]  \\\n",
       "0             800          0.0            0.3048               71.3   \n",
       "1            1000          0.0            0.3048               71.3   \n",
       "2            1250          0.0            0.3048               71.3   \n",
       "3            1600          0.0            0.3048               71.3   \n",
       "4            2000          0.0            0.3048               71.3   \n",
       "\n",
       "   SSD thickness [m]  Sound pressure [dB]  \n",
       "0           0.002663              126.201  \n",
       "1           0.002663              125.201  \n",
       "2           0.002663              125.951  \n",
       "3           0.002663              127.591  \n",
       "4           0.002663              127.461  "
      ]
     },
     "execution_count": 4,
     "metadata": {},
     "output_type": "execute_result"
    }
   ],
   "source": [
    "# вызываем метод .head() метода df\n",
    "df.head()"
   ]
  },
  {
   "cell_type": "markdown",
   "metadata": {},
   "source": [
    "Давайте загрузим другой датасет в другой датафрейм, который назовем `smalldf`. Будем использовать данные из файла `data/smalldata.csv`.\n",
    "\n",
    "Но сначала давайте посмотрим на данные. В командной строке операцинной системы семейства Unix это можно сделать при помощи следующей команды: `cat data/smalldata.csv`. Чтобы выполнить эту команду в тетрадке Jupyter, надо перед командой вставить восклицательный знак:"
   ]
  },
  {
   "cell_type": "code",
   "execution_count": 5,
   "metadata": {},
   "outputs": [
    {
     "name": "stderr",
     "output_type": "stream",
     "text": [
      "\"cat\" ­Ґ пў«пҐвбп ў­гваҐ­­Ґ© Ё«Ё ў­Ґи­Ґ©\n",
      "Є®¬ ­¤®©, ЁбЇ®«­пҐ¬®© Їа®Ја ¬¬®© Ё«Ё Ї ЄҐв­л¬ д ©«®¬.\n"
     ]
    }
   ],
   "source": [
    "# Эта команда выполнится внутри тетрадки, для этого мы используем ! перед командой.\n",
    "!cat data/smalldata.csv"
   ]
  },
  {
   "cell_type": "markdown",
   "metadata": {},
   "source": [
    "Посмотрим, что произойдет, если мы применим в этому файлу команду `pd.read_csv()`"
   ]
  },
  {
   "cell_type": "code",
   "execution_count": 6,
   "metadata": {},
   "outputs": [
    {
     "data": {
      "text/html": [
       "<div>\n",
       "<style scoped>\n",
       "    .dataframe tbody tr th:only-of-type {\n",
       "        vertical-align: middle;\n",
       "    }\n",
       "\n",
       "    .dataframe tbody tr th {\n",
       "        vertical-align: top;\n",
       "    }\n",
       "\n",
       "    .dataframe thead th {\n",
       "        text-align: right;\n",
       "    }\n",
       "</style>\n",
       "<table border=\"1\" class=\"dataframe\">\n",
       "  <thead>\n",
       "    <tr style=\"text-align: right;\">\n",
       "      <th></th>\n",
       "      <th>F1</th>\n",
       "      <th>F2</th>\n",
       "      <th>F3</th>\n",
       "      <th>ID</th>\n",
       "    </tr>\n",
       "  </thead>\n",
       "  <tbody>\n",
       "    <tr>\n",
       "      <th>0</th>\n",
       "      <td>15</td>\n",
       "      <td>70</td>\n",
       "      <td>M</td>\n",
       "      <td>Bob</td>\n",
       "    </tr>\n",
       "    <tr>\n",
       "      <th>1</th>\n",
       "      <td>18</td>\n",
       "      <td>50</td>\n",
       "      <td>F</td>\n",
       "      <td>Alice</td>\n",
       "    </tr>\n",
       "    <tr>\n",
       "      <th>2</th>\n",
       "      <td>15</td>\n",
       "      <td>55</td>\n",
       "      <td>F</td>\n",
       "      <td>Maria</td>\n",
       "    </tr>\n",
       "    <tr>\n",
       "      <th>3</th>\n",
       "      <td>12</td>\n",
       "      <td>85</td>\n",
       "      <td>M</td>\n",
       "      <td>John</td>\n",
       "    </tr>\n",
       "    <tr>\n",
       "      <th>4</th>\n",
       "      <td>14</td>\n",
       "      <td>68</td>\n",
       "      <td>M</td>\n",
       "      <td>Kevin</td>\n",
       "    </tr>\n",
       "    <tr>\n",
       "      <th>5</th>\n",
       "      <td>20</td>\n",
       "      <td>110</td>\n",
       "      <td>M</td>\n",
       "      <td>Donald</td>\n",
       "    </tr>\n",
       "  </tbody>\n",
       "</table>\n",
       "</div>"
      ],
      "text/plain": [
       "   F1   F2 F3      ID\n",
       "0  15   70  M     Bob\n",
       "1  18   50  F   Alice\n",
       "2  15   55  F   Maria\n",
       "3  12   85  M    John\n",
       "4  14   68  M   Kevin\n",
       "5  20  110  M  Donald"
      ]
     },
     "execution_count": 6,
     "metadata": {},
     "output_type": "execute_result"
    }
   ],
   "source": [
    "# просто прочитаем файл (не сохраняя датафрейм в переменную), данные просто будут распечатаны\n",
    "pd.read_csv('data/smalldata.csv')"
   ]
  },
  {
   "cell_type": "markdown",
   "metadata": {},
   "source": [
    "Датафреймы имеют именованные столбцы (колонки) и индекс. Зачитаем CSV файл в переменную `smalldf` и сделаем  следующее (документация и гугл в помощь!):\n",
    "* назовем столбцы `['Age', 'Weight', 'Gender', 'Name']`\n",
    "* зададим в качестве индекса столбец с именами\n",
    "\n",
    "Отобразим `smalldf` в тетрадке и убедимся, что таблица отвечает заданным требованиям."
   ]
  },
  {
   "cell_type": "code",
   "execution_count": 7,
   "metadata": {},
   "outputs": [
    {
     "data": {
      "text/html": [
       "<div>\n",
       "<style scoped>\n",
       "    .dataframe tbody tr th:only-of-type {\n",
       "        vertical-align: middle;\n",
       "    }\n",
       "\n",
       "    .dataframe tbody tr th {\n",
       "        vertical-align: top;\n",
       "    }\n",
       "\n",
       "    .dataframe thead th {\n",
       "        text-align: right;\n",
       "    }\n",
       "</style>\n",
       "<table border=\"1\" class=\"dataframe\">\n",
       "  <thead>\n",
       "    <tr style=\"text-align: right;\">\n",
       "      <th></th>\n",
       "      <th>Age</th>\n",
       "      <th>Weight</th>\n",
       "      <th>Gender</th>\n",
       "    </tr>\n",
       "    <tr>\n",
       "      <th>Name</th>\n",
       "      <th></th>\n",
       "      <th></th>\n",
       "      <th></th>\n",
       "    </tr>\n",
       "  </thead>\n",
       "  <tbody>\n",
       "    <tr>\n",
       "      <th>Bob</th>\n",
       "      <td>15</td>\n",
       "      <td>70</td>\n",
       "      <td>M</td>\n",
       "    </tr>\n",
       "    <tr>\n",
       "      <th>Alice</th>\n",
       "      <td>18</td>\n",
       "      <td>50</td>\n",
       "      <td>F</td>\n",
       "    </tr>\n",
       "    <tr>\n",
       "      <th>Maria</th>\n",
       "      <td>15</td>\n",
       "      <td>55</td>\n",
       "      <td>F</td>\n",
       "    </tr>\n",
       "    <tr>\n",
       "      <th>John</th>\n",
       "      <td>12</td>\n",
       "      <td>85</td>\n",
       "      <td>M</td>\n",
       "    </tr>\n",
       "    <tr>\n",
       "      <th>Kevin</th>\n",
       "      <td>14</td>\n",
       "      <td>68</td>\n",
       "      <td>M</td>\n",
       "    </tr>\n",
       "    <tr>\n",
       "      <th>Donald</th>\n",
       "      <td>20</td>\n",
       "      <td>110</td>\n",
       "      <td>M</td>\n",
       "    </tr>\n",
       "  </tbody>\n",
       "</table>\n",
       "</div>"
      ],
      "text/plain": [
       "        Age  Weight Gender\n",
       "Name                      \n",
       "Bob      15      70      M\n",
       "Alice    18      50      F\n",
       "Maria    15      55      F\n",
       "John     12      85      M\n",
       "Kevin    14      68      M\n",
       "Donald   20     110      M"
      ]
     },
     "execution_count": 7,
     "metadata": {},
     "output_type": "execute_result"
    }
   ],
   "source": [
    "# код для загрузки датафрейма и его преобразования\n",
    "smalldf = pd.read_csv(\"data/smalldata.csv\",\n",
    "                      names=['Age', 'Weight', 'Gender', 'Name'],\n",
    "                      index_col='Name', \n",
    "                      skiprows=1)\n",
    "smalldf"
   ]
  },
  {
   "cell_type": "markdown",
   "metadata": {},
   "source": [
    "### Получение основной информации о датафрейме\n",
    "\n",
    "Мы можем узнать, что \"знает и умеет\" объект датафрейм, набрав `df.` и нажав клавишу табуляции. В результате мы увидим список методов и атрибутов объекта.\n",
    "\n",
    "Примеры полезных атрибутов:\n",
    "\n",
    "* `shape` содержит размеры датафрейма\n",
    "* `columns` содержит названия столбцов\n",
    "* `index` содержит названия строк, по умолчанию pandas использует целые числа в диапазоне от 0 до значения количества строк минус 1\n",
    "* `dtypes` хранит `dtype` (тип данных) всех столбцов\n",
    "\n",
    "Распечатаем значения всех перечисленных атрибутов и проверим, совпадают ли они с тем, что мы увидели раньше при помощи метода `head`.\n",
    "\n",
    "Кроме того, можно воспользоваться методом `df.describe()` и получить \"описание\" данных по столбцам, плюс разные стандартные статистики, как то минимальное, максимальное и среднее значения, отклонение и т.д."
   ]
  },
  {
   "cell_type": "code",
   "execution_count": 8,
   "metadata": {},
   "outputs": [
    {
     "name": "stdout",
     "output_type": "stream",
     "text": [
      ">> Shape attr:\n",
      "(1503, 6)\n",
      "\n",
      ">> Columns:\n",
      "Index(['Frequency [Hz]', 'Angle [deg]', 'Chord length [m]',\n",
      "       'FS velocity [m/s]', 'SSD thickness [m]', 'Sound pressure [dB]'],\n",
      "      dtype='object')\n",
      "\n",
      ">> Index:\n",
      "RangeIndex(start=0, stop=1503, step=1)\n",
      "\n",
      ">> Dtypes:\n",
      "Frequency [Hz]           int64\n",
      "Angle [deg]            float64\n",
      "Chord length [m]       float64\n",
      "FS velocity [m/s]      float64\n",
      "SSD thickness [m]      float64\n",
      "Sound pressure [dB]    float64\n",
      "dtype: object\n"
     ]
    }
   ],
   "source": [
    "# распечатаем значения некоторых атрибутов датафрейма в переменной df\n",
    "print(\">> Shape attr:\\n{}\".format(df.shape))\n",
    "print(\"\\n>> Columns:\\n{}\".format(df.columns))\n",
    "print(\"\\n>> Index:\\n{}\".format(df.index))\n",
    "print(\"\\n>> Dtypes:\\n{}\".format(df.dtypes))"
   ]
  },
  {
   "cell_type": "code",
   "execution_count": 9,
   "metadata": {},
   "outputs": [
    {
     "data": {
      "text/html": [
       "<div>\n",
       "<style scoped>\n",
       "    .dataframe tbody tr th:only-of-type {\n",
       "        vertical-align: middle;\n",
       "    }\n",
       "\n",
       "    .dataframe tbody tr th {\n",
       "        vertical-align: top;\n",
       "    }\n",
       "\n",
       "    .dataframe thead th {\n",
       "        text-align: right;\n",
       "    }\n",
       "</style>\n",
       "<table border=\"1\" class=\"dataframe\">\n",
       "  <thead>\n",
       "    <tr style=\"text-align: right;\">\n",
       "      <th></th>\n",
       "      <th>Frequency [Hz]</th>\n",
       "      <th>Angle [deg]</th>\n",
       "      <th>Chord length [m]</th>\n",
       "      <th>FS velocity [m/s]</th>\n",
       "      <th>SSD thickness [m]</th>\n",
       "      <th>Sound pressure [dB]</th>\n",
       "    </tr>\n",
       "  </thead>\n",
       "  <tbody>\n",
       "    <tr>\n",
       "      <th>count</th>\n",
       "      <td>1503.000000</td>\n",
       "      <td>1503.000000</td>\n",
       "      <td>1503.000000</td>\n",
       "      <td>1503.000000</td>\n",
       "      <td>1503.000000</td>\n",
       "      <td>1503.000000</td>\n",
       "    </tr>\n",
       "    <tr>\n",
       "      <th>mean</th>\n",
       "      <td>2886.380572</td>\n",
       "      <td>6.782302</td>\n",
       "      <td>0.136548</td>\n",
       "      <td>50.860745</td>\n",
       "      <td>0.011140</td>\n",
       "      <td>124.835943</td>\n",
       "    </tr>\n",
       "    <tr>\n",
       "      <th>std</th>\n",
       "      <td>3152.573137</td>\n",
       "      <td>5.918128</td>\n",
       "      <td>0.093541</td>\n",
       "      <td>15.572784</td>\n",
       "      <td>0.013150</td>\n",
       "      <td>6.898657</td>\n",
       "    </tr>\n",
       "    <tr>\n",
       "      <th>min</th>\n",
       "      <td>200.000000</td>\n",
       "      <td>0.000000</td>\n",
       "      <td>0.025400</td>\n",
       "      <td>31.700000</td>\n",
       "      <td>0.000401</td>\n",
       "      <td>103.380000</td>\n",
       "    </tr>\n",
       "    <tr>\n",
       "      <th>25%</th>\n",
       "      <td>800.000000</td>\n",
       "      <td>2.000000</td>\n",
       "      <td>0.050800</td>\n",
       "      <td>39.600000</td>\n",
       "      <td>0.002535</td>\n",
       "      <td>120.191000</td>\n",
       "    </tr>\n",
       "    <tr>\n",
       "      <th>50%</th>\n",
       "      <td>1600.000000</td>\n",
       "      <td>5.400000</td>\n",
       "      <td>0.101600</td>\n",
       "      <td>39.600000</td>\n",
       "      <td>0.004957</td>\n",
       "      <td>125.721000</td>\n",
       "    </tr>\n",
       "    <tr>\n",
       "      <th>75%</th>\n",
       "      <td>4000.000000</td>\n",
       "      <td>9.900000</td>\n",
       "      <td>0.228600</td>\n",
       "      <td>71.300000</td>\n",
       "      <td>0.015576</td>\n",
       "      <td>129.995500</td>\n",
       "    </tr>\n",
       "    <tr>\n",
       "      <th>max</th>\n",
       "      <td>20000.000000</td>\n",
       "      <td>22.200000</td>\n",
       "      <td>0.304800</td>\n",
       "      <td>71.300000</td>\n",
       "      <td>0.058411</td>\n",
       "      <td>140.987000</td>\n",
       "    </tr>\n",
       "  </tbody>\n",
       "</table>\n",
       "</div>"
      ],
      "text/plain": [
       "       Frequency [Hz]  Angle [deg]  Chord length [m]  FS velocity [m/s]  \\\n",
       "count     1503.000000  1503.000000       1503.000000        1503.000000   \n",
       "mean      2886.380572     6.782302          0.136548          50.860745   \n",
       "std       3152.573137     5.918128          0.093541          15.572784   \n",
       "min        200.000000     0.000000          0.025400          31.700000   \n",
       "25%        800.000000     2.000000          0.050800          39.600000   \n",
       "50%       1600.000000     5.400000          0.101600          39.600000   \n",
       "75%       4000.000000     9.900000          0.228600          71.300000   \n",
       "max      20000.000000    22.200000          0.304800          71.300000   \n",
       "\n",
       "       SSD thickness [m]  Sound pressure [dB]  \n",
       "count        1503.000000          1503.000000  \n",
       "mean            0.011140           124.835943  \n",
       "std             0.013150             6.898657  \n",
       "min             0.000401           103.380000  \n",
       "25%             0.002535           120.191000  \n",
       "50%             0.004957           125.721000  \n",
       "75%             0.015576           129.995500  \n",
       "max             0.058411           140.987000  "
      ]
     },
     "execution_count": 9,
     "metadata": {},
     "output_type": "execute_result"
    }
   ],
   "source": [
    "# воспользуемся методом `df.describe()`\n",
    "df.describe()"
   ]
  },
  {
   "cell_type": "markdown",
   "metadata": {},
   "source": [
    "## Получение доступа к элементам в датафрейме\n",
    "\n",
    "\n",
    "Давайте прочитам значение, находящееся в первом столбце (`Age`) третьей строки (`Maria`) датафрейма `smalldf`.\n",
    "Это можно сделать разными способами, в зависимости от ситуации тот или иной способ окажется более удобным:\n",
    "\n",
    "1. при помощи `iloc`\n",
    "1. при помощи `loc`\n",
    "1. каждый столбец объекта класса `DataFrame` является объектом класса `Series`, поэтому сначала можно извлечь объект Series, а потом достать из него необходимый элемент\n",
    "\n",
    "Давайте попробуем все из указанных способов.\n",
    "\n",
    "**Note**: индексирование (нумерация) в Питоне начинается с нуля."
   ]
  },
  {
   "cell_type": "code",
   "execution_count": 10,
   "metadata": {},
   "outputs": [
    {
     "name": "stdout",
     "output_type": "stream",
     "text": [
      "1. 15\n",
      "2. 15\n",
      "3. 15\n"
     ]
    }
   ],
   "source": [
    "# место для кода\n",
    "print(\"1. {}\".format(smalldf.iloc[2, 0]))\n",
    "print(\"2. {}\".format(smalldf.loc['Maria', 'Age']))\n",
    "print(\"3. {}\".format(smalldf['Age'][2]))"
   ]
  },
  {
   "cell_type": "markdown",
   "metadata": {},
   "source": [
    "### Выбор элемента/ов при помощи loc\n",
    "\n",
    "Используя метод `.loc`, давайте по приколу извлечем из датафрейма `df` его часть (под-датафрейм), в котором будут только те столбцы, названия которых содержать более 15 символов. Назовем получившийся датафрейм `df2`."
   ]
  },
  {
   "cell_type": "code",
   "execution_count": 11,
   "metadata": {},
   "outputs": [
    {
     "data": {
      "text/plain": [
       "Index(['Frequency [Hz]', 'Angle [deg]', 'Chord length [m]',\n",
       "       'FS velocity [m/s]', 'SSD thickness [m]', 'Sound pressure [dB]'],\n",
       "      dtype='object')"
      ]
     },
     "execution_count": 11,
     "metadata": {},
     "output_type": "execute_result"
    }
   ],
   "source": [
    "# место для кода\n",
    "df.columns"
   ]
  },
  {
   "cell_type": "code",
   "execution_count": 12,
   "metadata": {},
   "outputs": [
    {
     "data": {
      "text/plain": [
       "['Chord length [m]',\n",
       " 'FS velocity [m/s]',\n",
       " 'SSD thickness [m]',\n",
       " 'Sound pressure [dB]']"
      ]
     },
     "execution_count": 12,
     "metadata": {},
     "output_type": "execute_result"
    }
   ],
   "source": [
    "[e for e in df.columns if len(e)>15]"
   ]
  },
  {
   "cell_type": "code",
   "execution_count": 13,
   "metadata": {},
   "outputs": [
    {
     "data": {
      "text/html": [
       "<div>\n",
       "<style scoped>\n",
       "    .dataframe tbody tr th:only-of-type {\n",
       "        vertical-align: middle;\n",
       "    }\n",
       "\n",
       "    .dataframe tbody tr th {\n",
       "        vertical-align: top;\n",
       "    }\n",
       "\n",
       "    .dataframe thead th {\n",
       "        text-align: right;\n",
       "    }\n",
       "</style>\n",
       "<table border=\"1\" class=\"dataframe\">\n",
       "  <thead>\n",
       "    <tr style=\"text-align: right;\">\n",
       "      <th></th>\n",
       "      <th>Chord length [m]</th>\n",
       "      <th>FS velocity [m/s]</th>\n",
       "      <th>SSD thickness [m]</th>\n",
       "      <th>Sound pressure [dB]</th>\n",
       "    </tr>\n",
       "  </thead>\n",
       "  <tbody>\n",
       "    <tr>\n",
       "      <th>0</th>\n",
       "      <td>0.3048</td>\n",
       "      <td>71.3</td>\n",
       "      <td>0.002663</td>\n",
       "      <td>126.201</td>\n",
       "    </tr>\n",
       "    <tr>\n",
       "      <th>1</th>\n",
       "      <td>0.3048</td>\n",
       "      <td>71.3</td>\n",
       "      <td>0.002663</td>\n",
       "      <td>125.201</td>\n",
       "    </tr>\n",
       "    <tr>\n",
       "      <th>2</th>\n",
       "      <td>0.3048</td>\n",
       "      <td>71.3</td>\n",
       "      <td>0.002663</td>\n",
       "      <td>125.951</td>\n",
       "    </tr>\n",
       "    <tr>\n",
       "      <th>3</th>\n",
       "      <td>0.3048</td>\n",
       "      <td>71.3</td>\n",
       "      <td>0.002663</td>\n",
       "      <td>127.591</td>\n",
       "    </tr>\n",
       "    <tr>\n",
       "      <th>4</th>\n",
       "      <td>0.3048</td>\n",
       "      <td>71.3</td>\n",
       "      <td>0.002663</td>\n",
       "      <td>127.461</td>\n",
       "    </tr>\n",
       "  </tbody>\n",
       "</table>\n",
       "</div>"
      ],
      "text/plain": [
       "   Chord length [m]  FS velocity [m/s]  SSD thickness [m]  Sound pressure [dB]\n",
       "0            0.3048               71.3           0.002663              126.201\n",
       "1            0.3048               71.3           0.002663              125.201\n",
       "2            0.3048               71.3           0.002663              125.951\n",
       "3            0.3048               71.3           0.002663              127.591\n",
       "4            0.3048               71.3           0.002663              127.461"
      ]
     },
     "execution_count": 13,
     "metadata": {},
     "output_type": "execute_result"
    }
   ],
   "source": [
    "df2 = df.loc[:, [e for e in df.columns if len(e)>15]]\n",
    "df2.head()"
   ]
  },
  {
   "cell_type": "markdown",
   "metadata": {},
   "source": [
    "Используя метод `to_csv`, сохраним датафрейм `df2` в файл `airfoil_2.dat`, но будем использовать в качестве разделителя полей не запятую (значение по умолчанию), а табуляцию. Проверить результат можно открыв получившийся файл в каком-нибудь текстовом редакторе."
   ]
  },
  {
   "cell_type": "code",
   "execution_count": 14,
   "metadata": {},
   "outputs": [],
   "source": [
    "df2.to_csv(\"airfoil_2.dat\", sep='\\t')"
   ]
  },
  {
   "cell_type": "markdown",
   "metadata": {},
   "source": [
    "### Работа с объектом pd.Series\n",
    "\n",
    "Из датафрейма df извлечем объект Series, соотвутствующий столбцу \"звуковое давление\" (sound pressure) и распечатаем\n",
    "\n",
    "* его имя (должно быть `Sound pressure [dB]`)\n",
    "* размер (shape) объекта (должен быть равен `(1503,)`) \n",
    "* среднее и медианное значения (должны быть равны `124.84` и `125.72` соответственно)\n",
    "* среднеквадратичное значение (должно быть равно `15631.57`)\n",
    "* какие-нибудь другие атрибуты и методы, о которых можно почитать в [документаци](https://pandas.pydata.org/pandas-docs/stable/generated/pandas.Series.html)\n",
    "\n"
   ]
  },
  {
   "cell_type": "code",
   "execution_count": 15,
   "metadata": {},
   "outputs": [
    {
     "name": "stdout",
     "output_type": "stream",
     "text": [
      "Name: Sound pressure [dB]\n",
      "Shape: (1503,)\n",
      "Mean: 124.84, Median: 125.72\n",
      "Mean of sq. vals: 15631.57\n"
     ]
    }
   ],
   "source": [
    "# место для кода\n",
    "sp = df['Sound pressure [dB]']\n",
    "print(\"Name: {}\".format(sp.name))\n",
    "print(\"Shape: {}\".format(sp.shape))\n",
    "print(\"Mean: {0:.2f}, Median: {1:.2f}\".format(sp.mean(), sp.median()))\n",
    "print(\"Mean of sq. vals: {0:.2f}\".format((sp**2).mean()))"
   ]
  },
  {
   "cell_type": "markdown",
   "metadata": {},
   "source": [
    "### Получение \"сырых\" значений\n",
    "\n",
    "Иногда бывает необходимо получить элементы объекта класса DataFrame или Series в виде \"сырого\" массива numpy. Для этого существует атрибут `.values`.\n",
    "\n",
    "Например, давайте извлечем \"сырой\" массив, содержащий\n",
    "\n",
    "* все значения звукового давления (sound pressure)\n",
    "* все значения частот (frequency) и звукового давления (обратим внимание на типы возвращаемых данных!)"
   ]
  },
  {
   "cell_type": "code",
   "execution_count": 16,
   "metadata": {},
   "outputs": [
    {
     "name": "stdout",
     "output_type": "stream",
     "text": [
      "[126.201 125.201 125.951 ... 106.604 106.224 104.204]\n",
      "[[ 800.     126.201]\n",
      " [1000.     125.201]\n",
      " [1250.     125.951]\n",
      " ...\n",
      " [4000.     106.604]\n",
      " [5000.     106.224]\n",
      " [6300.     104.204]]\n"
     ]
    }
   ],
   "source": [
    "# место для кода\n",
    "print(df['Sound pressure [dB]'].values)\n",
    "\n",
    "print(df[['Frequency [Hz]', 'Sound pressure [dB]']].values)"
   ]
  },
  {
   "cell_type": "markdown",
   "metadata": {},
   "source": [
    "### \\* (Бонус) Объединение датафреймов\n",
    "\n",
    "Как объединить датафрейм `smalldf` со следующими данными (т.е., добавить два столбца)\n",
    "\n",
    "```\n",
    "{'Salary': [100, 150, 110, 90, 105, 500], 'Education': [5, 10, 7, 3, 4, 0]}\n",
    "```\n",
    "\n",
    "См. документацию по методу [.join](https://pandas.pydata.org/pandas-docs/stable/generated/pandas.DataFrame.join.html)"
   ]
  },
  {
   "cell_type": "code",
   "execution_count": 17,
   "metadata": {},
   "outputs": [
    {
     "data": {
      "text/html": [
       "<div>\n",
       "<style scoped>\n",
       "    .dataframe tbody tr th:only-of-type {\n",
       "        vertical-align: middle;\n",
       "    }\n",
       "\n",
       "    .dataframe tbody tr th {\n",
       "        vertical-align: top;\n",
       "    }\n",
       "\n",
       "    .dataframe thead th {\n",
       "        text-align: right;\n",
       "    }\n",
       "</style>\n",
       "<table border=\"1\" class=\"dataframe\">\n",
       "  <thead>\n",
       "    <tr style=\"text-align: right;\">\n",
       "      <th></th>\n",
       "      <th>Age</th>\n",
       "      <th>Weight</th>\n",
       "      <th>Gender</th>\n",
       "    </tr>\n",
       "    <tr>\n",
       "      <th>Name</th>\n",
       "      <th></th>\n",
       "      <th></th>\n",
       "      <th></th>\n",
       "    </tr>\n",
       "  </thead>\n",
       "  <tbody>\n",
       "    <tr>\n",
       "      <th>Bob</th>\n",
       "      <td>15</td>\n",
       "      <td>70</td>\n",
       "      <td>M</td>\n",
       "    </tr>\n",
       "    <tr>\n",
       "      <th>Alice</th>\n",
       "      <td>18</td>\n",
       "      <td>50</td>\n",
       "      <td>F</td>\n",
       "    </tr>\n",
       "    <tr>\n",
       "      <th>Maria</th>\n",
       "      <td>15</td>\n",
       "      <td>55</td>\n",
       "      <td>F</td>\n",
       "    </tr>\n",
       "    <tr>\n",
       "      <th>John</th>\n",
       "      <td>12</td>\n",
       "      <td>85</td>\n",
       "      <td>M</td>\n",
       "    </tr>\n",
       "    <tr>\n",
       "      <th>Kevin</th>\n",
       "      <td>14</td>\n",
       "      <td>68</td>\n",
       "      <td>M</td>\n",
       "    </tr>\n",
       "    <tr>\n",
       "      <th>Donald</th>\n",
       "      <td>20</td>\n",
       "      <td>110</td>\n",
       "      <td>M</td>\n",
       "    </tr>\n",
       "  </tbody>\n",
       "</table>\n",
       "</div>"
      ],
      "text/plain": [
       "        Age  Weight Gender\n",
       "Name                      \n",
       "Bob      15      70      M\n",
       "Alice    18      50      F\n",
       "Maria    15      55      F\n",
       "John     12      85      M\n",
       "Kevin    14      68      M\n",
       "Donald   20     110      M"
      ]
     },
     "execution_count": 17,
     "metadata": {},
     "output_type": "execute_result"
    }
   ],
   "source": [
    "# место для кода\n",
    "smalldf"
   ]
  },
  {
   "cell_type": "code",
   "execution_count": 18,
   "metadata": {},
   "outputs": [
    {
     "data": {
      "text/html": [
       "<div>\n",
       "<style scoped>\n",
       "    .dataframe tbody tr th:only-of-type {\n",
       "        vertical-align: middle;\n",
       "    }\n",
       "\n",
       "    .dataframe tbody tr th {\n",
       "        vertical-align: top;\n",
       "    }\n",
       "\n",
       "    .dataframe thead th {\n",
       "        text-align: right;\n",
       "    }\n",
       "</style>\n",
       "<table border=\"1\" class=\"dataframe\">\n",
       "  <thead>\n",
       "    <tr style=\"text-align: right;\">\n",
       "      <th></th>\n",
       "      <th>Age</th>\n",
       "      <th>Weight</th>\n",
       "      <th>Gender</th>\n",
       "      <th>Salary</th>\n",
       "      <th>Education</th>\n",
       "    </tr>\n",
       "    <tr>\n",
       "      <th>Name</th>\n",
       "      <th></th>\n",
       "      <th></th>\n",
       "      <th></th>\n",
       "      <th></th>\n",
       "      <th></th>\n",
       "    </tr>\n",
       "  </thead>\n",
       "  <tbody>\n",
       "    <tr>\n",
       "      <th>Bob</th>\n",
       "      <td>15</td>\n",
       "      <td>70</td>\n",
       "      <td>M</td>\n",
       "      <td>100</td>\n",
       "      <td>5</td>\n",
       "    </tr>\n",
       "    <tr>\n",
       "      <th>Alice</th>\n",
       "      <td>18</td>\n",
       "      <td>50</td>\n",
       "      <td>F</td>\n",
       "      <td>150</td>\n",
       "      <td>10</td>\n",
       "    </tr>\n",
       "    <tr>\n",
       "      <th>Maria</th>\n",
       "      <td>15</td>\n",
       "      <td>55</td>\n",
       "      <td>F</td>\n",
       "      <td>110</td>\n",
       "      <td>7</td>\n",
       "    </tr>\n",
       "    <tr>\n",
       "      <th>John</th>\n",
       "      <td>12</td>\n",
       "      <td>85</td>\n",
       "      <td>M</td>\n",
       "      <td>90</td>\n",
       "      <td>3</td>\n",
       "    </tr>\n",
       "    <tr>\n",
       "      <th>Kevin</th>\n",
       "      <td>14</td>\n",
       "      <td>68</td>\n",
       "      <td>M</td>\n",
       "      <td>105</td>\n",
       "      <td>4</td>\n",
       "    </tr>\n",
       "  </tbody>\n",
       "</table>\n",
       "</div>"
      ],
      "text/plain": [
       "       Age  Weight Gender  Salary  Education\n",
       "Name                                        \n",
       "Bob     15      70      M     100          5\n",
       "Alice   18      50      F     150         10\n",
       "Maria   15      55      F     110          7\n",
       "John    12      85      M      90          3\n",
       "Kevin   14      68      M     105          4"
      ]
     },
     "execution_count": 18,
     "metadata": {},
     "output_type": "execute_result"
    }
   ],
   "source": [
    "otherdf = pd.DataFrame({'Salary': [100, 150, 110, 90, 105, 500], \n",
    "                        'Education': [5, 10, 7, 3, 4, 0]}, \n",
    "                        index=smalldf.index)\n",
    "\n",
    "completedf = smalldf.join(otherdf)\n",
    "completedf.head()"
   ]
  },
  {
   "cell_type": "code",
   "execution_count": null,
   "metadata": {},
   "outputs": [],
   "source": []
  },
  {
   "cell_type": "code",
   "execution_count": null,
   "metadata": {},
   "outputs": [],
   "source": []
  }
 ],
 "metadata": {
  "kernelspec": {
   "display_name": "Python 3",
   "language": "python",
   "name": "python3"
  },
  "language_info": {
   "codemirror_mode": {
    "name": "ipython",
    "version": 3
   },
   "file_extension": ".py",
   "mimetype": "text/x-python",
   "name": "python",
   "nbconvert_exporter": "python",
   "pygments_lexer": "ipython3",
   "version": "3.8.6"
  }
 },
 "nbformat": 4,
 "nbformat_minor": 2
}
