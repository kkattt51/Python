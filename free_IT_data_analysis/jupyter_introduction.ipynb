{
 "cells": [
  {
   "cell_type": "markdown",
   "metadata": {},
   "source": [
    "# Демо-блокнот для Jupyter"
   ]
  },
  {
   "cell_type": "markdown",
   "metadata": {},
   "source": [
    "В этой небольшой записной книжке представлены некоторые примеры того, как вы можете работать с Jupyter, и при этом напоминаются некоторые особенности Python.\n",
    "\n",
    "В Jupyter все происходит в «Ячейках». Если вы трижды щелкните (или нажмите Enter) на этом тексте, вы введете содержимое ячейки и увидите зеленую вертикальную полосу слева, указывающую, что ячейка является «активным», и вы можете его изменить."
   ]
  },
  {
   "cell_type": "markdown",
   "metadata": {},
   "source": [
    "### Ячейки Markdown\n",
    "\n",
    "Обратите внимание, что эта ячейка здесь является ячейкой *markdown*, что означает, что это просто форматированный текст с\n",
    "\n",
    "* *акцент*\n",
    "* **жирный**\n",
    "* заголовки (см. `#Demo notebook` вверху, вы получите заголовки более низкого уровня, добавив`#` so `##Subtitle`)\n",
    "* маркеры\n",
    "\n",
    "Вы также можете отображать:\n",
    "\n",
    "* код, заключив что-либо в обратные кавычки, например: `x = 5`\n",
    "* отображать код, окружая блок кода тройными обратными кавычками\n",
    "\n",
    "```python\n",
    "print(\"Hello world!\")\n",
    "```\n",
    "\n",
    "* математические выражения (если вы знаете LaTeX), заключив выражение в знаки доллара, например $\\sqrt{x^2}=|x|$\n",
    "* отображать математические выражения, заключив выражение в два знака доллара\n",
    "\n",
    "$$\n",
    "\\exp(i\\pi) + 1 = 0\n",
    "$$\n",
    "\n",
    "* И даже функции HTML, такие как <font color = 'red'> color </font>"
   ]
  },
  {
   "cell_type": "markdown",
   "metadata": {},
   "source": [
    "### Кодовые ячейки\n",
    "\n",
    "По умолчанию при создании ячейки являются ячейками кода (исполняемый код Python, который вы можете запустить). Результат показан под ячейкой почти так же, как если бы вы были в терминале python. Фактически, в записной книжке используется [`IPython.display.display()`](https://ipython.readthedocs.io/en/stable/api/generated/IPython.display.html?highlight=display#IPython.display.display), чтобы выбрать способ форматирования вывода.\n",
    "\n",
    "Чтобы запустить ячейку, вам нужно нажать ** SHIFT + ENTER ** или ** CTRL + ENTER ** (эффект немного отличается, первая выполняется, затем переходит в следующую ячейку, где выполняется вторая, и остается в текущей ячейке)\n",
    "\n",
    "Например, запустите ячейки ниже."
   ]
  },
  {
   "cell_type": "code",
   "execution_count": 29,
   "metadata": {},
   "outputs": [
    {
     "data": {
      "text/plain": [
       "'Bob'"
      ]
     },
     "execution_count": 29,
     "metadata": {},
     "output_type": "execute_result"
    }
   ],
   "source": [
    "# some python here\n",
    "my_dict = {'name': ['Alice', 'Bob', 'Ali'], 'gender': ['M', 'F']}\n",
    "my_dict['name'][0]  # this won't be shown\n",
    "my_dict['name'][1]"
   ]
  },
  {
   "cell_type": "code",
   "execution_count": 30,
   "metadata": {},
   "outputs": [
    {
     "data": {
      "text/plain": [
       "('Alice', 'Bob')"
      ]
     },
     "execution_count": 30,
     "metadata": {},
     "output_type": "execute_result"
    }
   ],
   "source": [
    "my_dict['name'][0], my_dict['name'][1]"
   ]
  },
  {
   "cell_type": "code",
   "execution_count": 31,
   "metadata": {},
   "outputs": [
    {
     "name": "stdout",
     "output_type": "stream",
     "text": [
      "M\n",
      "F\n"
     ]
    },
    {
     "data": {
      "text/plain": [
       "'Alice'"
      ]
     },
     "execution_count": 31,
     "metadata": {},
     "output_type": "execute_result"
    }
   ],
   "source": [
    "print(my_dict['gender'][0])  # you can still call print and get output mid cell\n",
    "print(my_dict['gender'][1])\n",
    "my_dict['name'][0]"
   ]
  },
  {
   "cell_type": "markdown",
   "metadata": {},
   "source": [
    "Поэкспериментируйте с вышеуказанными ячейками, чтобы увидеть, когда что-то отображается, а когда нет."
   ]
  },
  {
   "cell_type": "code",
   "execution_count": 17,
   "metadata": {},
   "outputs": [
    {
     "name": "stdout",
     "output_type": "stream",
     "text": [
      "{'name': ['Alice', 'Bob', 'Ali'], 'gender': ['M', 'F']}\n",
      "{'name': ['Alice', 'Bob', 'Ali'], 'gender': ['M', 'F']}\n"
     ]
    }
   ],
   "source": [
    "print(my_dict)\n",
    "print(my_dict)"
   ]
  },
  {
   "cell_type": "markdown",
   "metadata": {},
   "source": [
    "## Переход с Markdown на Code + Горячие Клавиши (hot keys)\n",
    "\n",
    "Если вы хотите, чтобы ячейка интерпретировалась как разметка (форматированный текст) вместо кода Python, нажмите **ESC, затем M**. Чтобы интерпретировать его как код (по умолчанию), нажмите **ESC, затем Y**.\n",
    "Клавиша **ESC** открывает \"командный\" режим записной книжки Jupyter.\n",
    "Если вы нажмете его в активной ячейке, вы увидите, что вертикальная зеленая полоса слева станет синей.\n",
    "Когда вы находитесь в «синем режиме», есть ряд полезных команд.\n",
    "\n",
    "* **A** добавить ячейку над текущей\n",
    "* **B** добавить ячейку ниже текущей\n",
    "* **M** режим Markdown\n",
    "* **Y** режим Code\n",
    "* **D-D** удалить ячейку\n",
    "\n",
    "Снова нажмите `esc` +` h`, чтобы просмотреть полный список горячих клавиш."
   ]
  },
  {
   "cell_type": "markdown",
   "metadata": {},
   "source": [
    "_Попробуйте добавить ячейки ниже и выше с помощью ярлыков, а затем удалите их. _"
   ]
  },
  {
   "cell_type": "markdown",
   "metadata": {},
   "source": [
    "## Информация о Jupyter\n",
    "\n",
    "Вы можете увидеть номер рядом с каждой ячейкой кода. Это показывает порядок, в котором они были выполнены. Как правило, для удобочитаемости и во избежание ошибок вам нужно, чтобы ваши записные книжки читали сверху вниз.\n",
    "\n",
    "Все, что происходит, - это *ядро*, работающее в фоновом режиме, с которым взаимодействуют точно так же, как с обычным сеансом терминала python. Например, если вы выполнили ячейку кода раньше и создали переменную, она все равно будет доступна вам, когда вы выполните другую ячейку позже."
   ]
  },
  {
   "cell_type": "code",
   "execution_count": 32,
   "metadata": {},
   "outputs": [
    {
     "data": {
      "text/plain": [
       "['M', 'F']"
      ]
     },
     "execution_count": 32,
     "metadata": {},
     "output_type": "execute_result"
    }
   ],
   "source": [
    "# re-access the dictionary from earlier\n",
    "\n",
    "my_dict['gender']"
   ]
  },
  {
   "cell_type": "markdown",
   "metadata": {},
   "source": [
    "## Могу ли я все делать в Jupyter?\n",
    "\n",
    "Практически да. Это очень полезно для хранения графиков и заметок в одном месте. Это очень полезно, если вы выполняете код на сервере, который не является локальным (просмотр графиков или прослушивание звука может быть проблемой). Вот еще несколько примеров для выполнения."
   ]
  },
  {
   "cell_type": "code",
   "execution_count": 33,
   "metadata": {},
   "outputs": [],
   "source": [
    "import matplotlib.pyplot as plt\n",
    "import numpy as np"
   ]
  },
  {
   "cell_type": "code",
   "execution_count": 34,
   "metadata": {},
   "outputs": [
    {
     "data": {
      "text/plain": [
       "<matplotlib.legend.Legend at 0x7f05fa0d36d8>"
      ]
     },
     "execution_count": 34,
     "metadata": {},
     "output_type": "execute_result"
    },
    {
     "data": {
      "image/png": "[encoded data removed]",
      "text/plain": [
       "<Figure size 432x288 with 1 Axes>"
      ]
     },
     "metadata": {
      "needs_background": "light"
     },
     "output_type": "display_data"
    }
   ],
   "source": [
    "plt.plot(np.arange(9), label='line1')\n",
    "plt.plot(np.arange(3)[::-1], label='line2')\n",
    "plt.legend()"
   ]
  },
  {
   "cell_type": "code",
   "execution_count": 35,
   "metadata": {},
   "outputs": [],
   "source": [
    "import IPython.display"
   ]
  },
  {
   "cell_type": "code",
   "execution_count": 37,
   "metadata": {
    "scrolled": false
   },
   "outputs": [
    {
     "data": {
      "text/plain": [
       "[1, 2, 3]"
      ]
     },
     "metadata": {},
     "output_type": "display_data"
    },
    {
     "name": "stdout",
     "output_type": "stream",
     "text": [
      "[[ 0  1  2  3]\n",
      " [ 4  5  6  7]\n",
      " [ 8  9 10 11]\n",
      " [12 13 14 15]]\n"
     ]
    },
    {
     "data": {
      "text/plain": [
       "array([[ 0,  1,  2,  3],\n",
       "       [ 4,  5,  6,  7],\n",
       "       [ 8,  9, 10, 11],\n",
       "       [12, 13, 14, 15]])"
      ]
     },
     "metadata": {},
     "output_type": "display_data"
    },
    {
     "data": {
      "text/plain": [
       "'you can call the display method manually'"
      ]
     },
     "metadata": {},
     "output_type": "display_data"
    }
   ],
   "source": [
    "X = np.arange(16).reshape(4,4)\n",
    "IPython.display.display([1,2,3])\n",
    "print(X)\n",
    "IPython.display.display(X)\n",
    "IPython.display.display(\"you can call the display method manually\")"
   ]
  },
  {
   "cell_type": "code",
   "execution_count": 38,
   "metadata": {},
   "outputs": [
    {
     "data": {
      "text/html": [
       "\n",
       "                <audio controls=\"controls\" >\n",
       "                    <source src=\"data:audio/wav;base64,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\" type=\"audio/wav\" />\n",
       "                    Your browser does not support the audio element.\n",
       "                </audio>\n",
       "              "
      ],
      "text/plain": [
       "<IPython.lib.display.Audio object>"
      ]
     },
     "execution_count": 38,
     "metadata": {},
     "output_type": "execute_result"
    },
    {
     "data": {
      "image/png": "[encoded data removed]",
      "text/plain": [
       "<Figure size 432x288 with 1 Axes>"
      ]
     },
     "metadata": {
      "needs_background": "light"
     },
     "output_type": "display_data"
    }
   ],
   "source": [
    "# you can even display and listen to audio nicely\n",
    "sample_rate = 10000\n",
    "frequency = 440  # concert A\n",
    "wave = np.sin(np.linspace(0, frequency, sample_rate)*2*np.pi)\n",
    "plt.plot(wave[:100])\n",
    "IPython.display.Audio(wave, rate=sample_rate)"
   ]
  },
  {
   "cell_type": "markdown",
   "metadata": {},
   "source": [
    "## Получение помощи в Jupyter\n",
    "\n",
    "В Jupyter следует отметить две чрезвычайно полезных вещи:\n",
    "\n",
    "* **Завершение Клавишей ТАБ**, введите имя переменной, функции или метода и нажмите **ТАБ** для автозаполнения. Привыкайте к этому, так как это может сделать вас намного быстрее и избежать надоедливых опечаток.\n",
    "* ** help ** и **?** для доступа к документации\n",
    "\n",
    "```python\n",
    "help(print)\n",
    "```\n",
    "\n",
    "отобразит документацию функции `print`\n",
    "\n",
    "```python\n",
    "?print\n",
    "```\n",
    "\n",
    "будет делать то же самое"
   ]
  },
  {
   "cell_type": "code",
   "execution_count": 39,
   "metadata": {},
   "outputs": [],
   "source": [
    "learning = \"abracadabra\"\n",
    "learning2 = \"more abracadabra\""
   ]
  },
  {
   "cell_type": "code",
   "execution_count": 40,
   "metadata": {},
   "outputs": [],
   "source": [
    "import pandas as pd\n",
    "\n",
    "df = pd.DataFrame(data=[])"
   ]
  },
  {
   "cell_type": "code",
   "execution_count": 41,
   "metadata": {},
   "outputs": [],
   "source": [
    "?df.append"
   ]
  },
  {
   "cell_type": "markdown",
   "metadata": {},
   "source": [
    "## Сообщения об ошибках в Jupyter\n",
    "\n",
    "Следует иметь в виду, что когда вы видите большое сообщение об ошибке в Jupyter, вы должны * прокрутить вниз *, **последняя строка** обычно говорит вам, что пошло не так!"
   ]
  },
  {
   "cell_type": "code",
   "execution_count": 42,
   "metadata": {},
   "outputs": [
    {
     "ename": "IndexError",
     "evalue": "list index out of range",
     "output_type": "error",
     "traceback": [
      "\u001b[0;31m---------------------------------------------------------------------------\u001b[0m",
      "\u001b[0;31mIndexError\u001b[0m                                Traceback (most recent call last)",
      "\u001b[0;32m<ipython-input-42-03cb4b5138f1>\u001b[0m in \u001b[0;36m<module>\u001b[0;34m()\u001b[0m\n\u001b[1;32m      1\u001b[0m \u001b[0mblist\u001b[0m \u001b[0;34m=\u001b[0m \u001b[0;34m[\u001b[0m\u001b[0;36m1\u001b[0m\u001b[0;34m,\u001b[0m \u001b[0;36m2\u001b[0m\u001b[0;34m,\u001b[0m \u001b[0;36m3\u001b[0m\u001b[0;34m]\u001b[0m\u001b[0;34m\u001b[0m\u001b[0m\n\u001b[0;32m----> 2\u001b[0;31m \u001b[0mblist\u001b[0m\u001b[0;34m[\u001b[0m\u001b[0;36m3\u001b[0m\u001b[0;34m]\u001b[0m\u001b[0;34m\u001b[0m\u001b[0m\n\u001b[0m",
      "\u001b[0;31mIndexError\u001b[0m: list index out of range"
     ]
    }
   ],
   "source": [
    "blist = [1, 2, 3]\n",
    "blist[3]"
   ]
  },
  {
   "cell_type": "markdown",
   "metadata": {},
   "source": [
    "Здесь последняя строка ясно указывает на то, что мы ошиблись в индексе. Сообщение довольно короткое, поэтому его довольно легко, но нередко можно получить довольно длинное сообщение об ошибке, и в этом случае полезно не забыть сначала проверить нижнюю строку!"
   ]
  },
  {
   "cell_type": "markdown",
   "metadata": {},
   "source": [
    "## Когда что-то идет не так ...\n",
    "\n",
    "Иногда вы, возможно, сделали ошибку или что-то пошло не так и Jupyter блокируется.\n",
    "Обычно вы заметите, что вместо числа рядом с ячейкой кода у вас есть звездочка: `[*]`, означающая «это вычисляет».\n",
    "Теперь, если это большое вычисление, это не проблема, но если вы ожидали, что оно будет довольно быстрым, это может означать, что сеанс Jupyter завис.\n",
    "Если вы думаете, что это так,\n",
    "\n",
    "* нажмите \"Kernel\" в меню\n",
    "* нажмите \"Restart\"\n",
    "* вам нужно будет повторно выполнить все ячейки до той точки, в которой вы были"
   ]
  },
  {
   "cell_type": "code",
   "execution_count": null,
   "metadata": {},
   "outputs": [],
   "source": []
  }
 ],
 "metadata": {
  "kernelspec": {
   "display_name": "Python 3",
   "language": "python",
   "name": "python3"
  },
  "language_info": {
   "codemirror_mode": {
    "name": "ipython",
    "version": 3
   },
   "file_extension": ".py",
   "mimetype": "text/x-python",
   "name": "python",
   "nbconvert_exporter": "python",
   "pygments_lexer": "ipython3",
   "version": "3.7.0"
  }
 },
 "nbformat": 4,
 "nbformat_minor": 2
}
